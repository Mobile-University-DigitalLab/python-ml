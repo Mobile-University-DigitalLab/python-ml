{
 "cells": [
  {
   "cell_type": "markdown",
   "source": [
    "# Variablen\n",
    "## Was sind Variablen?\n",
    "Wäre es nicht praktisch, wenn man all die Ausgaben der vorigen Lektion (also z.B. 4+2) auch zwischenspeichern kann?\n",
    "\n",
    "=> Hierfür gibt es Variablen.\n",
    "=> Sie können Zahlen, Texte, aber z.B. auch eine Liste oder Bilder speichern.\n",
    "=> Speichert man einen Wert in einer Variablen, dann sagt man auch \"Man weist einer Variablen einen Wert zu\".\n",
    "=> Links steht immer die Variable.\n",
    "![image](../img/variable.png)\n",
    "\n",
    "### Aufgabe\n",
    "Probieren Sie es gleich aus!\n",
    "=> Erstellen Sie eine Variable mit Namen \"ergebnis\" und weisen Sie ihr den Wert 10 geteilt durch 5 zu.\n",
    "=> Warum wird nichts ausgegeben?\n",
    "=> Geben Sie dann den Wert der Variable in der Konsole an!"
   ],
   "metadata": {
    "collapsed": false
   }
  },
  {
   "cell_type": "code",
   "execution_count": null,
   "outputs": [],
   "source": [
    "# Erstellen Sie eine Variable mit Namen \"ergebnis\" und weisen Sie ihr den Wert 10 geteilt durch 5 zu.\n",
    "\n"
   ],
   "metadata": {
    "collapsed": false
   }
  },
  {
   "cell_type": "code",
   "execution_count": null,
   "outputs": [],
   "source": [
    "# Zeigen Sie nun den berechneten Wert in der Konsole an!\n",
    "\n"
   ],
   "metadata": {
    "collapsed": false
   }
  },
  {
   "cell_type": "markdown",
   "source": [
    "## Benennung von Variablen\n",
    "\n",
    "Für die Benennung von Variablen gelten strenge Regeln.\n",
    "Der Name einer Variablen wird auch \"Bezeichner\" (engl.: identifier) genannt.\n",
    "\n",
    "* Bezeichner können keine Schlüsselwörter sein.\n",
    "* Bei Bezeichnern wird zwischen Groß- und Kleinschreibung unterschieden.\n",
    "* Bezeichner können aus einer Folge von Buchstaben und Ziffern bestehen. Er muss jedoch mit einem Buchstaben oder _ beginnen. Der erste Buchstabe eines Bezeichners kann keine Ziffer sein.\n",
    "* Es ist eine Konvention, einen Bezeichner mit einem Buchstaben und nicht mit _ zu beginnen.\n",
    "* Leerzeichen sind nicht erlaubt.\n",
    "* Sonderzeichen wie !, @, #, $ usw. dürfen nicht verwendet werden.\n",
    "\n",
    "![image](../img/bezeichner.png)\n",
    "\n",
    "=> Sehen Sie sich den nachfolgenden Code an. Warum funktioniert er nicht?"
   ],
   "metadata": {
    "collapsed": false
   }
  },
  {
   "cell_type": "code",
   "execution_count": null,
   "outputs": [],
   "source": [
    "# Sehen Sie sich den nachfolgenden Code an. Warum funktioniert er nicht?\n",
    "ergebnis = 4 * 2\n",
    "print(Ergebnis)"
   ],
   "metadata": {
    "collapsed": false
   }
  },
  {
   "cell_type": "markdown",
   "source": [
    "## Stilvolle Bezeichner\n",
    "\n",
    "Es gibt einige Konventionen für Bezeichner.\n",
    "=> Die wichtigste ist der sogenannte snake_case.\n",
    "=> hierbei wird alles klein geschrieben und durh Unterstriche verbunden.\n",
    "\n",
    "![image](../img/snake_case.png)"
   ],
   "metadata": {
    "collapsed": false
   }
  },
  {
   "cell_type": "markdown",
   "source": [
    "## Mit Variablen Arbeiten\n",
    "\n",
    "Mit Variablen kann man nun arbeiten, wie wir das zuvor mit Zahlen oder Strings gemacht haben.\n"
   ],
   "metadata": {
    "collapsed": false
   }
  },
  {
   "cell_type": "code",
   "execution_count": null,
   "outputs": [],
   "source": [
    "# Betrachten Sie nachfolgenden Code, was wird ausgegeben?\n",
    "eins = 1\n",
    "zwei = 2\n",
    "print(eins + zwei)\n",
    "print(eins - zwei)\n",
    "print(eins * zwei)\n",
    "print(eins / zwei)"
   ],
   "metadata": {
    "collapsed": false
   }
  },
  {
   "cell_type": "code",
   "execution_count": null,
   "outputs": [],
   "source": [
    "# Betrachten Sie nachfolgenden Code, was wird ausgegeben?\n",
    "drei = 3\n",
    "a = \"A\"\n",
    "b = \"B\"\n",
    "print(a + b)\n",
    "print(drei * a)"
   ],
   "metadata": {
    "collapsed": false
   }
  },
  {
   "cell_type": "markdown",
   "source": [
    "# Strings\n",
    "\n",
    "Texte werden in Programmiersprachen häufig als \"String\" (aus dem Englischen: \"Kette\") bezeichnet.\n",
    "\n",
    "Es geht also um Zeichenketten. Diese werden durch Anführungszeichen dargestellt."
   ],
   "metadata": {
    "collapsed": false
   }
  },
  {
   "cell_type": "markdown",
   "source": [
    "## Anführungzeichen\n",
    "\n",
    "Python kenn einfache ' und doppelte \" Anführungszeichen.\n",
    "\n",
    "Beide sind erlaubt, um Strings (also Text) einzugeben.\n",
    "\n",
    "Soll ein Text Anführungszeichen enthalten, dann können Sie gemischt werden.\n",
    "\n",
    "Beispiel: \"Namen von Variablen werden auch 'Bezeichner' genannt.\"\n",
    "\n",
    "### Aufgabe\n",
    "\n",
    "=> Probieren Sie es aus und geben Sie den Text let's go aus."
   ],
   "metadata": {
    "collapsed": false
   }
  },
  {
   "cell_type": "code",
   "execution_count": null,
   "outputs": [],
   "source": [
    "# Probieren Sie es aus und geben Sie den Text let's go aus.\n",
    "\n"
   ],
   "metadata": {
    "collapsed": false
   }
  },
  {
   "cell_type": "markdown",
   "source": [
    "![image](../img/string.png)\n",
    "\n",
    "\n",
    "\n",
    "## Strings sind sogenannte Arrays\n",
    "\n",
    "Ein Array (engl.: Reihe, Sortiment) ist eine Möglichkeit, mehrere Werte in einer einzigen Variablen zu speichern.\n",
    "\n",
    "#### Hierbei wird von 0 beginnend gezählt.\n",
    "\n",
    "\n",
    "![image](../img/text_array.png)\n",
    "\n",
    "Das können wir selbst programmieren!"
   ],
   "metadata": {
    "collapsed": false
   }
  },
  {
   "cell_type": "code",
   "execution_count": null,
   "outputs": [],
   "source": [
    "# Wir geben die Buchstaben eines Wortes als einzelne Zeichen aus:\n",
    "\n",
    "string_variable = \"Mein Text\"\n",
    "for zeichen in string_variable:\n",
    "    print(zeichen)"
   ],
   "metadata": {
    "collapsed": false
   }
  },
  {
   "cell_type": "markdown",
   "source": [
    "Weil Strings Arrays sind, können wir auf jeden Buchstaben einzeln zugreifen:\n"
   ],
   "metadata": {
    "collapsed": false
   }
  },
  {
   "cell_type": "code",
   "execution_count": null,
   "outputs": [],
   "source": [
    "# Gib den achten Buchstaben aus:\n",
    "\n",
    "string_variable = \"Mein Text\"\n",
    "print(string_variable[7])"
   ],
   "metadata": {
    "collapsed": false
   }
  },
  {
   "cell_type": "markdown",
   "source": [
    "### Aufgabe\n",
    "\n",
    "=> warum programmieren wir nicht print(string_variable[8])?\n",
    "=> Betrachten Sie nachfolgendes Beispiel. Warum scheitert der Code?"
   ],
   "metadata": {
    "collapsed": false
   }
  },
  {
   "cell_type": "code",
   "execution_count": null,
   "outputs": [],
   "source": [
    "# Betrachten Sie nachfolgendes Beispiel. Warum scheitert der Code?\n",
    "\n",
    "string_variable = \"Mein Text\"\n",
    "print(string_variable[9])"
   ],
   "metadata": {
    "collapsed": false
   }
  },
  {
   "cell_type": "code",
   "execution_count": null,
   "outputs": [],
   "source": [
    "# Wir können die Länge eines Textes berechnen\n",
    "\n",
    "string_variable = \"Mein Text\"\n",
    "print (len(string_variable))"
   ],
   "metadata": {
    "collapsed": false
   }
  },
  {
   "cell_type": "code",
   "execution_count": null,
   "outputs": [],
   "source": [
    "# Zugriff auf das letzte Zeichen eines Textes:\n",
    "\n",
    "string_variable = \"Mein Text\"\n",
    "print (string_variable[-1])"
   ],
   "metadata": {
    "collapsed": false
   }
  },
  {
   "cell_type": "code",
   "execution_count": null,
   "outputs": [],
   "source": [
    "# Zugriff auf einen Bereich von Zeichen eines Textes:\n",
    "\n",
    "string_variable = \"Mein Text\"\n",
    "print (string_variable[5:9])\n",
    "print (string_variable[-9:-5])"
   ],
   "metadata": {
    "collapsed": false
   }
  },
  {
   "cell_type": "code",
   "execution_count": null,
   "outputs": [],
   "source": [
    "# Text rückwärts ausgeben\n",
    "\n",
    "print (string_variable[::-1])"
   ],
   "metadata": {
    "collapsed": false
   }
  },
  {
   "cell_type": "markdown",
   "source": [
    "## String Funktionen\n",
    "\n",
    "Strings sind eigentlich Objekte. Objekte können nicht nur Werte speichern, sondern auch eigene Fähigkeiten haben.\n",
    "Hier einige Beispiele für Fähigkeiten (also Funktionen), die für String zur Verfügung stehen:\n"
   ],
   "metadata": {
    "collapsed": false
   }
  },
  {
   "cell_type": "code",
   "execution_count": null,
   "outputs": [],
   "source": [
    "string_variable = \"Mein Text\"\n",
    "print(string_variable)\n",
    "print(string_variable.upper())\n",
    "print(string_variable.lower())\n",
    "print(string_variable.lower().capitalize())"
   ],
   "metadata": {
    "collapsed": false
   }
  },
  {
   "cell_type": "markdown",
   "source": [
    "# Aufgaben"
   ],
   "metadata": {
    "collapsed": false
   }
  },
  {
   "cell_type": "code",
   "execution_count": null,
   "outputs": [],
   "source": [
    "# Speichern Sie den Text \"Python forever\" in einer variablen\n",
    "\n"
   ],
   "metadata": {
    "collapsed": false
   }
  },
  {
   "cell_type": "code",
   "execution_count": null,
   "outputs": [],
   "source": [
    "# Geben Sie das letzte Zeichen des Textes aus\n",
    "\n"
   ],
   "metadata": {
    "collapsed": false
   }
  },
  {
   "cell_type": "code",
   "execution_count": null,
   "outputs": [],
   "source": [
    "# Wandeln Sie den Text in Kleinschreibung um\n",
    "\n"
   ],
   "metadata": {
    "collapsed": false
   }
  },
  {
   "cell_type": "code",
   "execution_count": null,
   "outputs": [],
   "source": [
    "# Verwenden Sie zwei Variablen, um deren Produkt auszugeben\n",
    "\n"
   ],
   "metadata": {
    "collapsed": false
   }
  },
  {
   "cell_type": "code",
   "execution_count": null,
   "outputs": [],
   "source": [
    "# Geben Sie 50 mal den Text \"Python\" aus.\n",
    "\n"
   ],
   "metadata": {
    "collapsed": false
   }
  },
  {
   "cell_type": "code",
   "execution_count": null,
   "outputs": [],
   "source": [
    "# Geben Sie die Zeichen 8 bis 14 des Textes aus\n",
    "\n"
   ],
   "metadata": {
    "collapsed": false
   }
  },
  {
   "cell_type": "code",
   "execution_count": null,
   "outputs": [],
   "source": [],
   "metadata": {
    "collapsed": false
   }
  }
 ],
 "metadata": {
  "kernelspec": {
   "display_name": "Python 3",
   "language": "python",
   "name": "python3"
  },
  "language_info": {
   "codemirror_mode": {
    "name": "ipython",
    "version": 2
   },
   "file_extension": ".py",
   "mimetype": "text/x-python",
   "name": "python",
   "nbconvert_exporter": "python",
   "pygments_lexer": "ipython2",
   "version": "2.7.6"
  }
 },
 "nbformat": 4,
 "nbformat_minor": 0
}
