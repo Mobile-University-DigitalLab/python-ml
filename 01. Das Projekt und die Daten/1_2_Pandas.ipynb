{
 "cells": [
  {
   "cell_type": "markdown",
   "source": [
    "# Projektstruktur\n",
    "Data Science Projekte sollten einer fest vorgegebenen Projektstruktur folgen. Diese Projektstruktur wird üblicherweise im Team als feste Konvention vereinbart und alle Projekte des Teams folgen dieser Struktur.\n",
    "\n",
    "Wir nutzen hier folgende Struktur:\n",
    "\n",
    "![Projektstruktur](../img/struktur.png)\n",
    "\n",
    "* Die nummerierten Ordner 01. 02. usw. enthalten die Jupyter Notebooks mit dem Code des Kurses.\n",
    "* Der Ordner data enthält Daten, die für die Beispiele benötigt werden.\n",
    "* Der Ordner img enthält Bilder, die in den Notesbooks angezeigt werden sollen.\n",
    "* Die übrigen Ordner und Dateien dienen dem Betrieb der Anwendungen.\n"
   ],
   "metadata": {
    "collapsed": false
   },
   "id": "952ace9a4f16fdb1"
  },
  {
   "cell_type": "markdown",
   "source": [
    "# Pandas\n",
    "\n",
    "Damit Sie Daten für das maschinelle Lernen (gut) nutzen können, benötigen Sie eine Datenstruktur, in der Sie die Daten hinterlegen können.\n",
    "Das Framework Pandas ist hierfür sehr gut geeignet, sofern die Datenmenge klein genug ist, um im Hauptspeicher Ihres Computers geladen zu werden. Dies ist für unser Beispiel der Fall.\n",
    "\n",
    "Folgende wichtige Funktionen werden von Pandas bereits von Haus aus bereitgestellt[^1]:\n",
    "\n",
    "* Laden von Daten aus unterschiedlichen Quellen (relationale Datenbank, Excel, CSV, ...).\n",
    "* Berechnen von grundlegenden statistischen Werten:\n",
    "    * Mittelwert, Median, Maximum oder Minimum einer Spalte.\n",
    "    * Korrelationen zwischen Spaltenwerten.\n",
    "    * Darstellung der Distribution von Werten in einer Spalte.\n",
    "* Entfernen von Zeilen mit fehlenden Werten.\n",
    "* Entfernen oder Hinzufügen von Spalten.\n",
    "* Bereinigen von Daten, z.B. Entfernen von Nullwerten.\n",
    "* Berechnungen mit Hilfe von Lambda-Funktionen auf einer ganzen Spalte ausführen.\n",
    "* Daten können mit Hilfe weiterer Bibliotheken, wie Syborn, matplotlib und anderen visualisiert werden.\n",
    "\n",
    "\n",
    "[^1]: Vgl. https://www.learndatasci.com/tutorials/python-pandas-tutorial-complete-introduction-for-beginners/"
   ],
   "metadata": {
    "collapsed": false
   },
   "id": "8b5e22f4c7b957b4"
  },
  {
   "cell_type": "markdown",
   "source": [
    "## Laden von Daten\n",
    "Zunächst wollen wir die Daten des Beispiels aus dem Pfad data/house-prices-advanced-regression-techniques/train.csv laden: "
   ],
   "metadata": {
    "collapsed": false
   },
   "id": "900acaffd5c0d367"
  },
  {
   "cell_type": "code",
   "execution_count": null,
   "outputs": [],
   "source": [
    "# Die Pandas Bibliothek muss installiert sein und wird hier über den import Befehl geladen.\n",
    "import pandas as pd\n",
    "\n",
    "# Hinweis: Der Pfadname ergibt sich aus der Projektstruktur\n",
    "df = pd.read_csv('../data/house-prices-advanced-regression-techniques/train.csv')"
   ],
   "metadata": {
    "collapsed": false
   },
   "id": "4d4579ac9182b5f9"
  },
  {
   "cell_type": "markdown",
   "source": [
    "## Anzeige der Daten\n",
    "\n",
    "Ein Pandas DataFrame (so heißt diese Datenstruktur) kann in einem Jupyter Notebook durch die schlichte Nennung (am Ende der Codezeile) angezeigt werden:"
   ],
   "metadata": {
    "collapsed": false
   },
   "id": "ce7a946bb9dad3c1"
  },
  {
   "cell_type": "code",
   "execution_count": null,
   "outputs": [],
   "source": [
    "df"
   ],
   "metadata": {
    "collapsed": false
   },
   "id": "5ef41e0283429261"
  },
  {
   "cell_type": "markdown",
   "source": [
    "## Einen Überblick verschaffen: Basis-Informationen\n",
    "\n",
    "DataFrames bieten einfache Funktionen zur Anzeige der wichtigsten Informationen. Das ist wichtig, um sich einen Überblick zu verschaffen:"
   ],
   "metadata": {
    "collapsed": false
   },
   "id": "59c0f7153e70ea21"
  },
  {
   "cell_type": "code",
   "execution_count": null,
   "outputs": [],
   "source": [
    "# Allgemeine Informationen ausgeben:\n",
    "# - Anzahl der Daten (Zeilen)\n",
    "# - Anzahl der Spalten\n",
    "# - Name und Datentyp der Spalten\n",
    "df.info()"
   ],
   "metadata": {
    "collapsed": false
   },
   "id": "483838261796bc8e"
  },
  {
   "cell_type": "code",
   "execution_count": null,
   "outputs": [],
   "source": [
    "# Dimensionen (Zeilen|Spalten) des DataFrames anzeigen:\n",
    "\n",
    "df.shape"
   ],
   "metadata": {
    "collapsed": false
   },
   "id": "80b42bdb0130c278"
  },
  {
   "cell_type": "code",
   "execution_count": null,
   "outputs": [],
   "source": [
    "# Bestimmte Daten anzeigen\n",
    "\n",
    "df.head(10)"
   ],
   "metadata": {
    "collapsed": false
   },
   "id": "8a54319e3f16bde4"
  },
  {
   "cell_type": "code",
   "execution_count": null,
   "outputs": [],
   "source": [
    "df.tail(10)"
   ],
   "metadata": {
    "collapsed": false
   },
   "id": "61527088713a5005"
  },
  {
   "cell_type": "code",
   "execution_count": null,
   "outputs": [],
   "source": [
    "# Doppelte Zeilen finden\n",
    "\n",
    "df[df.duplicated()]"
   ],
   "metadata": {
    "collapsed": false
   },
   "id": "dada50f1043401a1"
  },
  {
   "cell_type": "code",
   "execution_count": null,
   "outputs": [],
   "source": [
    "# Doppelte Zeilen löschen, jeweils das erste|letzte Element behalten.\n",
    "\n",
    "df_no_duplicates = df.drop_duplicates(keep='first') # 'last'"
   ],
   "metadata": {
    "collapsed": false
   },
   "id": "4caf529cae7a379f"
  },
  {
   "cell_type": "markdown",
   "source": [
    "## Grundlegende statistische Informationen"
   ],
   "metadata": {
    "collapsed": false
   },
   "id": "f65306e0197b90c4"
  },
  {
   "cell_type": "code",
   "execution_count": null,
   "outputs": [],
   "source": [
    "# Liefert eine gute Übersicht über wichtige statistische Informationen\n",
    "# Das .T Attribut transponiert die Darstellung in eine besser lesbare Form\n",
    "df.describe().T\n"
   ],
   "metadata": {
    "collapsed": false
   },
   "id": "db6c4b2f24d2218"
  },
  {
   "cell_type": "markdown",
   "source": [
    "# Weitere Infos und grundlegende Operationen\n",
    "## Umgang mit Spalten"
   ],
   "metadata": {
    "collapsed": false
   },
   "id": "b2fead430572d05a"
  },
  {
   "cell_type": "code",
   "execution_count": null,
   "outputs": [],
   "source": [
    "# Spaltennamen\n",
    "df.columns"
   ],
   "metadata": {
    "collapsed": false
   },
   "id": "377680480e1d375b"
  },
  {
   "cell_type": "code",
   "execution_count": null,
   "outputs": [],
   "source": [
    "# Spalte selektieren\n",
    "df['Fireplaces']"
   ],
   "metadata": {
    "collapsed": false
   },
   "id": "a61d75ee588530f3"
  },
  {
   "cell_type": "code",
   "execution_count": null,
   "outputs": [],
   "source": [
    "# mehrere Spalten selektieren\n",
    "df[['Fireplaces','GarageType']]"
   ],
   "metadata": {
    "collapsed": false
   },
   "id": "deb7594e32e2c0c7"
  },
  {
   "cell_type": "code",
   "execution_count": 159,
   "outputs": [
    {
     "data": {
      "text/plain": "(1460, 2)"
     },
     "execution_count": 159,
     "metadata": {},
     "output_type": "execute_result"
    }
   ],
   "source": [
    "# Neuer DataFrame mit einem Subset von Spalten\n",
    "df_subset = df[['Fireplaces','SalePrice']].copy()\n",
    "df_subset.shape"
   ],
   "metadata": {
    "collapsed": false,
    "ExecuteTime": {
     "end_time": "2023-11-28T13:02:32.945365Z",
     "start_time": "2023-11-28T13:02:32.941957Z"
    }
   },
   "id": "29a66cf5bdb5965e"
  },
  {
   "cell_type": "code",
   "execution_count": 165,
   "outputs": [
    {
     "data": {
      "text/plain": "Index(['Anzahl Kamine', 'Verkaufspreis'], dtype='object')"
     },
     "execution_count": 165,
     "metadata": {},
     "output_type": "execute_result"
    }
   ],
   "source": [
    "# spalten umbenennen\n",
    "df_subset.rename(columns={\n",
    "        'Fireplaces': 'Anzahl Kamine', \n",
    "        'SalePrice': 'Verkaufspreis'\n",
    "    }, inplace=True)\n",
    "df_subset.columns"
   ],
   "metadata": {
    "collapsed": false,
    "ExecuteTime": {
     "end_time": "2023-11-28T13:03:45.015553Z",
     "start_time": "2023-11-28T13:03:45.011711Z"
    }
   },
   "id": "5b259c07b332c87e"
  },
  {
   "cell_type": "code",
   "execution_count": 166,
   "outputs": [
    {
     "data": {
      "text/plain": "0       65.0\n1       80.0\n2       68.0\n3       60.0\n4       84.0\n        ... \n1455    62.0\n1456    85.0\n1457    66.0\n1458    68.0\n1459    75.0\nName: LotFrontage, Length: 1460, dtype: float64"
     },
     "execution_count": 166,
     "metadata": {},
     "output_type": "execute_result"
    }
   ],
   "source": [
    "# Spalten nach Nummer selektieren:\n",
    "df.iloc[:,3] # vierte Spalte"
   ],
   "metadata": {
    "collapsed": false,
    "ExecuteTime": {
     "end_time": "2023-11-28T13:03:48.245930Z",
     "start_time": "2023-11-28T13:03:48.242415Z"
    }
   },
   "id": "92755ffd26e07e57"
  },
  {
   "cell_type": "code",
   "execution_count": null,
   "outputs": [],
   "source": [
    "# Spalten-Range - Spalten 6-8 (mit Index 5..7)\n",
    "df.iloc[:,5:8]"
   ],
   "metadata": {
    "collapsed": false
   },
   "id": "9221ca3f02cbf137"
  },
  {
   "cell_type": "code",
   "execution_count": null,
   "outputs": [],
   "source": [
    "# Range von Spalten selektieren\n",
    "df[df.index.isin(range(2,10))]"
   ],
   "metadata": {
    "collapsed": false
   },
   "id": "7da73bbffc53f311"
  },
  {
   "cell_type": "markdown",
   "source": [
    "## Umgang mit Zeilen"
   ],
   "metadata": {
    "collapsed": false
   },
   "id": "b1aab9991ce09037"
  },
  {
   "cell_type": "code",
   "execution_count": null,
   "outputs": [],
   "source": [
    "df.iloc[0] # Erste Zeile\n",
    "df.iloc[1] # Zweite Zeile\n",
    "df.iloc[-1] # Letzte Zeile"
   ],
   "metadata": {
    "collapsed": false
   },
   "id": "d80a8c57ae4495c4"
  },
  {
   "cell_type": "code",
   "execution_count": null,
   "outputs": [],
   "source": [
    "df.iloc[0:5,3:9] # Zeilen 1 bis 5 (mit Index 0..4) und Spalten vier bis neun (mit Index 3..8)"
   ],
   "metadata": {
    "collapsed": false
   },
   "id": "c01464489bafc876"
  },
  {
   "cell_type": "code",
   "execution_count": null,
   "outputs": [],
   "source": [
    "# Zeilen filtern - Daten bei denen der Hauspreis > als 700 Tausend ist.\n",
    "df[df.SalePrice > 700000]"
   ],
   "metadata": {
    "collapsed": false
   },
   "id": "92719dbc4b9244ed"
  },
  {
   "cell_type": "code",
   "execution_count": null,
   "outputs": [],
   "source": [
    "# Durch die Filter-Operation wird das Original nicht verändert!!!\n",
    "print(df.shape)"
   ],
   "metadata": {
    "collapsed": false
   },
   "id": "f57e98dd74388d23"
  },
  {
   "cell_type": "code",
   "execution_count": null,
   "outputs": [],
   "source": [
    "df[df.SalePrice > 700000].describe().T"
   ],
   "metadata": {
    "collapsed": false
   },
   "id": "fc2a593422262883"
  },
  {
   "cell_type": "markdown",
   "source": [
    "## Spalten (dauerhaft) löschen"
   ],
   "metadata": {
    "collapsed": false
   },
   "id": "46fce49a20c8c170"
  },
  {
   "cell_type": "code",
   "execution_count": null,
   "outputs": [],
   "source": [
    "df_demo = df.copy() # Wir wollen nicht unser Original bearbeiten\n",
    "print (df_demo.shape)\n",
    "\n",
    "del df_demo['Fireplaces']\n",
    "\n",
    "# Durch den del Befehl werden die Spalten dauerhaft gelöscht!\n",
    "print (df_demo.shape)"
   ],
   "metadata": {
    "collapsed": false
   },
   "id": "63d811225ca9f524"
  },
  {
   "cell_type": "markdown",
   "source": [
    "## Zeilen (dauerhaft) löschen"
   ],
   "metadata": {
    "collapsed": false
   },
   "id": "b7331b718897b973"
  },
  {
   "cell_type": "code",
   "execution_count": null,
   "outputs": [],
   "source": [
    "df_demo = df.copy() # Wir wollen nicht unser Original bearbeiten\n",
    "indexNames = df[(df['SalePrice'] >= 300000) & (df['SalePrice'] <= 350000)].index\n",
    "\n",
    "print(df_demo.shape)\n",
    "\n",
    "df_demo.drop(indexNames, inplace=True)\n",
    "\n",
    "print(df_demo.shape)\n",
    "\n",
    "print (df_demo[(df_demo['SalePrice'] >= 300000) & (df_demo['SalePrice'] <= 350000)].shape) # Die gelöschen Zeilen sind endgültig entfernt"
   ],
   "metadata": {
    "collapsed": false
   },
   "id": "2692829a9affa657"
  },
  {
   "cell_type": "code",
   "execution_count": null,
   "outputs": [],
   "source": [],
   "metadata": {
    "collapsed": false
   },
   "id": "1dba9dbc73656739"
  }
 ],
 "metadata": {
  "kernelspec": {
   "display_name": "Python 3",
   "language": "python",
   "name": "python3"
  },
  "language_info": {
   "codemirror_mode": {
    "name": "ipython",
    "version": 2
   },
   "file_extension": ".py",
   "mimetype": "text/x-python",
   "name": "python",
   "nbconvert_exporter": "python",
   "pygments_lexer": "ipython2",
   "version": "2.7.6"
  }
 },
 "nbformat": 4,
 "nbformat_minor": 5
}
