{
 "cells": [
  {
   "cell_type": "markdown",
   "source": [
    "# Take Control!\n",
    "## Schleifen\n",
    "\n",
    "Schleifen dienen in der Programmierung dazu, Dinge zu wiederholen.\n",
    "Hierfür gibt es zwei  Typen:\n",
    "\n",
    "- Die For-Schleife\n",
    "    Die For-Schleife wiederholt einen Code-Block für eine bestimmte Anzahl oder für bestimmte Elemente\n",
    "- Die While-Schleife\n",
    "    Die While-Schleife wiederholt einen Code-Block, solange eine Bedingung wahr ist.\n",
    "\n",
    "\n",
    "## Die For-Schleife\n",
    "\n",
    "![image](../img/for_loop.png)"
   ],
   "metadata": {
    "collapsed": false
   }
  },
  {
   "cell_type": "markdown",
   "source": [
    "In For-Schleife ist dafür das, über eine Liste zu 'iterieren', d.h. es wird für jedes Element der Liste wird der Code-Block ausgeführt."
   ],
   "metadata": {
    "collapsed": false
   }
  },
  {
   "cell_type": "code",
   "execution_count": 1,
   "outputs": [
    {
     "name": "stdout",
     "output_type": "stream",
     "text": [
      "1\n",
      "2\n",
      "3\n",
      "Mich seht ihr immer!\n"
     ]
    }
   ],
   "source": [
    "# Python for-loop\n",
    "liste=[1,2,3]\n",
    "for loop_var in liste:\n",
    "\t# Ausführen für alle Elemente in liste\n",
    "\tprint(loop_var)\n",
    "\n",
    "# Hier geht’s ganz normal weiter...\n",
    "print('Mich seht ihr immer!')\n"
   ],
   "metadata": {
    "collapsed": false
   }
  },
  {
   "cell_type": "markdown",
   "source": [
    "### Aufgabe:\n",
    "Schreiben Sie eine for-Schleife, die die Wörter 'Mobile' und 'University' nacheinander ausgibt.\n",
    "Tipp: Sie können in der Variablen 'liste' auch eine Liste von Strings speichern.\n"
   ],
   "metadata": {
    "collapsed": false
   }
  },
  {
   "cell_type": "code",
   "execution_count": 2,
   "outputs": [
    {
     "name": "stdout",
     "output_type": "stream",
     "text": [
      "Mobile\n",
      "University\n",
      "Mich seht ihr immer!\n"
     ]
    }
   ],
   "source": [
    "# Schreiben Sie eine for-Schleife, die die Wörter 'Mobile' und 'University' nacheinander ausgibt.\n",
    "# Tipp: Sie können in der Variablen 'liste' auch eine Liste von Strings speichern.\n",
    "\n",
    "liste=['Mobile', 'University']\n",
    "for loop_var in liste:\n",
    "\t# Ausführen für alle Elemente in liste\n",
    "\tprint(loop_var)\n",
    "\n",
    "# Hier geht’s ganz normal weiter...\n",
    "print('Mich seht ihr immer!')\n"
   ],
   "metadata": {
    "collapsed": false
   }
  },
  {
   "cell_type": "markdown",
   "source": [
    "## Die For-Schleife über einen 'Range'\n",
    "\n",
    "Wenn die Liste nicht aus expliziten Elementen besteht, sondern man es mit einem Bereich zu tun hat, dann kann der sogenannte range() benutzt werden.\n",
    "range() ist eine Funktion, die\n",
    "- einen Anfangsparameter hat. Der erste Wert des Range entspricht diesem Wert.\n",
    "- einen Endeparameter hat. Der letzte Wert des Range ist KLEINER als dieser Wert.\n",
    "- einen optionalen Schritt-Parameter hat, der angibt, in welchen Abständen gezählt wird."
   ],
   "metadata": {
    "collapsed": false
   }
  },
  {
   "cell_type": "code",
   "execution_count": 3,
   "outputs": [
    {
     "name": "stdout",
     "output_type": "stream",
     "text": [
      "0\n",
      "2\n",
      "4\n",
      "6\n",
      "8\n",
      "10\n",
      "12\n",
      "14\n",
      "16\n",
      "18\n",
      "20\n",
      "22\n",
      "24\n",
      "26\n",
      "28\n",
      "30\n",
      "32\n",
      "34\n",
      "36\n",
      "38\n",
      "40\n",
      "42\n",
      "Mich seht ihr immer!\n"
     ]
    }
   ],
   "source": [
    "# For-Schleife mit Range: 'Alle geraden Zahlen zwischen 0 und 42\n",
    "for loop_var in range(0,43,2):\n",
    "\t# Ausführen für alle Elemente in range\n",
    "\tprint(loop_var)\n",
    "\n",
    "# Hier geht’s ganz normal weiter...\n",
    "print('Mich seht ihr immer!')\n"
   ],
   "metadata": {
    "collapsed": false
   }
  },
  {
   "cell_type": "markdown",
   "source": [
    "### Tipp:\n",
    "\n",
    "Range kann auch nur einen Parameter haben:\n",
    "range(5) -> dies entspricht range (0,5,1)"
   ],
   "metadata": {
    "collapsed": false
   }
  },
  {
   "cell_type": "markdown",
   "source": [
    "## Die While-Schleife\n",
    "\n",
    "Die While-Schleife dient dazu, etwas zu wiederholen, solange eine Bedingung wahr ist.\n",
    "![image](../img/while_loop.png)"
   ],
   "metadata": {
    "collapsed": false
   }
  },
  {
   "cell_type": "code",
   "execution_count": 4,
   "outputs": [
    {
     "name": "stdout",
     "output_type": "stream",
     "text": [
      "Summe ist jetzt:  10\n",
      "Summe ist jetzt:  20\n",
      "Summe ist jetzt:  30\n",
      "Summe ist jetzt:  40\n",
      "Summe ist jetzt:  50\n",
      "Summe ist jetzt:  60\n",
      "Summe ist jetzt:  70\n",
      "Summe ist jetzt:  80\n",
      "Summe ist jetzt:  90\n",
      "Summe ist jetzt:  100\n",
      "Geschafft. Die Bedingung ist jetzt NICHT MEHR wahr!\n"
     ]
    }
   ],
   "source": [
    "summe = 0\n",
    "while summe < 100:\n",
    "\t# Ausführen:\n",
    "\tsumme = summe + 10\n",
    "\tprint('Summe ist jetzt: ', summe)\n",
    "\n",
    "# Hier geht’s ganz normal weiter...\n",
    "print('Geschafft. Die Bedingung ist jetzt NICHT MEHR wahr!')"
   ],
   "metadata": {
    "collapsed": false
   }
  },
  {
   "cell_type": "markdown",
   "source": [
    "### WICHTIGER Hinweis - Die Endlosschleife\n",
    "Die While-Schleife kann zu Endlosschleifen führen.\n",
    "\n",
    "=> Warum?"
   ],
   "metadata": {
    "collapsed": false
   }
  },
  {
   "cell_type": "code",
   "execution_count": 5,
   "outputs": [
    {
     "name": "stdout",
     "output_type": "stream",
     "text": [
      "Summe ist jetzt:  -10\n",
      "Summe ist jetzt:  -20\n",
      "Summe ist jetzt:  -30\n",
      "Summe ist jetzt:  -40\n",
      "Summe ist jetzt:  -50\n",
      "Summe ist jetzt:  -60\n",
      "Summe ist jetzt:  -70\n",
      "Summe ist jetzt:  -80\n",
      "Summe ist jetzt:  -90\n",
      "Summe ist jetzt:  -100\n",
      "Summe ist jetzt:  -110\n",
      "Summe ist jetzt:  -120\n",
      "Summe ist jetzt:  -130\n",
      "Summe ist jetzt:  -140\n",
      "Summe ist jetzt:  -150\n",
      "Summe ist jetzt:  -160\n",
      "Summe ist jetzt:  -170\n",
      "Summe ist jetzt:  -180\n",
      "Summe ist jetzt:  -190\n",
      "Summe ist jetzt:  -200\n",
      "Summe ist jetzt:  -210\n",
      "Summe ist jetzt:  -220\n",
      "Summe ist jetzt:  -230\n",
      "Summe ist jetzt:  -240\n",
      "Summe ist jetzt:  -250\n",
      "Summe ist jetzt:  -260\n",
      "Summe ist jetzt:  -270\n",
      "Summe ist jetzt:  -280\n",
      "Summe ist jetzt:  -290\n",
      "Summe ist jetzt:  -300\n",
      "Summe ist jetzt:  -310\n",
      "Summe ist jetzt:  -320\n",
      "Summe ist jetzt:  -330\n",
      "Summe ist jetzt:  -340\n",
      "Summe ist jetzt:  -350\n",
      "Summe ist jetzt:  -360\n",
      "Summe ist jetzt:  -370\n",
      "Summe ist jetzt:  -380\n",
      "Summe ist jetzt:  -390\n",
      "Summe ist jetzt:  -400\n",
      "Summe ist jetzt:  -410\n",
      "Summe ist jetzt:  -420\n",
      "Summe ist jetzt:  -430\n",
      "Summe ist jetzt:  -440\n",
      "Summe ist jetzt:  -450\n",
      "Summe ist jetzt:  -460\n",
      "Summe ist jetzt:  -470\n",
      "Summe ist jetzt:  -480\n",
      "Summe ist jetzt:  -490\n",
      "Summe ist jetzt:  -500\n",
      "Summe ist jetzt:  -510\n",
      "Summe ist jetzt:  -520\n",
      "Summe ist jetzt:  -530\n",
      "Summe ist jetzt:  -540\n",
      "Summe ist jetzt:  -550\n",
      "Summe ist jetzt:  -560\n",
      "Summe ist jetzt:  -570\n",
      "Summe ist jetzt:  -580\n",
      "Summe ist jetzt:  -590\n",
      "Summe ist jetzt:  -600\n",
      "Summe ist jetzt:  -610\n",
      "Summe ist jetzt:  -620\n",
      "Summe ist jetzt:  -630\n",
      "Summe ist jetzt:  -640\n",
      "Summe ist jetzt:  -650\n",
      "Summe ist jetzt:  -660\n",
      "Summe ist jetzt:  -670\n",
      "Summe ist jetzt:  -680\n",
      "Summe ist jetzt:  -690\n",
      "Summe ist jetzt:  -700\n",
      "Summe ist jetzt:  -710\n",
      "Summe ist jetzt:  -720\n",
      "Summe ist jetzt:  -730\n",
      "Summe ist jetzt:  -740\n",
      "Summe ist jetzt:  -750\n",
      "Summe ist jetzt:  -760\n",
      "Summe ist jetzt:  -770\n",
      "Summe ist jetzt:  -780\n",
      "Summe ist jetzt:  -790\n",
      "Summe ist jetzt:  -800\n",
      "Summe ist jetzt:  -810\n",
      "Summe ist jetzt:  -820\n",
      "Summe ist jetzt:  -830\n",
      "Summe ist jetzt:  -840\n",
      "Summe ist jetzt:  -850\n",
      "Summe ist jetzt:  -860\n",
      "Summe ist jetzt:  -870\n",
      "Summe ist jetzt:  -880\n",
      "Summe ist jetzt:  -890\n",
      "Summe ist jetzt:  -900\n",
      "Summe ist jetzt:  -910\n",
      "Summe ist jetzt:  -920\n",
      "Summe ist jetzt:  -930\n",
      "Summe ist jetzt:  -940\n",
      "Summe ist jetzt:  -950\n",
      "Summe ist jetzt:  -960\n",
      "Summe ist jetzt:  -970\n",
      "Summe ist jetzt:  -980\n",
      "Summe ist jetzt:  -990\n",
      "Summe ist jetzt:  -1000\n",
      "Summe ist jetzt:  -1010\n"
     ]
    },
    {
     "ename": "Exception",
     "evalue": "Entschuldigung. Endlosschleifen sind endlos.",
     "output_type": "error",
     "traceback": [
      "\u001B[0;31m---------------------------------------------------------------------------\u001B[0m",
      "\u001B[0;31mException\u001B[0m                                 Traceback (most recent call last)",
      "Cell \u001B[0;32mIn[5], line 8\u001B[0m\n\u001B[1;32m      6\u001B[0m \t\u001B[38;5;28mprint\u001B[39m(\u001B[38;5;124m'\u001B[39m\u001B[38;5;124mSumme ist jetzt: \u001B[39m\u001B[38;5;124m'\u001B[39m, summe)\n\u001B[1;32m      7\u001B[0m \t\u001B[38;5;28;01mif\u001B[39;00m summe \u001B[38;5;241m<\u001B[39m \u001B[38;5;241m-\u001B[39m\u001B[38;5;241m1000\u001B[39m:\n\u001B[0;32m----> 8\u001B[0m \t\t\u001B[38;5;28;01mraise\u001B[39;00m \u001B[38;5;167;01mException\u001B[39;00m(\u001B[38;5;124m\"\u001B[39m\u001B[38;5;124mEntschuldigung. Endlosschleifen sind endlos.\u001B[39m\u001B[38;5;124m\"\u001B[39m)\n\u001B[1;32m     10\u001B[0m \u001B[38;5;66;03m# Hier geht’s ganz normal weiter...\u001B[39;00m\n\u001B[1;32m     11\u001B[0m \u001B[38;5;28mprint\u001B[39m(\u001B[38;5;124m'\u001B[39m\u001B[38;5;124mMich werdet ihr nie sehen!\u001B[39m\u001B[38;5;124m'\u001B[39m)\n",
      "\u001B[0;31mException\u001B[0m: Entschuldigung. Endlosschleifen sind endlos."
     ]
    }
   ],
   "source": [
    "# Dies ist (fast) eine Endlosschleife - Zum Glück endet sie doch bei -1000...\n",
    "summe = 0\n",
    "while summe < 100:\n",
    "\t# Ausführen:\n",
    "\tsumme = summe - 10\n",
    "\tprint('Summe ist jetzt: ', summe)\n",
    "\tif summe < -1000:\n",
    "\t\traise Exception(\"Entschuldigung. Endlosschleifen sind endlos.\")\n",
    "\n",
    "# Hier geht’s ganz normal weiter...\n",
    "print('Mich werdet ihr nie sehen!')"
   ],
   "metadata": {
    "collapsed": false
   }
  },
  {
   "cell_type": "code",
   "execution_count": 6,
   "outputs": [
    {
     "name": "stdout",
     "output_type": "stream",
     "text": [
      "Die gerade Zahl lautet = 2\n"
     ]
    }
   ],
   "source": [
    "# Programm, das auf die Eingabe einer geraden Zahl wartet...\n",
    "zahl = int(input('Geben Sie eine gerade Zahl ein: '))\n",
    "\n",
    "# Zahlen addieren, bis Zahl Null ist\n",
    "while zahl % 2 != 0:\n",
    "    meldung = 'Entschuldigung. ' + str(zahl) + ' ist nicht gerade. Versuchen Sie es erneut: '\n",
    "    zahl = int(input(meldung))\n",
    "print('Die gerade Zahl lautet =', zahl)"
   ],
   "metadata": {
    "collapsed": false
   }
  },
  {
   "cell_type": "markdown",
   "source": [
    "### Aufgabe\n",
    "Schreiben Sie eine Schleife, die drei mal das Wort \"Hurra\" ausgibt.\n",
    "\n",
    "=> Welche Art von Schleife verwenden Sie? Eine For-Schleife, oder eine While-Schleife?\n",
    "=> Gibt es mehrere Möglichkeiten?"
   ],
   "metadata": {
    "collapsed": false
   }
  },
  {
   "cell_type": "code",
   "execution_count": 7,
   "outputs": [
    {
     "name": "stdout",
     "output_type": "stream",
     "text": [
      "Hurra\n",
      "Hurra\n",
      "Hurra\n",
      "Hurra\n",
      "Hurra\n",
      "Hurra\n"
     ]
    }
   ],
   "source": [
    "# Schreiben Sie eine Schleife, die dreimal das Wort \"Hurra\" ausgibt.\n",
    "\n",
    "for i in range(3):\n",
    "\tprint(\"Hurra\")\n",
    "\n",
    "for txt in ['Hurra', 'Hurra', 'Hurra']:\n",
    "\tprint(txt)"
   ],
   "metadata": {
    "collapsed": false
   }
  }
 ],
 "metadata": {
  "kernelspec": {
   "display_name": "Python 3",
   "language": "python",
   "name": "python3"
  },
  "language_info": {
   "codemirror_mode": {
    "name": "ipython",
    "version": 2
   },
   "file_extension": ".py",
   "mimetype": "text/x-python",
   "name": "python",
   "nbconvert_exporter": "python",
   "pygments_lexer": "ipython2",
   "version": "2.7.6"
  }
 },
 "nbformat": 4,
 "nbformat_minor": 0
}
