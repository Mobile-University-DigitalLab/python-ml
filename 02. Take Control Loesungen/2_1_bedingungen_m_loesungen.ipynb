{
 "cells": [
  {
   "cell_type": "markdown",
   "source": [
    "# Take Control!\n",
    "## Bedingungen\n",
    "\n",
    "Wir haben bereits den Daten-Typ 'bool' - also die Boolschen Werte True und False kennengelernt.\n",
    "\n",
    "Mit Hilfe dieser Werte lässt sich nun das Programm steuern.\n",
    "\n",
    "Das erfolgt mit Hilfe des Schlüsselworts 'if'"
   ],
   "metadata": {
    "collapsed": false
   }
  },
  {
   "cell_type": "code",
   "execution_count": 1,
   "outputs": [
    {
     "name": "stdout",
     "output_type": "stream",
     "text": [
      "Aller Anfang ist schwer\n"
     ]
    }
   ],
   "source": [
    "# An Montagen soll eine Meldung ausgegeben werden:\n",
    "wochen_tag = 'Montag'\n",
    "\n",
    "if wochen_tag == 'Montag':\n",
    "    print(\"Aller Anfang ist schwer\")"
   ],
   "metadata": {
    "collapsed": false
   }
  },
  {
   "cell_type": "code",
   "execution_count": 2,
   "outputs": [
    {
     "name": "stdout",
     "output_type": "stream",
     "text": [
      "Sie haben Zutritt\n"
     ]
    }
   ],
   "source": [
    "# Nur Erwachsene haben Zutritt\n",
    "mindest_alter = 18\n",
    "tatsaechliches_alter = 20\n",
    "\n",
    "if tatsaechliches_alter >= mindest_alter:\n",
    "    print(\"Sie haben Zutritt\")"
   ],
   "metadata": {
    "collapsed": false
   }
  },
  {
   "cell_type": "markdown",
   "source": [
    "### Aufgabe\n",
    "\n",
    "Ändern Sie den obigen Code so, dass das Alter 'nur' 17 ist.\n",
    "\n",
    "=> Was ändert sich?\n",
    "=> Warum?"
   ],
   "metadata": {
    "collapsed": false
   }
  },
  {
   "cell_type": "code",
   "execution_count": 3,
   "outputs": [],
   "source": [
    "# Nur Erwachsene haben Zutritt\n",
    "mindest_alter = 18\n",
    "tatsaechliches_alter = 17\n",
    "\n",
    "if tatsaechliches_alter >= mindest_alter:\n",
    "    print(\"Sie haben Zutritt\")"
   ],
   "metadata": {
    "collapsed": false
   }
  },
  {
   "cell_type": "markdown",
   "source": [
    "### Alternative Bedingungen\n",
    "\n",
    "Wird die Bedingung im 'if' Schlüsselwort nicht erfüllt, dann wird der zugehörige Code **NICHT** ausgeführt. Er wird komplett ignoriert, als ob es ihn nicht gäbe."
   ],
   "metadata": {
    "collapsed": false
   }
  },
  {
   "cell_type": "markdown",
   "source": [
    "Damit man in der Programmierung nicht unnötig viele if-Bedingungen schreiben muss, gibt es die Möglichkeit mit Alternativen umzugehen.\n",
    "\n",
    "Das 'else' Schlüsselwort steht für alle Fälle, in denen die Bedingung nicht erfüllt ist."
   ],
   "metadata": {
    "collapsed": false
   }
  },
  {
   "cell_type": "code",
   "execution_count": 4,
   "outputs": [
    {
     "name": "stdout",
     "output_type": "stream",
     "text": [
      "Sie sind leider noch zu jung.\n"
     ]
    }
   ],
   "source": [
    "# Nur Erwachsene haben Zutritt\n",
    "mindest_alter = 18\n",
    "\n",
    "tatsaechliches_alter = 17\n",
    "\n",
    "if tatsaechliches_alter >= mindest_alter:\n",
    "    print(\"Sie haben Zutritt\")\n",
    "else:\n",
    "    print(\"Sie sind leider noch zu jung.\")"
   ],
   "metadata": {
    "collapsed": false
   }
  },
  {
   "cell_type": "markdown",
   "source": [
    "### If - elif - else\n",
    "![image](../img/if_then_else.png)\n",
    "\n",
    "### Aufgabe\n",
    "\n",
    "=> Weisen Sie der Variablen int_var einen Wert zu.\n",
    "=> Geben Sie mit Hilfe von print() und if..elif..else folgende Texte aus:\n",
    "\n",
    "int_var == 0 -> 'Die Variable ist Null'\n",
    "int_var > 0 -> 'Die Variable ist größer als Null'\n",
    "int_var < 0 -> 'Die Variable ist kleiner als Null'\n",
    "\n",
    "=> Testen Sie Ihr Programm mit den Werten 10, 0 und -17"
   ],
   "metadata": {
    "collapsed": false
   }
  },
  {
   "cell_type": "code",
   "execution_count": 5,
   "outputs": [
    {
     "name": "stdout",
     "output_type": "stream",
     "text": [
      "Die Variable ist kleiner als Null\n",
      "Mich seht ihr immer!\n"
     ]
    }
   ],
   "source": [
    "# Ausgabe, je nachdem, ob Variable == 0, >0 oder <0 ist:\n",
    "\n",
    "int_var = -17\n",
    "\n",
    "if int_var == 0:\n",
    "\t# Ausführen, falls haupt_bedingung wahr ist\n",
    "\tprint('Die Variable ist gleich Null.')\n",
    "elif int_var > 0:\n",
    "\t# Ausführen, falls\n",
    "\t\t# haupt_bedingung NICHT (!) wahr ist\n",
    "\t\t# abweichende_bedingung_1 wahr ist\n",
    "\tprint('Die Variable ist größer als Null.')\n",
    "else:\n",
    "\t# Ausführen, falls nichts davon wahr ist\n",
    "\tprint('Die Variable ist kleiner als Null')\n",
    "\n",
    "# Hier geht’s ganz normal weiter...\n",
    "print('Mich seht ihr immer!')\n"
   ],
   "metadata": {
    "collapsed": false
   }
  },
  {
   "cell_type": "markdown",
   "source": [
    "Im 'else' Zweig haben Sie gar nicht mehr überprüft, ob die Variable kleiner als Null ist. Warum ist das dennoch in Ordnung?"
   ],
   "metadata": {
    "collapsed": false
   }
  },
  {
   "cell_type": "markdown",
   "source": [
    "# Exkurs - Ein paar Logik-Beispiele"
   ],
   "metadata": {
    "collapsed": false
   }
  },
  {
   "cell_type": "code",
   "execution_count": 6,
   "outputs": [
    {
     "name": "stdout",
     "output_type": "stream",
     "text": [
      "Not True ist False: False\n",
      "Nur True and True ist True: True\n",
      "True and False ist False: False\n",
      "True or True ist True: True\n",
      "True or False ist immer noch True: True\n",
      "Nur False or False ist False: False\n"
     ]
    }
   ],
   "source": [
    "# Exkurs - Ein paar Logik Beispiele\n",
    "\n",
    "print ('Not True ist False:', not True)\n",
    "print ('Nur True and True ist True:', True and True)\n",
    "print ('True and False ist False:', True and False)\n",
    "print ('True or True ist True:', True or True)\n",
    "print ('True or False ist immer noch True:', True or False)\n",
    "print ('Nur False or False ist False:', False or False)"
   ],
   "metadata": {
    "collapsed": false
   }
  },
  {
   "cell_type": "code",
   "execution_count": 6,
   "outputs": [],
   "source": [],
   "metadata": {
    "collapsed": false
   }
  }
 ],
 "metadata": {
  "kernelspec": {
   "display_name": "Python 3",
   "language": "python",
   "name": "python3"
  },
  "language_info": {
   "codemirror_mode": {
    "name": "ipython",
    "version": 2
   },
   "file_extension": ".py",
   "mimetype": "text/x-python",
   "name": "python",
   "nbconvert_exporter": "python",
   "pygments_lexer": "ipython2",
   "version": "2.7.6"
  }
 },
 "nbformat": 4,
 "nbformat_minor": 0
}
