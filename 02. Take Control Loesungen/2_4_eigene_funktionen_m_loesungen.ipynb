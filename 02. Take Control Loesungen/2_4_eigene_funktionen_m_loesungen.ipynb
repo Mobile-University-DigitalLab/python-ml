{
 "cells": [
  {
   "cell_type": "markdown",
   "source": [
    "# Eigene Funktionen\n",
    "\n",
    "Funktionen sind ein wichtiger Bestandteil von Programmiersprachen.\n",
    "\n",
    "- Funktionen kapseln Programmiercode\n",
    "- Funktionen verbessern die Lesbarkeit\n",
    "- Funktionen können später wiederverwendet werden\n",
    "\n",
    "![image](../img/funktion.png)"
   ],
   "metadata": {
    "collapsed": false
   }
  },
  {
   "cell_type": "code",
   "execution_count": 1,
   "outputs": [
    {
     "name": "stdout",
     "output_type": "stream",
     "text": [
      "Schön, dass Sie dabei sind!\n"
     ]
    }
   ],
   "source": [
    "# Definition der Funktion\n",
    "def begruesung_ausgeben():\n",
    "\t# Dies wird die Funktion machen:\n",
    "\tprint('Schön, dass Sie dabei sind!')\n",
    "\n",
    "# Aufruf der Funktion\n",
    "begruesung_ausgeben()\n"
   ],
   "metadata": {
    "collapsed": false
   }
  },
  {
   "cell_type": "markdown",
   "source": [
    "## Funktionen mit Parametern\n",
    "\n",
    "Funktionen können so genannte Paramter haben.\n",
    "Hierdurch kann man Werte an die Funktion übergeben, die dann dort weiterverarbeitet werden.\n",
    "\n",
    "Wenn Funktionen Parameter einsetzen, geht es letztlich darum, diese Werte zu verarbeiten und Zurückzugeben.\n",
    "Eine Funktion ist unsere 'Super Power', die Werte annimmt, verarbeitet, und ein Ergebnis zurückgibt.\n",
    "\n",
    "![image](../img/funktion_schema.png)"
   ],
   "metadata": {
    "collapsed": false
   }
  },
  {
   "cell_type": "markdown",
   "source": [
    "In Python werden die Parameter in den Klammern sowohl bei der Definition der Funktion, als auch beim Aufruf eingesetzt.\n",
    "\n",
    "![image](../img/funktion_parameter.png)"
   ],
   "metadata": {
    "collapsed": false
   }
  },
  {
   "cell_type": "code",
   "execution_count": 2,
   "outputs": [
    {
     "name": "stdout",
     "output_type": "stream",
     "text": [
      "9\n"
     ]
    }
   ],
   "source": [
    "# Definition der Funktion 'summe' mit zwei Parametern\n",
    "# Die Funktion summe addiert die beiden Parameter 'zahl_1' und 'zahl_2' und gibt das Ergebnis zurück.\n",
    "def summe(zahl_1, zahl_2):\n",
    "\treturn zahl_1 + zahl_2\n",
    "\n",
    "# Aufruf der Funktion\n",
    "ergebnis = summe (4, 5)\n",
    "print(ergebnis)\n"
   ],
   "metadata": {
    "collapsed": false
   }
  },
  {
   "cell_type": "markdown",
   "source": [
    "### Aufgabe\n",
    "\n",
    "Erstellen Sie eine Funktion, die das Quadrat einer Zahl berechnet.\n",
    "Geben Sie mithilfe dieser Funktion die Quaratzahlen von 1 bis 10 aus.\n"
   ],
   "metadata": {
    "collapsed": false
   }
  },
  {
   "cell_type": "code",
   "execution_count": 3,
   "outputs": [
    {
     "name": "stdout",
     "output_type": "stream",
     "text": [
      "1\n",
      "4\n",
      "9\n",
      "16\n",
      "25\n",
      "36\n",
      "49\n",
      "64\n",
      "81\n",
      "100\n"
     ]
    }
   ],
   "source": [
    "# Erstellen Sie eine Funktion, die das Quadrat einer Zahl berechnet.\n",
    "# Geben Sie mithilfe dieser Funktion die Quaratzahlen von 1 bis 10 aus.\n",
    "\n",
    "def quadrat(zahl):\n",
    "\treturn zahl * zahl\n",
    "\n",
    "for i in range (1,11):\n",
    "\tprint(quadrat(i))"
   ],
   "metadata": {
    "collapsed": false
   }
  },
  {
   "cell_type": "markdown",
   "source": [
    "## Hinweise\n",
    "\n",
    "- Viele Funktionen sind vordefiniert oder es finden sich fertige Pakete\n",
    "- Erfinden Sie das Rad nicht neu\n",
    "- Es gibt die Möglichkeit, optionale Parameter anzugeben\n",
    "- Es gibt die Möglichkeit, [default-Werte für Parameter anzugeben](https://www.geeksforgeeks.org/default-arguments-in-python/).\n"
   ],
   "metadata": {
    "collapsed": false
   }
  },
  {
   "cell_type": "code",
   "execution_count": 12,
   "outputs": [],
   "source": [],
   "metadata": {
    "collapsed": false
   }
  }
 ],
 "metadata": {
  "kernelspec": {
   "display_name": "Python 3",
   "language": "python",
   "name": "python3"
  },
  "language_info": {
   "codemirror_mode": {
    "name": "ipython",
    "version": 2
   },
   "file_extension": ".py",
   "mimetype": "text/x-python",
   "name": "python",
   "nbconvert_exporter": "python",
   "pygments_lexer": "ipython2",
   "version": "2.7.6"
  }
 },
 "nbformat": 4,
 "nbformat_minor": 0
}
