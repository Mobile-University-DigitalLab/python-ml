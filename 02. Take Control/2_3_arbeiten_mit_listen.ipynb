{
 "cells": [
  {
   "cell_type": "markdown",
   "source": [
    "# Arbeiten mit Listen\n",
    "\n",
    "Listen haben wir bereits kennengelernt. Sie sind in der Lage, mehrere Werte zu speichern.\n",
    "\n",
    "## Wiederholung:"
   ],
   "metadata": {
    "collapsed": false
   }
  },
  {
   "cell_type": "code",
   "execution_count": null,
   "outputs": [],
   "source": [
    "# Liste erstellen\n",
    "\n",
    "liste = ['Schnelleinstieg', 'Programmierung', 'mit', 'Python']\n",
    "print(liste)"
   ],
   "metadata": {
    "collapsed": false
   }
  },
  {
   "cell_type": "code",
   "execution_count": null,
   "outputs": [],
   "source": [
    "# Listen können auch leer sein\n",
    "\n",
    "liste = []\n",
    "print(liste)"
   ],
   "metadata": {
    "collapsed": false
   }
  },
  {
   "cell_type": "code",
   "execution_count": null,
   "outputs": [],
   "source": [
    "# Listen dürfen verschiedene Datentypen enthalten:\n",
    "\n",
    "liste = [\"John\", \"Doe\", 23, True]\n",
    "print(liste)"
   ],
   "metadata": {
    "collapsed": false
   }
  },
  {
   "cell_type": "code",
   "execution_count": null,
   "outputs": [],
   "source": [
    "# Auf ein bestimmtes Listenelement zugreifen:\n",
    "\n",
    "liste = ['Schnelleinstieg', 'Programmierung', 'mit', 'Python']\n",
    "print(liste[3])"
   ],
   "metadata": {
    "collapsed": false
   }
  },
  {
   "cell_type": "markdown",
   "source": [
    "## Index beim Zugriff auf Listen\n",
    "\n",
    "Bei dem Zugriff auf Listenelemente mit Hilfe eines Index ist zu beachten, dass dieser immer Null-basiert ist, d.h. es wird bei 0 angefangen zu zählen:\n",
    "\n",
    "![image](../img/zero_based.png)\n",
    "\n",
    "Hierbei kann auch \"von rechts\" mit Hilfe von negativen Zahlen gezählt werden.\n",
    "Hierbei ist allerdings der Erste Wert bereits -1 (die 0 ist ja schon vergeben)."
   ],
   "metadata": {
    "collapsed": false
   }
  },
  {
   "cell_type": "markdown",
   "source": [
    "### Slizing - Zugriff auf Teilbereiche einer Liste\n",
    "\n",
    "Beim Slizing kann man ausdrücklich angeben von welchem bis zu welchem Element eine Teil-Liste auslesen möchte."
   ],
   "metadata": {
    "collapsed": false
   }
  },
  {
   "cell_type": "code",
   "execution_count": null,
   "outputs": [],
   "source": [
    "# Ein Teilbereich einer Liste:\n",
    "\n",
    "liste = ['Schnelleinstieg', 'Programmierung', 'mit', 'Python']\n",
    "print(liste[2:3])"
   ],
   "metadata": {
    "collapsed": false
   }
  },
  {
   "cell_type": "markdown",
   "source": [
    "Beim Slizing ist der Wert vor dem Doppelpunkt ':' der erste Index von links (auch hier Null-basiert), der angibt, ab welchem Index der Teilbereich geladen werden soll.\n",
    "Der Wert nach dem Doppelpunkt ist der erste Index von links, der NICHT mehr enthalten sein soll.\n",
    "\n",
    "![image](../img/slizeing.png)\n",
    "\n",
    "Das funktioniert auch von rechts ('rückwärts'):\n"
   ],
   "metadata": {
    "collapsed": false
   }
  },
  {
   "cell_type": "code",
   "execution_count": null,
   "outputs": [],
   "source": [
    "# Ein Teilbereich einer Liste:\n",
    "\n",
    "liste = ['Schnelleinstieg', 'Programmierung', 'mit', 'Python']\n",
    "print(liste[-4:-2])"
   ],
   "metadata": {
    "collapsed": false
   }
  },
  {
   "cell_type": "markdown",
   "source": [
    "## Die Länge einer Liste\n",
    "\n",
    "Die Funktion len() ermittelt die Anzahl der Elemente in einer Liste (also die Länge der Liste).\n"
   ],
   "metadata": {
    "collapsed": false
   }
  },
  {
   "cell_type": "code",
   "execution_count": null,
   "outputs": [],
   "source": [
    "# Die Länge einer Liste ermitteln\n",
    "\n",
    "liste = ['Schnelleinstieg', 'Programmierung', 'mit', 'Python']\n",
    "print(len(liste))"
   ],
   "metadata": {
    "collapsed": false
   }
  },
  {
   "cell_type": "markdown",
   "source": [
    "## Listen verändern\n",
    "\n",
    "### Ein Element zu einer Liste hinzufügen\n",
    "\n",
    "Der Befehl 'append' fügt einer Liste ein Element hinzu.\n",
    "Diese Funktion gehört direkt zur Variable (zum Objekt).\n",
    "Sie hat KEINEN Rückgabewert, sondern verändert die Liste DIREKT:\n"
   ],
   "metadata": {
    "collapsed": false
   }
  },
  {
   "cell_type": "code",
   "execution_count": null,
   "outputs": [],
   "source": [
    "# Ein Element an eine Liste anhängen\n",
    "\n",
    "liste = [4, 9, 16, 25, 36]\n",
    "liste.append(49)\n",
    "print(liste)"
   ],
   "metadata": {
    "collapsed": false
   }
  },
  {
   "cell_type": "markdown",
   "source": [
    "Es kann auch eine ganze Liste zu einer anderen hinzugefügt werden.\n",
    "Dies erfolgt mit dem Befehl 'extend'"
   ],
   "metadata": {
    "collapsed": false
   }
  },
  {
   "cell_type": "code",
   "execution_count": null,
   "outputs": [],
   "source": [
    "# Eine Liste an eine andere anhängen\n",
    "\n",
    "liste = [4, 9, 16, 25, 36]\n",
    "liste.extend([49, 64])\n",
    "print(liste)"
   ],
   "metadata": {
    "collapsed": false
   }
  },
  {
   "cell_type": "markdown",
   "source": [
    "### Ein einzelnes Element verändern\n",
    "\n",
    "Listenelement können direkt verändert werden, indem per Index [x] auf sie zugegriffen wird:"
   ],
   "metadata": {
    "collapsed": false
   }
  },
  {
   "cell_type": "code",
   "execution_count": null,
   "outputs": [],
   "source": [
    "# Ein Element einer Liste verändern.\n",
    "\n",
    "liste = [4, 9, 16, 25, 36]\n",
    "liste[2] = 17\n",
    "print(liste)"
   ],
   "metadata": {
    "collapsed": false
   }
  },
  {
   "cell_type": "markdown",
   "source": [
    "### Ein Element löschen\n",
    "\n",
    "Elemente können entweder über das Schlüsselwort 'del' oder über die 'remove' Funktion gelöscht werden.\n",
    "HINWEIS: Bei der Verwendung von 'remove' wird NICHT mit dem Index gearbeitet, sondern mit dem eigentlichen Wert innerhalb er Liste."
   ],
   "metadata": {
    "collapsed": false
   }
  },
  {
   "cell_type": "code",
   "execution_count": null,
   "outputs": [],
   "source": [
    "# Eine Element anhand seines Index löschen.\n",
    "\n",
    "liste = [4, 9, 16, 25, 36]\n",
    "del liste[2]\n",
    "print(liste)"
   ],
   "metadata": {
    "collapsed": false
   }
  },
  {
   "cell_type": "code",
   "execution_count": null,
   "outputs": [],
   "source": [
    "# Das Löschen mit 'del' funktioniert auch mit Slizing\n",
    "\n",
    "liste = [4, 9, 16, 25, 36]\n",
    "del liste[2:4]\n",
    "print(liste)"
   ],
   "metadata": {
    "collapsed": false
   }
  },
  {
   "cell_type": "code",
   "execution_count": null,
   "outputs": [],
   "source": [
    "# Ein Element anhand seines Wertes löschen\n",
    "\n",
    "liste = [4, 9, 16, 25, 36]\n",
    "liste.remove(9)\n",
    "print(liste)"
   ],
   "metadata": {
    "collapsed": false
   }
  },
  {
   "cell_type": "markdown",
   "source": [
    "## Zur Erinnerung - Schleifen 'über' Listen\n",
    "\n",
    "Mithilfe von for-Schleifen können alle Elemente einer Liste verarbeitet werden."
   ],
   "metadata": {
    "collapsed": false
   }
  },
  {
   "cell_type": "code",
   "execution_count": null,
   "outputs": [],
   "source": [
    "## For Schleife über alle Elemente einer Liste\n",
    "\n",
    "liste = ['Schnelleinstieg', 'Programmierung', 'mit', 'Python']\n",
    "\n",
    "for txt in liste:\n",
    "    print(txt)\n"
   ],
   "metadata": {
    "collapsed": false
   }
  },
  {
   "cell_type": "markdown",
   "source": [
    "## Ausblick\n",
    "\n",
    "Es gibt noch viele weitere hilfreiche Funktionen für Listen.\n",
    "Beispiele finden Sie hier:\n",
    "[Weiterführende Informationen zu Listen](https://www.programiz.com/python-programming/list)"
   ],
   "metadata": {
    "collapsed": false
   }
  },
  {
   "cell_type": "code",
   "execution_count": null,
   "outputs": [],
   "source": [],
   "metadata": {
    "collapsed": false
   }
  }
 ],
 "metadata": {
  "kernelspec": {
   "display_name": "Python 3",
   "language": "python",
   "name": "python3"
  },
  "language_info": {
   "codemirror_mode": {
    "name": "ipython",
    "version": 2
   },
   "file_extension": ".py",
   "mimetype": "text/x-python",
   "name": "python",
   "nbconvert_exporter": "python",
   "pygments_lexer": "ipython2",
   "version": "2.7.6"
  }
 },
 "nbformat": 4,
 "nbformat_minor": 0
}
