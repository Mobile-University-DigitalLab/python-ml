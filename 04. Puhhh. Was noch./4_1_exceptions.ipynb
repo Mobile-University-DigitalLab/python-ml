{
 "cells": [
  {
   "cell_type": "markdown",
   "source": [
    "# Umgang mit Fehlern\n",
    "\n",
    "Es ist leider eine Regel, dass beim Programmieren Fehler passieren.\n",
    "Daher gibt es in den meisten Programmiersprachen gute Möglichkeiten, damit umzugehen.\n",
    "\n",
    "Python, kennt das try..catch Prinzip.\n",
    "\n",
    "D.h. Fehler werden \"geworfen\" und gegebenenfalls auch wieder abgefangen.\n",
    "\n",
    "Das hat den großen Vorteil, dass man einen Fehler von der Stelle, an der er passiert, bis \"ganz nach oben\" - also an die Stelle, wo 'man grade ist', durchreichen kann. Der Fehler wird an der Stelle 'gefangen', an der man optimal damit umgehen kann.\n",
    "\n",
    "![image](../img/fehler.png)\n"
   ],
   "metadata": {
    "collapsed": false
   }
  },
  {
   "cell_type": "markdown",
   "source": [
    "## Fehler abfangen"
   ],
   "metadata": {
    "collapsed": false
   }
  },
  {
   "cell_type": "code",
   "execution_count": null,
   "outputs": [],
   "source": [
    "# Ohne Fehlerbehandlung\n",
    "\n",
    "print(1/0)\n",
    "print('Ich werde nie erreicht.')"
   ],
   "metadata": {
    "collapsed": false
   }
  },
  {
   "cell_type": "code",
   "execution_count": null,
   "outputs": [],
   "source": [
    "# Mit Fehlerbehandlung\n",
    "\n",
    "try:\n",
    "    print(1/0)\n",
    "except:\n",
    "    print('Das hat leider nicht geklappt.')\n",
    "print('Hier gehts weiter')"
   ],
   "metadata": {
    "collapsed": false
   }
  },
  {
   "cell_type": "code",
   "execution_count": null,
   "outputs": [],
   "source": [
    "## Eigene Fehler 'werfen'\n",
    "\n",
    "def division (divident, divisor):\n",
    "    if divisor == 0:\n",
    "        raise Exception('Entschuldigung. Teilen durch 0 ist nicht erlaubt.')\n",
    "    return divident/divisor\n",
    "\n",
    "print(division(3,0))"
   ],
   "metadata": {
    "collapsed": false
   }
  },
  {
   "cell_type": "code",
   "execution_count": null,
   "outputs": [],
   "source": [],
   "metadata": {
    "collapsed": false
   }
  }
 ],
 "metadata": {
  "kernelspec": {
   "display_name": "Python 3",
   "language": "python",
   "name": "python3"
  },
  "language_info": {
   "codemirror_mode": {
    "name": "ipython",
    "version": 2
   },
   "file_extension": ".py",
   "mimetype": "text/x-python",
   "name": "python",
   "nbconvert_exporter": "python",
   "pygments_lexer": "ipython2",
   "version": "2.7.6"
  }
 },
 "nbformat": 4,
 "nbformat_minor": 0
}
