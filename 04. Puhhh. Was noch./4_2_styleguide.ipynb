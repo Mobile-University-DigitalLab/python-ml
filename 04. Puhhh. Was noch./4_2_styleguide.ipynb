{
 "cells": [
  {
   "cell_type": "markdown",
   "source": [
    "# Styleguide für Python\n",
    "\n",
    "An dieser Stelle soll nur ein Verweis auf das offizielle pep-0008 erfolgen:\n",
    "[pep-0008](https://peps.python.org/pep-0008/)\n"
   ],
   "metadata": {
    "collapsed": false
   }
  }
 ],
 "metadata": {
  "kernelspec": {
   "display_name": "Python 3",
   "language": "python",
   "name": "python3"
  },
  "language_info": {
   "codemirror_mode": {
    "name": "ipython",
    "version": 2
   },
   "file_extension": ".py",
   "mimetype": "text/x-python",
   "name": "python",
   "nbconvert_exporter": "python",
   "pygments_lexer": "ipython2",
   "version": "2.7.6"
  }
 },
 "nbformat": 4,
 "nbformat_minor": 0
}
