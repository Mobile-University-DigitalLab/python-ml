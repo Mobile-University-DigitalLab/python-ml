{
 "cells": [
  {
   "cell_type": "markdown",
   "source": [
    "# Mini-Projekt\n",
    "\n",
    "Dies ist eine kleine Aufgabe, die Sie im Team lösen sollen.\n",
    "\n",
    "Schreiben Sie ein Programm, das Empfehlungen für Freizeitbeschäftigungen macht.\n",
    "\n",
    "=> Erstellen Sie hierfür eine Funktion 'empfehlung'\n",
    "=> Die Funktion hat zwei Parameter 'name' und 'alter\n",
    "=> Je nach Alter sollen Empfehlungen ausgegeben werden:\n",
    "\n",
    "* 0..6: \"<name>, du bist noch zu jung.\"\n",
    "* 7..18: \"<name>, du könntest ins Kino gehen.\"\n",
    "* 18..60: \"<name>, du könntest Sport machen, das ist gesund.\"\n",
    "* größer 60: \"<name>, 'du könntest dich mit deiner Nachbarin zum Tee treffen.'\"\n",
    "\n",
    "\n",
    "(Hierbei soll anstelle von <name> der per Parameter übergebene Name ausgegeben werden.)\n",
    "\n",
    "=> Benutzen Sie die Funktion und geben Sie für zwei Altersgruppen ein Beispiel aus.\n",
    "\n",
    "=> Sie können optional den Sonderfall abfangen, wenn das Alter kleiner ist als 0. Hierfür können Sie z.B. die Funktion 'raise Exception ('Text') benutzen.\n"
   ],
   "metadata": {
    "collapsed": false
   }
  },
  {
   "cell_type": "code",
   "execution_count": 8,
   "outputs": [
    {
     "name": "stdout",
     "output_type": "stream",
     "text": [
      "Ben, du bist noch zu jung.\n",
      "Lisa, du könntest ins Kino gehen.\n",
      "Karl, du könntest Sport machen, das ist gesund.\n",
      "Inge, du könntest dich mit deiner Nachbarin zum Tee treffen.\n"
     ]
    },
    {
     "ename": "Exception",
     "evalue": "Alter < 0 ist nicht erlaubt.",
     "output_type": "error",
     "traceback": [
      "\u001B[0;31m---------------------------------------------------------------------------\u001B[0m",
      "\u001B[0;31mException\u001B[0m                                 Traceback (most recent call last)",
      "Cell \u001B[0;32mIn[8], line 22\u001B[0m\n\u001B[1;32m     20\u001B[0m \u001B[38;5;28mprint\u001B[39m (empfehlung(\u001B[38;5;124m'\u001B[39m\u001B[38;5;124mKarl\u001B[39m\u001B[38;5;124m'\u001B[39m, \u001B[38;5;241m45\u001B[39m))\n\u001B[1;32m     21\u001B[0m \u001B[38;5;28mprint\u001B[39m (empfehlung(\u001B[38;5;124m'\u001B[39m\u001B[38;5;124mInge\u001B[39m\u001B[38;5;124m'\u001B[39m, \u001B[38;5;241m99\u001B[39m))\n\u001B[0;32m---> 22\u001B[0m \u001B[38;5;28mprint\u001B[39m (\u001B[43mempfehlung\u001B[49m\u001B[43m(\u001B[49m\u001B[38;5;124;43m'\u001B[39;49m\u001B[38;5;124;43mJosy\u001B[39;49m\u001B[38;5;124;43m'\u001B[39;49m\u001B[43m,\u001B[49m\u001B[43m \u001B[49m\u001B[38;5;241;43m-\u001B[39;49m\u001B[38;5;241;43m1\u001B[39;49m\u001B[43m)\u001B[49m)\n",
      "Cell \u001B[0;32mIn[8], line 16\u001B[0m, in \u001B[0;36mempfehlung\u001B[0;34m(name, alter)\u001B[0m\n\u001B[1;32m     14\u001B[0m     \u001B[38;5;28;01mreturn\u001B[39;00m merge (name, \u001B[38;5;124m'\u001B[39m\u001B[38;5;124mdu könntest dich mit deiner Nachbarin zum Tee treffen.\u001B[39m\u001B[38;5;124m'\u001B[39m)\n\u001B[1;32m     15\u001B[0m \u001B[38;5;28;01melse\u001B[39;00m:\n\u001B[0;32m---> 16\u001B[0m     \u001B[38;5;28;01mraise\u001B[39;00m \u001B[38;5;167;01mException\u001B[39;00m(\u001B[38;5;124m'\u001B[39m\u001B[38;5;124mAlter < 0 ist nicht erlaubt.\u001B[39m\u001B[38;5;124m'\u001B[39m)\n",
      "\u001B[0;31mException\u001B[0m: Alter < 0 ist nicht erlaubt."
     ]
    }
   ],
   "source": [
    "# Mini Projekt Beispiel-Lösung\n",
    "\n",
    "def merge (name, satz):\n",
    "    return name + \", \" + satz\n",
    "\n",
    "def empfehlung (name, alter):\n",
    "    if 0 < alter <= 6:\n",
    "        return merge (name, 'du bist noch zu jung.')\n",
    "    elif 6 < alter <= 18:\n",
    "        return merge (name, 'du könntest ins Kino gehen.')\n",
    "    elif 18 < alter <= 60:\n",
    "        return merge (name, 'du könntest Sport machen, das ist gesund.')\n",
    "    elif alter > 60:\n",
    "        return merge (name, 'du könntest dich mit deiner Nachbarin zum Tee treffen.')\n",
    "    else:\n",
    "        raise Exception('Alter < 0 ist nicht erlaubt.')\n",
    "\n",
    "print (empfehlung('Ben', 5))\n",
    "print (empfehlung('Lisa', 18))\n",
    "print (empfehlung('Karl', 45))\n",
    "print (empfehlung('Inge', 99))\n",
    "print (empfehlung('Josy', -1))\n"
   ],
   "metadata": {
    "collapsed": false
   }
  },
  {
   "cell_type": "code",
   "execution_count": null,
   "outputs": [],
   "source": [],
   "metadata": {
    "collapsed": false
   }
  }
 ],
 "metadata": {
  "kernelspec": {
   "display_name": "Python 3",
   "language": "python",
   "name": "python3"
  },
  "language_info": {
   "codemirror_mode": {
    "name": "ipython",
    "version": 2
   },
   "file_extension": ".py",
   "mimetype": "text/x-python",
   "name": "python",
   "nbconvert_exporter": "python",
   "pygments_lexer": "ipython2",
   "version": "2.7.6"
  }
 },
 "nbformat": 4,
 "nbformat_minor": 0
}
