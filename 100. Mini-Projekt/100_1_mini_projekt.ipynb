{
 "cells": [
  {
   "cell_type": "markdown",
   "source": [
    "# Mini-Projekt\n",
    "\n",
    "Dies ist eine kleine Aufgabe, die Sie im Team lösen sollen.\n",
    "\n",
    "Schreiben Sie ein Programm, das Empfehlungen für Freizeitbeschäftigungen macht.\n",
    "\n",
    "=> Erstellen Sie hierfür eine Funktion 'empfehlung'\n",
    "=> Die Funktion hat zwei Parameter 'name' und 'alter\n",
    "=> Je nach Alter sollen Empfehlungen ausgegeben werden:\n",
    "\n",
    "* 0..6: \"<name>, du bist noch zu jung.\"\n",
    "* 7..18: \"<name>, du könntest ins Kino gehen.\"\n",
    "* 18..60: \"<name>, du könntest Sport machen, das ist gesund.\"\n",
    "* größer 60: \"<name>, du könntest dich mit deiner Nachbarin zum Tee treffen.\"\n",
    "\n",
    "\n",
    "(Hierbei soll anstelle von <name> der per Parameter übergebene Name ausgegeben werden.)\n",
    "\n",
    "=> Benutzen Sie die Funktion und geben Sie für zwei Altersgruppen ein Beispiel aus.\n",
    "\n",
    "=> Sie können optional den Sonderfall abfangen, wenn das Alter kleiner ist als 0. Hierfür können Sie z.B. die Funktion ’raise Exception (‘Text’) benutzen.\n"
   ],
   "metadata": {
    "collapsed": false
   }
  },
  {
   "cell_type": "code",
   "execution_count": 3,
   "outputs": [],
   "source": [
    "# Mini Projekt Beispiel-Lösung"
   ],
   "metadata": {
    "collapsed": false
   }
  }
 ],
 "metadata": {
  "kernelspec": {
   "display_name": "Python 3",
   "language": "python",
   "name": "python3"
  },
  "language_info": {
   "codemirror_mode": {
    "name": "ipython",
    "version": 2
   },
   "file_extension": ".py",
   "mimetype": "text/x-python",
   "name": "python",
   "nbconvert_exporter": "python",
   "pygments_lexer": "ipython2",
   "version": "2.7.6"
  }
 },
 "nbformat": 4,
 "nbformat_minor": 0
}
