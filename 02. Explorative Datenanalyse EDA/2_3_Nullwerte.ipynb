{
 "cells": [
  {
   "cell_type": "markdown",
   "source": [
    "# Nullwerte\n",
    "\n",
    "Wie wir bereits in der Übersicht zuvor gesehen haben, hat nicht jede Spalte für jede Zeile einen Wert.\n",
    "Solche Werte werden auch als NaN ('Not a Number') bezeichnet, man spricht auch von fehlenden Werten. Nullwerte können das Training von ML Algorithmen negativ beeinflussen. Daher müssen wir mit diesen Daten auf besondere Weise umgehen. Folgende Möglichkeiten stehen zur Verfügung:\n",
    "\n",
    "1. Datensätze entfernen\n",
    "2. Ersetzen durch Median/Mittelwert/Mode\n",
    "3. Eine eigene Kategorie zuweisen\n",
    "4. Fehlende Werte schätzen"
   ],
   "metadata": {
    "collapsed": false
   },
   "id": "7079eaaf4b5b9cd7"
  },
  {
   "cell_type": "code",
   "execution_count": 1,
   "outputs": [
    {
     "name": "stdout",
     "output_type": "stream",
     "text": [
      "data_description.txt\n",
      "test.csv\n",
      "test.pkl\n",
      "train.csv\n",
      "train.pkl\n"
     ]
    }
   ],
   "source": [
    "#import some necessary librairies\n",
    "\n",
    "import numpy as np # linear algebra\n",
    "import pandas as pd # data processing, CSV file I/O (e.g. pd.read_csv)\n",
    "%matplotlib inline\n",
    "import matplotlib.pyplot as plt  # Matlab-style plotting\n",
    "import seaborn as sns\n",
    "color = sns.color_palette()\n",
    "sns.set_style('darkgrid')\n",
    "import warnings\n",
    "def ignore_warn(*args, **kwargs):\n",
    "    pass\n",
    "warnings.warn = ignore_warn #ignore annoying warning (from sklearn and seaborn)\n",
    "\n",
    "\n",
    "from scipy import stats\n",
    "from scipy.stats import norm, skew #for some statistics\n",
    "\n",
    "\n",
    "pd.set_option('display.float_format', lambda x: '{:.3f}'.format(x)) #Limiting floats output to 3 decimal points\n",
    "\n",
    "\n",
    "from subprocess import check_output\n",
    "print(check_output([\"ls\", \"../data/house-prices-advanced-regression-techniques\"]).decode(\"utf8\")) #check the files available in the directory\n",
    "\n",
    "import pickle"
   ],
   "metadata": {
    "collapsed": false,
    "ExecuteTime": {
     "end_time": "2023-11-28T20:21:01.745346Z",
     "start_time": "2023-11-28T20:21:01.723297Z"
    }
   },
   "id": "d2af326f78b105ec"
  },
  {
   "cell_type": "markdown",
   "source": [
    "# Daten aus dem vorigen Schritt laden\n"
   ],
   "metadata": {
    "collapsed": false
   },
   "id": "a43b2005caf40db8"
  },
  {
   "cell_type": "code",
   "execution_count": 2,
   "outputs": [],
   "source": [
    "with open('../data/house-prices-advanced-regression-techniques/train.pkl', 'rb') as handle:\n",
    "    train = pickle.load(handle)\n",
    "\n",
    "with open('../data/house-prices-advanced-regression-techniques/test.pkl', 'rb') as handle:\n",
    "    test = pickle.load(handle)"
   ],
   "metadata": {
    "collapsed": false,
    "ExecuteTime": {
     "end_time": "2023-11-28T20:21:01.757334Z",
     "start_time": "2023-11-28T20:21:01.745084Z"
    }
   },
   "id": "2acd8172928c7fd6"
  },
  {
   "cell_type": "markdown",
   "source": [
    "# Daten zusammenfassen\n",
    "Für die Identifikation von Nullwerten sollen Testdaten und Traindaten zusammen betrachtet werden, da z.B. Spalten entfernt und kategorische Daten diskretisiert werden sollen"
   ],
   "metadata": {
    "collapsed": false
   },
   "id": "93bb3bfadde80517"
  },
  {
   "cell_type": "code",
   "execution_count": 3,
   "outputs": [
    {
     "name": "stdout",
     "output_type": "stream",
     "text": [
      "Dimensionen der gesamten Daten: (2919, 80)\n"
     ]
    }
   ],
   "source": [
    "ntrain = train.shape[0] # Anzahl der Trainingsdaten\n",
    "ntest = test.shape[0]   # Anzahl der Testdaten\n",
    "\n",
    "# Zielvariable der Trainingsdaten\n",
    "y_train = train.SalePrice.values\n",
    "\n",
    "# Index neu erstellen:\n",
    "df = pd.concat((train, test)).reset_index(drop=True)\n",
    "\n",
    "# Zielvariable aus den Features entfernen\n",
    "df.drop(['SalePrice'], axis=1, inplace=True)\n",
    "\n",
    "# Ergebnis\n",
    "print(\"Dimensionen der gesamten Daten: {}\".format(df.shape))"
   ],
   "metadata": {
    "collapsed": false,
    "ExecuteTime": {
     "end_time": "2023-11-28T20:21:01.785521Z",
     "start_time": "2023-11-28T20:21:01.755059Z"
    }
   },
   "id": "d1671783b474a747"
  },
  {
   "cell_type": "code",
   "execution_count": 4,
   "outputs": [
    {
     "data": {
      "text/plain": "              count\nAlley          2721\nBsmtCond         82\nBsmtExposure     82\nBsmtFinSF1        1\nBsmtFinSF2        1\nBsmtFinType1     79\nBsmtFinType2     80\nBsmtFullBath      2\nBsmtHalfBath      2\nBsmtQual         81\nBsmtUnfSF         1\nElectrical        1\nExterior1st       1\nExterior2nd       1\nFence          2348\nFireplaceQu    1420\nFunctional        2\nGarageArea        1\nGarageCars        1\nGarageCond      159\nGarageFinish    159\nGarageQual      159\nGarageType      157\nGarageYrBlt     159\nKitchenQual       1\nLotFrontage     486\nMSZoning          4\nMasVnrArea       23\nMasVnrType     1766\nMiscFeature    2814\nPoolQC         2909\nSaleType          1\nTotalBsmtSF       1\nUtilities         2",
      "text/html": "<div>\n<style scoped>\n    .dataframe tbody tr th:only-of-type {\n        vertical-align: middle;\n    }\n\n    .dataframe tbody tr th {\n        vertical-align: top;\n    }\n\n    .dataframe thead th {\n        text-align: right;\n    }\n</style>\n<table border=\"1\" class=\"dataframe\">\n  <thead>\n    <tr style=\"text-align: right;\">\n      <th></th>\n      <th>count</th>\n    </tr>\n  </thead>\n  <tbody>\n    <tr>\n      <th>Alley</th>\n      <td>2721</td>\n    </tr>\n    <tr>\n      <th>BsmtCond</th>\n      <td>82</td>\n    </tr>\n    <tr>\n      <th>BsmtExposure</th>\n      <td>82</td>\n    </tr>\n    <tr>\n      <th>BsmtFinSF1</th>\n      <td>1</td>\n    </tr>\n    <tr>\n      <th>BsmtFinSF2</th>\n      <td>1</td>\n    </tr>\n    <tr>\n      <th>BsmtFinType1</th>\n      <td>79</td>\n    </tr>\n    <tr>\n      <th>BsmtFinType2</th>\n      <td>80</td>\n    </tr>\n    <tr>\n      <th>BsmtFullBath</th>\n      <td>2</td>\n    </tr>\n    <tr>\n      <th>BsmtHalfBath</th>\n      <td>2</td>\n    </tr>\n    <tr>\n      <th>BsmtQual</th>\n      <td>81</td>\n    </tr>\n    <tr>\n      <th>BsmtUnfSF</th>\n      <td>1</td>\n    </tr>\n    <tr>\n      <th>Electrical</th>\n      <td>1</td>\n    </tr>\n    <tr>\n      <th>Exterior1st</th>\n      <td>1</td>\n    </tr>\n    <tr>\n      <th>Exterior2nd</th>\n      <td>1</td>\n    </tr>\n    <tr>\n      <th>Fence</th>\n      <td>2348</td>\n    </tr>\n    <tr>\n      <th>FireplaceQu</th>\n      <td>1420</td>\n    </tr>\n    <tr>\n      <th>Functional</th>\n      <td>2</td>\n    </tr>\n    <tr>\n      <th>GarageArea</th>\n      <td>1</td>\n    </tr>\n    <tr>\n      <th>GarageCars</th>\n      <td>1</td>\n    </tr>\n    <tr>\n      <th>GarageCond</th>\n      <td>159</td>\n    </tr>\n    <tr>\n      <th>GarageFinish</th>\n      <td>159</td>\n    </tr>\n    <tr>\n      <th>GarageQual</th>\n      <td>159</td>\n    </tr>\n    <tr>\n      <th>GarageType</th>\n      <td>157</td>\n    </tr>\n    <tr>\n      <th>GarageYrBlt</th>\n      <td>159</td>\n    </tr>\n    <tr>\n      <th>KitchenQual</th>\n      <td>1</td>\n    </tr>\n    <tr>\n      <th>LotFrontage</th>\n      <td>486</td>\n    </tr>\n    <tr>\n      <th>MSZoning</th>\n      <td>4</td>\n    </tr>\n    <tr>\n      <th>MasVnrArea</th>\n      <td>23</td>\n    </tr>\n    <tr>\n      <th>MasVnrType</th>\n      <td>1766</td>\n    </tr>\n    <tr>\n      <th>MiscFeature</th>\n      <td>2814</td>\n    </tr>\n    <tr>\n      <th>PoolQC</th>\n      <td>2909</td>\n    </tr>\n    <tr>\n      <th>SaleType</th>\n      <td>1</td>\n    </tr>\n    <tr>\n      <th>TotalBsmtSF</th>\n      <td>1</td>\n    </tr>\n    <tr>\n      <th>Utilities</th>\n      <td>2</td>\n    </tr>\n  </tbody>\n</table>\n</div>"
     },
     "execution_count": 4,
     "metadata": {},
     "output_type": "execute_result"
    }
   ],
   "source": [
    "# Anzahl der Nullwerte aller Spalten (Ergebnis ist kein DataFrame, sondern ein Series Objekt, leider...):\n",
    "null_werte = df.isna().sum()\n",
    "\n",
    "# Rück-Umwandeln in einen Data Frame\n",
    "nan = pd.DataFrame(null_werte).set_axis(['count'], axis=1)\n",
    "\n",
    "# Zeige alle Spalten, die Null-Werte haben, sortiert nach Spaltenname:\n",
    "nan = nan[nan['count'] >0]\n",
    "nan.sort_index(inplace=True)\n",
    "nan"
   ],
   "metadata": {
    "collapsed": false,
    "ExecuteTime": {
     "end_time": "2023-11-28T20:21:01.796365Z",
     "start_time": "2023-11-28T20:21:01.772900Z"
    }
   },
   "id": "29577856cf30cd3d"
  },
  {
   "cell_type": "code",
   "execution_count": 5,
   "outputs": [
    {
     "data": {
      "text/plain": "              count\nSaleType          1\nKitchenQual       1\nBsmtFinSF1        1\nBsmtFinSF2        1\nGarageCars        1\nGarageArea        1\nTotalBsmtSF       1\nExterior2nd       1\nExterior1st       1\nBsmtUnfSF         1\nElectrical        1\nFunctional        2\nUtilities         2\nBsmtHalfBath      2\nBsmtFullBath      2\nMSZoning          4\nMasVnrArea       23\nBsmtFinType1     79\nBsmtFinType2     80\nBsmtQual         81\nBsmtCond         82\nBsmtExposure     82\nGarageType      157\nGarageYrBlt     159\nGarageFinish    159\nGarageCond      159\nGarageQual      159\nLotFrontage     486\nFireplaceQu    1420\nMasVnrType     1766\nFence          2348\nAlley          2721\nMiscFeature    2814\nPoolQC         2909",
      "text/html": "<div>\n<style scoped>\n    .dataframe tbody tr th:only-of-type {\n        vertical-align: middle;\n    }\n\n    .dataframe tbody tr th {\n        vertical-align: top;\n    }\n\n    .dataframe thead th {\n        text-align: right;\n    }\n</style>\n<table border=\"1\" class=\"dataframe\">\n  <thead>\n    <tr style=\"text-align: right;\">\n      <th></th>\n      <th>count</th>\n    </tr>\n  </thead>\n  <tbody>\n    <tr>\n      <th>SaleType</th>\n      <td>1</td>\n    </tr>\n    <tr>\n      <th>KitchenQual</th>\n      <td>1</td>\n    </tr>\n    <tr>\n      <th>BsmtFinSF1</th>\n      <td>1</td>\n    </tr>\n    <tr>\n      <th>BsmtFinSF2</th>\n      <td>1</td>\n    </tr>\n    <tr>\n      <th>GarageCars</th>\n      <td>1</td>\n    </tr>\n    <tr>\n      <th>GarageArea</th>\n      <td>1</td>\n    </tr>\n    <tr>\n      <th>TotalBsmtSF</th>\n      <td>1</td>\n    </tr>\n    <tr>\n      <th>Exterior2nd</th>\n      <td>1</td>\n    </tr>\n    <tr>\n      <th>Exterior1st</th>\n      <td>1</td>\n    </tr>\n    <tr>\n      <th>BsmtUnfSF</th>\n      <td>1</td>\n    </tr>\n    <tr>\n      <th>Electrical</th>\n      <td>1</td>\n    </tr>\n    <tr>\n      <th>Functional</th>\n      <td>2</td>\n    </tr>\n    <tr>\n      <th>Utilities</th>\n      <td>2</td>\n    </tr>\n    <tr>\n      <th>BsmtHalfBath</th>\n      <td>2</td>\n    </tr>\n    <tr>\n      <th>BsmtFullBath</th>\n      <td>2</td>\n    </tr>\n    <tr>\n      <th>MSZoning</th>\n      <td>4</td>\n    </tr>\n    <tr>\n      <th>MasVnrArea</th>\n      <td>23</td>\n    </tr>\n    <tr>\n      <th>BsmtFinType1</th>\n      <td>79</td>\n    </tr>\n    <tr>\n      <th>BsmtFinType2</th>\n      <td>80</td>\n    </tr>\n    <tr>\n      <th>BsmtQual</th>\n      <td>81</td>\n    </tr>\n    <tr>\n      <th>BsmtCond</th>\n      <td>82</td>\n    </tr>\n    <tr>\n      <th>BsmtExposure</th>\n      <td>82</td>\n    </tr>\n    <tr>\n      <th>GarageType</th>\n      <td>157</td>\n    </tr>\n    <tr>\n      <th>GarageYrBlt</th>\n      <td>159</td>\n    </tr>\n    <tr>\n      <th>GarageFinish</th>\n      <td>159</td>\n    </tr>\n    <tr>\n      <th>GarageCond</th>\n      <td>159</td>\n    </tr>\n    <tr>\n      <th>GarageQual</th>\n      <td>159</td>\n    </tr>\n    <tr>\n      <th>LotFrontage</th>\n      <td>486</td>\n    </tr>\n    <tr>\n      <th>FireplaceQu</th>\n      <td>1420</td>\n    </tr>\n    <tr>\n      <th>MasVnrType</th>\n      <td>1766</td>\n    </tr>\n    <tr>\n      <th>Fence</th>\n      <td>2348</td>\n    </tr>\n    <tr>\n      <th>Alley</th>\n      <td>2721</td>\n    </tr>\n    <tr>\n      <th>MiscFeature</th>\n      <td>2814</td>\n    </tr>\n    <tr>\n      <th>PoolQC</th>\n      <td>2909</td>\n    </tr>\n  </tbody>\n</table>\n</div>"
     },
     "execution_count": 5,
     "metadata": {},
     "output_type": "execute_result"
    }
   ],
   "source": [
    "# Zeige alle Spalten, die Null-Werte haben, sortiert nach Anzahl\n",
    "nan.sort_values(by = 'count') "
   ],
   "metadata": {
    "collapsed": false,
    "ExecuteTime": {
     "end_time": "2023-11-28T20:21:01.801099Z",
     "start_time": "2023-11-28T20:21:01.785462Z"
    }
   },
   "id": "2f2f68c405f2240b"
  },
  {
   "cell_type": "markdown",
   "source": [
    "### Beurteilung der Spalten mit Null-Werten:\n",
    "Wir können der Datensatzbeschreibung entnehmen:\n",
    "\n",
    "- Alley: Type of alley access to property == Art des Wegs, der zum Grundstück führt (Grvl, Pave, NA)\n",
    "- BsmtCond: Evaluates the general condition of the basement == Qualität des Kellers (Ex, Gd, TA, Fa, Po, NA)\n",
    "- BsmtExposure: Refers to walkout or garden level walls == Exposition des Kellers (Gd, Av, Mn, No, NA)\n",
    "- BsmtFinSF1: Keller Typ 1, square feet\n",
    "- BsmtFinSF2: Keller Typ 2, square feet\n",
    "- BsmtFinType1: Rating of basement finished area == Qualität der Umgebung (GLQ, ALQ, BLQ, Rec, LwQ, Unf, NA)\n",
    "- BsmtFinType2: Rating of basement finished area == Qualität der Umgebung (GLQ, ALQ, BLQ, Rec, LwQ, Unf, NA)\n",
    "- BsmtFullBath: Anzahl Bäder im Keller\n",
    "- BsmtHalfBath: Anzahl halbe Bäder im Keller\n",
    "- BsmtQual: Qualität des Kellers (Ex, Gd, TA, Fa, Po, NA)\n",
    "- BsmtUnfSF: Unfertiger Keller: square feet\n",
    "- Electrical: Art der elektrischen Installation (SBrkr, FuseA, FuseF, FuseP, Mix)\n",
    "- Exterior1st: Oberfläche des Hauses (AsbShng, AsphShn, BrkComm, BrkFace, CBlock, CemntBd, HdBoard, ImStucc, MetalSd, Other, Plywood, PreCast, Stone, Stucco, VinylSd, Wd Sdng, WdShing\tWood Shingles)\n",
    "- Exterior2nd: Oberfläche des Hauses (AsbShng, AsphShn, BrkComm, BrkFace, CBlock, CemntBd, HdBoard, ImStucc, MetalSd, Other, Plywood, PreCast, Stone, Stucco, VinylSd, Wd Sdng, WdShing\tWood Shingles)\n",
    "- Fence: Fence quality == Hellhörigkeit (GdPrv, MnPrv, GdWo, MnWw, NA)\n",
    "- FireplaceQu: Fireplace quality == Qualität des Kamins/Ofens (Ex, Gd, TA, Fa, Po, NA)\n",
    "- Functional: Hausfunktion (Typ, Min1, Min2, Mod, Maj1, Maj2, Sev, Sal)\n",
    "- GarageArea: Größe der Garage\n",
    "- GarageCars: Anzahl der Fahrzeuge der Garage\n",
    "- GarageCond: Zustand der Garage (Ex, Gd, TA, Fa, Po, NA)\n",
    "- GarageFinish: Oberflächen in der Garage (Fin, RFn, Unf, NA) \n",
    "- GarageQual: Qualität der Garage (Ex, Gd, TA, Fa, Po, NA)\n",
    "- GarageType: Art der Garage (2Types, Attchd, Basment, BuiltIn, CarPort, Detchd, NA)\n",
    "- GarageYrBlt: Baujahr der Garage\n",
    "- KitchenQual: Ex, Gd, TA, Fa, Po\n",
    "- LotFrontage: Linear feet of street connected to property == Breite der Straßenfront in Metern\n",
    "- MasVnrArea: Verblendete Fläche in Quadratmetern\n",
    "- MasVnrType: Masonry veneer type == Art der Mauerwerksverblendung (BrkCmn, BrkFace, CBlock, None, Stone)\n",
    "- MiscFeature: Miscellaneous feature not covered in other categories == Weitere Eigenschaften (Elev, Gar2, Othr, Shed, TenC, NA)\n",
    "- MSZoning: Umgebung (A, C, FV, I, RH, RL, RP, RM)\n",
    "- PoolQC: Pool quality == Qualität des Pools (Ex, Gd, TA, Fa, NA)\n",
    "- SaleType: Art des Verkaufs (WD , CWD, VWD, New, COD, Con, ConLw, ConLI, ConLD, Oth)\n",
    "- TotalBsmtSF: Gesamtgröße des Kellers in square feet\n",
    "- Utilities: Vorhandene Infrastruktur (AllPub, NoSewr, NoSeWa, ELO)\n",
    "\n",
    "Hiervon sind numerische kontinuierliche Daten:\n",
    "* LotFrontage\n",
    "* MasVnrArea\n",
    "\n",
    "* BsmtFinSF1\n",
    "* BsmtFinSF2\n",
    "* BsmtUnfSF\n",
    "* GarageArea\n",
    "* TotalBsmtSF\n",
    "\n",
    "Hiervon sind numerische diskrete Daten\n",
    "* BsmtFullBath\n",
    "* BsmtHalfBath\n",
    "* GarageCars\n",
    "\n",
    "Hiervon sind kategorisch nominale Daten:\n",
    "* Alley\n",
    "* BsmtExposure\n",
    "* Electrical\n",
    "* GarageFinish\n",
    "* GarageType\n",
    "* MasVnrType\n",
    "* MiscFeature\n",
    "\n",
    "* Exterior1st\n",
    "* Exterior2nd\n",
    "* Functional\n",
    "* MSZoning\n",
    "* SaleType\n",
    "* Utilities\n",
    "\n",
    "Hiervon sind kategorisch ordninale Daten:\n",
    "* FireplaceQu\n",
    "* PoolQC\n",
    "* Fence\n",
    "* BsmtCond\n",
    "* BsmtFinType1\n",
    "* BsmtFinType2\n",
    "* BsmtQual\n",
    "* GarageCond\n",
    "* GarageQual\n",
    "* GarageYrBlt\n",
    "\n",
    "* KitchenQual\n",
    "* \n"
   ],
   "metadata": {
    "collapsed": false
   },
   "id": "830889b6d23a64f2"
  },
  {
   "cell_type": "markdown",
   "source": [
    "### Strategie zum Ersetzen von Nullwerten:\n",
    "**Hiervon sind numerische kontinuierliche Daten:**\n",
    "* LotFrontage => Durchschnitt aller nicht-Null-Werte\n",
    "* MasVnrArea => Durchschnitt aller nicht-Null-Werte\n",
    "\n",
    "* BsmtFinSF1 => 0 (wir nehmen an, dass es keinen Keller gibt)\n",
    "* BsmtFinSF2 => 0\n",
    "* BsmtUnfSF => 0\n",
    "* GarageArea => 0 (wir nehemn an, dass es keine Garage gibt)\n",
    "* TotalBsmtSF => 0\n",
    "\n",
    "**Hiervon sind numerische diskrete Daten**\n",
    "* BsmtFullBath => 0 (s.o.)\n",
    "* BsmtHalfBath => 0\n",
    "* GarageCars => 0 (s.o.)\n",
    "\n",
    "**Hiervon sind kategorisch nominale Daten:**\n",
    "Bei nominalen Daten besteht die Schwierigkeit, dass hier ein sinnvoller Ersatzwert gefunden werden muss, wenn die Datenzeilen nicht ganz gelöscht werden sollen.\n",
    "Da alle diese kategorische nominalen Daten ein NA für nicht verfügbar aufweisen, kann durch NA (bzw. None bei MasVnrType) ersetzt werden.\n",
    "* Alley\n",
    "* BsmtExposure\n",
    "* GarageFinish\n",
    "* GarageType\n",
    "* MasVnrType\n",
    "* MiscFeature\n",
    "\n",
    "* Exterior1st => mode\n",
    "* Exterior2nd => mode\n",
    "* Functional => Sonderfall: Wir können laut Datenbeschreibung 'Typ' als Wert für NaN verwenden. all_data[\"Functional\"] = all_data[\"Functional\"].fillna(\"Typ\")\n",
    "* Electrical => mode\n",
    "* MSZoning => mode\n",
    "* SaleType => mode\n",
    "* Utilities => drop column\n",
    "\n",
    "**Hiervon sind kategorisch ordninale Daten:**\n",
    "Auch hier kann jeweils 'NA' angenommen werden. Für GarageYrBlt wird 1900 angenommen (s.u.)\n",
    "* FireplaceQu\n",
    "* PoolQC\n",
    "* Fence\n",
    "* BsmtCond\n",
    "* BsmtFinType1\n",
    "* BsmtFinType2\n",
    "* BsmtQual\n",
    "* GarageCond\n",
    "* GarageQual\n",
    "* GarageYrBlt\n",
    "\n",
    "* KitchenQual => mode"
   ],
   "metadata": {
    "collapsed": false
   },
   "id": "47413a2e6b8f6a28"
  },
  {
   "cell_type": "markdown",
   "source": [
    "### Auffällig sind die Spalten mit Garagen\n",
    "Alle Garagen-Spalten haben genau 81 NaN Zeilen. Offenbar sind dies die Objekte ohne Garage.\n",
    "Hier sieht die Ersatz-Strategie so aus, dass überall NA als Wert angenommen wird. GarageYrBlt wird als 1900 angenommen, unter der Hypothese, dass je älter die Garage, desto schlechter. Das korreliert mit dem Fehlen der Garage."
   ],
   "metadata": {
    "collapsed": false
   },
   "id": "af12dac43e5ecab1"
  },
  {
   "cell_type": "code",
   "execution_count": 6,
   "outputs": [
    {
     "data": {
      "text/plain": "      GarageCars GarageCond GarageFinish GarageQual GarageType  GarageYrBlt\n39         0.000        NaN          NaN        NaN        NaN          NaN\n48         0.000        NaN          NaN        NaN        NaN          NaN\n78         0.000        NaN          NaN        NaN        NaN          NaN\n88         0.000        NaN          NaN        NaN        NaN          NaN\n89         0.000        NaN          NaN        NaN        NaN          NaN\n...          ...        ...          ...        ...        ...          ...\n2893       0.000        NaN          NaN        NaN        NaN          NaN\n2909       0.000        NaN          NaN        NaN        NaN          NaN\n2913       0.000        NaN          NaN        NaN        NaN          NaN\n2914       0.000        NaN          NaN        NaN        NaN          NaN\n2917       0.000        NaN          NaN        NaN        NaN          NaN\n\n[159 rows x 6 columns]",
      "text/html": "<div>\n<style scoped>\n    .dataframe tbody tr th:only-of-type {\n        vertical-align: middle;\n    }\n\n    .dataframe tbody tr th {\n        vertical-align: top;\n    }\n\n    .dataframe thead th {\n        text-align: right;\n    }\n</style>\n<table border=\"1\" class=\"dataframe\">\n  <thead>\n    <tr style=\"text-align: right;\">\n      <th></th>\n      <th>GarageCars</th>\n      <th>GarageCond</th>\n      <th>GarageFinish</th>\n      <th>GarageQual</th>\n      <th>GarageType</th>\n      <th>GarageYrBlt</th>\n    </tr>\n  </thead>\n  <tbody>\n    <tr>\n      <th>39</th>\n      <td>0.000</td>\n      <td>NaN</td>\n      <td>NaN</td>\n      <td>NaN</td>\n      <td>NaN</td>\n      <td>NaN</td>\n    </tr>\n    <tr>\n      <th>48</th>\n      <td>0.000</td>\n      <td>NaN</td>\n      <td>NaN</td>\n      <td>NaN</td>\n      <td>NaN</td>\n      <td>NaN</td>\n    </tr>\n    <tr>\n      <th>78</th>\n      <td>0.000</td>\n      <td>NaN</td>\n      <td>NaN</td>\n      <td>NaN</td>\n      <td>NaN</td>\n      <td>NaN</td>\n    </tr>\n    <tr>\n      <th>88</th>\n      <td>0.000</td>\n      <td>NaN</td>\n      <td>NaN</td>\n      <td>NaN</td>\n      <td>NaN</td>\n      <td>NaN</td>\n    </tr>\n    <tr>\n      <th>89</th>\n      <td>0.000</td>\n      <td>NaN</td>\n      <td>NaN</td>\n      <td>NaN</td>\n      <td>NaN</td>\n      <td>NaN</td>\n    </tr>\n    <tr>\n      <th>...</th>\n      <td>...</td>\n      <td>...</td>\n      <td>...</td>\n      <td>...</td>\n      <td>...</td>\n      <td>...</td>\n    </tr>\n    <tr>\n      <th>2893</th>\n      <td>0.000</td>\n      <td>NaN</td>\n      <td>NaN</td>\n      <td>NaN</td>\n      <td>NaN</td>\n      <td>NaN</td>\n    </tr>\n    <tr>\n      <th>2909</th>\n      <td>0.000</td>\n      <td>NaN</td>\n      <td>NaN</td>\n      <td>NaN</td>\n      <td>NaN</td>\n      <td>NaN</td>\n    </tr>\n    <tr>\n      <th>2913</th>\n      <td>0.000</td>\n      <td>NaN</td>\n      <td>NaN</td>\n      <td>NaN</td>\n      <td>NaN</td>\n      <td>NaN</td>\n    </tr>\n    <tr>\n      <th>2914</th>\n      <td>0.000</td>\n      <td>NaN</td>\n      <td>NaN</td>\n      <td>NaN</td>\n      <td>NaN</td>\n      <td>NaN</td>\n    </tr>\n    <tr>\n      <th>2917</th>\n      <td>0.000</td>\n      <td>NaN</td>\n      <td>NaN</td>\n      <td>NaN</td>\n      <td>NaN</td>\n      <td>NaN</td>\n    </tr>\n  </tbody>\n</table>\n<p>159 rows × 6 columns</p>\n</div>"
     },
     "execution_count": 6,
     "metadata": {},
     "output_type": "execute_result"
    }
   ],
   "source": [
    "cols = ['GarageCars', 'GarageCond', 'GarageFinish', 'GarageQual', 'GarageType', 'GarageYrBlt']\n",
    "df_gar = df [cols].copy()\n",
    "df_gar[df_gar['GarageCond'].isna()]"
   ],
   "metadata": {
    "collapsed": false,
    "ExecuteTime": {
     "end_time": "2023-11-28T20:21:01.816577Z",
     "start_time": "2023-11-28T20:21:01.790208Z"
    }
   },
   "id": "4b61922a85395647"
  },
  {
   "cell_type": "markdown",
   "source": [
    "## Umsetzung\n",
    "\n",
    "Zunächst sehen wir uns noch einmal die Häufigkeit der Nullwerte an:"
   ],
   "metadata": {
    "collapsed": false
   },
   "id": "c958c23f68a36c70"
  },
  {
   "cell_type": "code",
   "execution_count": 7,
   "outputs": [
    {
     "data": {
      "text/plain": "<Figure size 640x480 with 1 Axes>",
      "image/png": "[encoded data removed]"
     },
     "metadata": {},
     "output_type": "display_data"
    }
   ],
   "source": [
    "#Drucke alle Nan-Spalten in einem Bar-Chart\n",
    "\n",
    "null_features = []\n",
    "nullValues = []\n",
    "threshold = 2000\n",
    "for i in df:\n",
    "    # print (i + \": \" + str(df.isna().sum()[i]))\n",
    "    if (df.isna().sum()[i])>threshold and i!='SalePrice':\n",
    "        null_features.append(i)\n",
    "        nullValues.append(df.isna().sum()[i])\n",
    "        \n",
    "y_pos = np.arange(len(null_features)) \n",
    "plt.bar(y_pos, nullValues, align='center', alpha=0.5)\n",
    "plt.xticks(y_pos, null_features)\n",
    "plt.ylabel('Anzahl NULL Werte')\n",
    "plt.xlabel('null_features')\n",
    "plt.title('Feature-Spalten mit mehr als ' + str (threshold) +' Null Werten (Anz: ' + str (len(nullValues)) + ')')\n",
    "plt.xticks(rotation=90)\n",
    "plt.show()"
   ],
   "metadata": {
    "collapsed": false,
    "ExecuteTime": {
     "end_time": "2023-11-28T20:21:02.216158Z",
     "start_time": "2023-11-28T20:21:01.799663Z"
    }
   },
   "id": "d16e646ca5d0c9e2"
  },
  {
   "cell_type": "code",
   "execution_count": 8,
   "outputs": [
    {
     "name": "stdout",
     "output_type": "stream",
     "text": [
      "['Alley', 'PoolQC', 'Fence', 'MiscFeature']\n"
     ]
    },
    {
     "data": {
      "text/plain": "  Alley PoolQC Fence MiscFeature\n0   NaN    NaN   NaN         NaN\n1   NaN    NaN   NaN         NaN\n2   NaN    NaN   NaN         NaN\n3   NaN    NaN   NaN         NaN\n4   NaN    NaN   NaN         NaN",
      "text/html": "<div>\n<style scoped>\n    .dataframe tbody tr th:only-of-type {\n        vertical-align: middle;\n    }\n\n    .dataframe tbody tr th {\n        vertical-align: top;\n    }\n\n    .dataframe thead th {\n        text-align: right;\n    }\n</style>\n<table border=\"1\" class=\"dataframe\">\n  <thead>\n    <tr style=\"text-align: right;\">\n      <th></th>\n      <th>Alley</th>\n      <th>PoolQC</th>\n      <th>Fence</th>\n      <th>MiscFeature</th>\n    </tr>\n  </thead>\n  <tbody>\n    <tr>\n      <th>0</th>\n      <td>NaN</td>\n      <td>NaN</td>\n      <td>NaN</td>\n      <td>NaN</td>\n    </tr>\n    <tr>\n      <th>1</th>\n      <td>NaN</td>\n      <td>NaN</td>\n      <td>NaN</td>\n      <td>NaN</td>\n    </tr>\n    <tr>\n      <th>2</th>\n      <td>NaN</td>\n      <td>NaN</td>\n      <td>NaN</td>\n      <td>NaN</td>\n    </tr>\n    <tr>\n      <th>3</th>\n      <td>NaN</td>\n      <td>NaN</td>\n      <td>NaN</td>\n      <td>NaN</td>\n    </tr>\n    <tr>\n      <th>4</th>\n      <td>NaN</td>\n      <td>NaN</td>\n      <td>NaN</td>\n      <td>NaN</td>\n    </tr>\n  </tbody>\n</table>\n</div>"
     },
     "execution_count": 8,
     "metadata": {},
     "output_type": "execute_result"
    }
   ],
   "source": [
    "# Beispieldaten unserer betroffenen Spalten\n",
    "print (null_features)\n",
    "null_df = df[null_features]\n",
    "null_df.head()"
   ],
   "metadata": {
    "collapsed": false,
    "ExecuteTime": {
     "end_time": "2023-11-28T20:21:02.233011Z",
     "start_time": "2023-11-28T20:21:02.223575Z"
    }
   },
   "id": "dcfcdc7d81e33bd1"
  },
  {
   "cell_type": "markdown",
   "source": [
    "### Unterscheidung der Fälle"
   ],
   "metadata": {
    "collapsed": false
   },
   "id": "98e37c0bba6e0018"
  },
  {
   "cell_type": "code",
   "execution_count": 25,
   "outputs": [],
   "source": [
    "#Numerische kontinuierliche Daten:\n",
    "num_kon_cols = ['LotFrontage', 'MasVnrArea']\n",
    "\n",
    "#Spalten, für die NaN auf 0 gesetzt werden kann:\n",
    "num_cols_zero = ['BsmtFinSF1', 'BsmtFinSF2', 'BsmtUnfSF', 'GarageArea', 'TotalBsmtSF', 'BsmtFullBath', 'BsmtHalfBath', 'GarageCars']\n",
    "\n",
    "#Spalten, die mit dem häufigsten Wert belegt werden können:\n",
    "set_col_to_mode = ['KitchenQual', 'SaleType', 'MSZoning', 'Electrical', 'Exterior2nd', 'Exterior1st']\n",
    "\n",
    "#Kategorisch nominale Daten:\n",
    "kat_nom_cols = ['BsmtExposure', 'GarageFinish', 'GarageType']\n",
    "\n",
    "#Kategorisch ordninale Daten:\n",
    "kat_ord_cols = ['FireplaceQu', 'Fence', 'BsmtCond', 'BsmtFinType1', 'BsmtFinType2', 'BsmtQual', 'GarageCond', 'GarageQual']\n",
    "\n",
    "\n",
    "#TODO: Es wurden in den Listen die vier \"null_feature\" Spalten manuell entfernt. Das könnte man automatisieren."
   ],
   "metadata": {
    "collapsed": false,
    "ExecuteTime": {
     "end_time": "2023-11-28T20:23:01.811929Z",
     "start_time": "2023-11-28T20:23:01.792859Z"
    }
   },
   "id": "10cb11d0cc72393a"
  },
  {
   "cell_type": "markdown",
   "source": [
    "### Wir betrachten zunächst die Sonderfälle:"
   ],
   "metadata": {
    "collapsed": false
   },
   "id": "acfbe3f343df378a"
  },
  {
   "cell_type": "code",
   "execution_count": 10,
   "outputs": [],
   "source": [
    "# Wir arbeiten auf einer Kopie!\n",
    "df_processed = df.copy()\n",
    "\n",
    "\n",
    "df_processed['GarageYrBlt'] = df_processed['GarageYrBlt'].fillna('1900')\n",
    "\n",
    "df_processed['MasVnrType'] = df_processed['MasVnrType'].fillna('None')\n",
    "\n",
    "df_processed[\"Functional\"] = df_processed['Functional'].fillna(\"Typ\")\n"
   ],
   "metadata": {
    "collapsed": false,
    "ExecuteTime": {
     "end_time": "2023-11-28T20:21:02.278247Z",
     "start_time": "2023-11-28T20:21:02.240745Z"
    }
   },
   "id": "6d1c8b73ef0b23c7"
  },
  {
   "cell_type": "markdown",
   "source": [
    "## Spalten löschen\n"
   ],
   "metadata": {
    "collapsed": false
   },
   "id": "43bc362c333fd29f"
  },
  {
   "cell_type": "markdown",
   "source": [
    "### Die Null-Feature Spalten (mehr als threshold Werte) entfernen wir aus dem Dataset:\n"
   ],
   "metadata": {
    "collapsed": false
   },
   "id": "125786619bdbc5f1"
  },
  {
   "cell_type": "code",
   "execution_count": 11,
   "outputs": [
    {
     "name": "stdout",
     "output_type": "stream",
     "text": [
      "Spaltenzahl Original Datenset: 80\n",
      "Spaltenzahl processed Datenset: 76\n"
     ]
    }
   ],
   "source": [
    "df_processed = df_processed.dropna(axis=1, thresh =  df.shape[0] - threshold) # Threshold -> Anzahl der NICHT-NaN Zeilen\n",
    "\n",
    "print(\"Spaltenzahl Original Datenset: \" + str (df.shape[1]))\n",
    "print(\"Spaltenzahl processed Datenset: \" + str (df_processed.shape[1]))\n"
   ],
   "metadata": {
    "collapsed": false,
    "ExecuteTime": {
     "end_time": "2023-11-28T20:21:02.324561Z",
     "start_time": "2023-11-28T20:21:02.246313Z"
    }
   },
   "id": "419a41a1521b4926"
  },
  {
   "cell_type": "markdown",
   "source": [
    "### Spalte 'Utilities' löschen"
   ],
   "metadata": {
    "collapsed": false
   },
   "id": "a200114291699202"
  },
  {
   "cell_type": "code",
   "execution_count": 12,
   "outputs": [],
   "source": [
    "df_processed = df_processed.drop(['Utilities'], axis=1)"
   ],
   "metadata": {
    "collapsed": false,
    "ExecuteTime": {
     "end_time": "2023-11-28T20:21:02.326473Z",
     "start_time": "2023-11-28T20:21:02.259310Z"
    }
   },
   "id": "cc6bd579e98e2080"
  },
  {
   "cell_type": "markdown",
   "source": [
    "### Für einige Spalten setzen wir default-Werte - Spalten mit mean()"
   ],
   "metadata": {
    "collapsed": false
   },
   "id": "5b1bf5c22d1d0b3c"
  },
  {
   "cell_type": "code",
   "execution_count": 13,
   "outputs": [
    {
     "data": {
      "text/plain": "LotFrontage    69.306\nMasVnrArea    102.201\ndtype: float64"
     },
     "execution_count": 13,
     "metadata": {},
     "output_type": "execute_result"
    }
   ],
   "source": [
    "df_processed[num_kon_cols].mean()"
   ],
   "metadata": {
    "collapsed": false,
    "ExecuteTime": {
     "end_time": "2023-11-28T20:21:02.363772Z",
     "start_time": "2023-11-28T20:21:02.264948Z"
    }
   },
   "id": "10320cc0bb286407"
  },
  {
   "cell_type": "code",
   "execution_count": 14,
   "outputs": [
    {
     "name": "stdout",
     "output_type": "stream",
     "text": [
      "LotFrontage    486\n",
      "MasVnrArea      23\n",
      "dtype: int64\n"
     ]
    },
    {
     "data": {
      "text/plain": "LotFrontage    0\nMasVnrArea     0\ndtype: int64"
     },
     "execution_count": 14,
     "metadata": {},
     "output_type": "execute_result"
    }
   ],
   "source": [
    "# numerisch kontinuierliche Daten:\n",
    "\n",
    "print(df_processed[num_kon_cols].isna().sum())\n",
    "for col in num_kon_cols:\n",
    "    df_processed[col] = df_processed[col].fillna(df_processed[col].mean())\n",
    "\n",
    "df_processed[num_kon_cols].isna().sum()\n"
   ],
   "metadata": {
    "collapsed": false,
    "ExecuteTime": {
     "end_time": "2023-11-28T20:21:02.367746Z",
     "start_time": "2023-11-28T20:21:02.284863Z"
    }
   },
   "id": "7ca35a1ed611e1f2"
  },
  {
   "cell_type": "markdown",
   "source": [
    "### Spalten, die mit dem häufigsten Wert belegt werden - Spalten mit mode()"
   ],
   "metadata": {
    "collapsed": false
   },
   "id": "7bddff0eb540c1aa"
  },
  {
   "cell_type": "code",
   "execution_count": 15,
   "outputs": [
    {
     "name": "stdout",
     "output_type": "stream",
     "text": [
      "KitchenQual TA\n",
      "SaleType WD\n",
      "MSZoning RL\n",
      "Electrical SBrkr\n",
      "Exterior2nd VinylSd\n",
      "Exterior1st VinylSd\n"
     ]
    }
   ],
   "source": [
    "for col in set_col_to_mode:\n",
    "    print (col, df[col].mode()[0])\n",
    "    df[col] = df[col].fillna(df[col].mode()[0])"
   ],
   "metadata": {
    "collapsed": false,
    "ExecuteTime": {
     "end_time": "2023-11-28T20:21:02.405513Z",
     "start_time": "2023-11-28T20:21:02.295060Z"
    }
   },
   "id": "e08450c7d3fd5014"
  },
  {
   "cell_type": "markdown",
   "source": [
    "### Numerische Daten, die auf 0 gesetzt werden können:"
   ],
   "metadata": {
    "collapsed": false
   },
   "id": "cbba4feb42a19302"
  },
  {
   "cell_type": "code",
   "execution_count": 16,
   "outputs": [
    {
     "name": "stdout",
     "output_type": "stream",
     "text": [
      "BsmtFinSF1\n",
      "BsmtFinSF2\n",
      "BsmtUnfSF\n",
      "GarageArea\n",
      "TotalBsmtSF\n",
      "BsmtFullBath\n",
      "BsmtHalfBath\n",
      "GarageCars\n"
     ]
    }
   ],
   "source": [
    "for col in num_cols_zero:\n",
    "    print(col)\n",
    "    df[col] = df[col].fillna(0)"
   ],
   "metadata": {
    "collapsed": false,
    "ExecuteTime": {
     "end_time": "2023-11-28T20:21:02.405707Z",
     "start_time": "2023-11-28T20:21:02.304657Z"
    }
   },
   "id": "4a4fde178885a660"
  },
  {
   "cell_type": "markdown",
   "source": [
    "### Kategorisch nominale und ordinale Daten, die auf 'NA' gesetzt werden können"
   ],
   "metadata": {
    "collapsed": false
   },
   "id": "f62274a9678c5476"
  },
  {
   "cell_type": "code",
   "execution_count": 19,
   "outputs": [
    {
     "name": "stdout",
     "output_type": "stream",
     "text": [
      "BsmtExposure\n",
      "GarageFinish\n",
      "GarageType\n"
     ]
    }
   ],
   "source": [
    "# kategorisch nominale Daten, die auf NA gesetzt werden können:\n",
    "\n",
    "for col in kat_nom_cols:\n",
    "    print(col)\n",
    "    df_processed[col] = df_processed[col].fillna('NA')\n"
   ],
   "metadata": {
    "collapsed": false,
    "ExecuteTime": {
     "end_time": "2023-11-28T20:21:50.413386Z",
     "start_time": "2023-11-28T20:21:50.396634Z"
    }
   },
   "id": "eae233167c90b8f3"
  },
  {
   "cell_type": "code",
   "execution_count": 24,
   "outputs": [
    {
     "name": "stdout",
     "output_type": "stream",
     "text": [
      "FireplaceQu\n",
      "PoolQC\n"
     ]
    },
    {
     "ename": "KeyError",
     "evalue": "'PoolQC'",
     "output_type": "error",
     "traceback": [
      "\u001B[0;31m---------------------------------------------------------------------------\u001B[0m",
      "\u001B[0;31mKeyError\u001B[0m                                  Traceback (most recent call last)",
      "File \u001B[0;32m~/anaconda3/envs/python-ml-course/lib/python3.10/site-packages/pandas/core/indexes/base.py:3790\u001B[0m, in \u001B[0;36mIndex.get_loc\u001B[0;34m(self, key)\u001B[0m\n\u001B[1;32m   3789\u001B[0m \u001B[38;5;28;01mtry\u001B[39;00m:\n\u001B[0;32m-> 3790\u001B[0m     \u001B[38;5;28;01mreturn\u001B[39;00m \u001B[38;5;28;43mself\u001B[39;49m\u001B[38;5;241;43m.\u001B[39;49m\u001B[43m_engine\u001B[49m\u001B[38;5;241;43m.\u001B[39;49m\u001B[43mget_loc\u001B[49m\u001B[43m(\u001B[49m\u001B[43mcasted_key\u001B[49m\u001B[43m)\u001B[49m\n\u001B[1;32m   3791\u001B[0m \u001B[38;5;28;01mexcept\u001B[39;00m \u001B[38;5;167;01mKeyError\u001B[39;00m \u001B[38;5;28;01mas\u001B[39;00m err:\n",
      "File \u001B[0;32mindex.pyx:152\u001B[0m, in \u001B[0;36mpandas._libs.index.IndexEngine.get_loc\u001B[0;34m()\u001B[0m\n",
      "File \u001B[0;32mindex.pyx:181\u001B[0m, in \u001B[0;36mpandas._libs.index.IndexEngine.get_loc\u001B[0;34m()\u001B[0m\n",
      "File \u001B[0;32mpandas/_libs/hashtable_class_helper.pxi:7080\u001B[0m, in \u001B[0;36mpandas._libs.hashtable.PyObjectHashTable.get_item\u001B[0;34m()\u001B[0m\n",
      "File \u001B[0;32mpandas/_libs/hashtable_class_helper.pxi:7088\u001B[0m, in \u001B[0;36mpandas._libs.hashtable.PyObjectHashTable.get_item\u001B[0;34m()\u001B[0m\n",
      "\u001B[0;31mKeyError\u001B[0m: 'PoolQC'",
      "\nThe above exception was the direct cause of the following exception:\n",
      "\u001B[0;31mKeyError\u001B[0m                                  Traceback (most recent call last)",
      "Cell \u001B[0;32mIn[24], line 5\u001B[0m\n\u001B[1;32m      3\u001B[0m \u001B[38;5;28;01mfor\u001B[39;00m col \u001B[38;5;129;01min\u001B[39;00m kat_ord_cols:\n\u001B[1;32m      4\u001B[0m     \u001B[38;5;28mprint\u001B[39m(col)\n\u001B[0;32m----> 5\u001B[0m     df_processed[col] \u001B[38;5;241m=\u001B[39m \u001B[43mdf_processed\u001B[49m\u001B[43m[\u001B[49m\u001B[43mcol\u001B[49m\u001B[43m]\u001B[49m\u001B[38;5;241m.\u001B[39mfillna(\u001B[38;5;124m'\u001B[39m\u001B[38;5;124mNA\u001B[39m\u001B[38;5;124m'\u001B[39m)\n",
      "File \u001B[0;32m~/anaconda3/envs/python-ml-course/lib/python3.10/site-packages/pandas/core/frame.py:3893\u001B[0m, in \u001B[0;36mDataFrame.__getitem__\u001B[0;34m(self, key)\u001B[0m\n\u001B[1;32m   3891\u001B[0m \u001B[38;5;28;01mif\u001B[39;00m \u001B[38;5;28mself\u001B[39m\u001B[38;5;241m.\u001B[39mcolumns\u001B[38;5;241m.\u001B[39mnlevels \u001B[38;5;241m>\u001B[39m \u001B[38;5;241m1\u001B[39m:\n\u001B[1;32m   3892\u001B[0m     \u001B[38;5;28;01mreturn\u001B[39;00m \u001B[38;5;28mself\u001B[39m\u001B[38;5;241m.\u001B[39m_getitem_multilevel(key)\n\u001B[0;32m-> 3893\u001B[0m indexer \u001B[38;5;241m=\u001B[39m \u001B[38;5;28;43mself\u001B[39;49m\u001B[38;5;241;43m.\u001B[39;49m\u001B[43mcolumns\u001B[49m\u001B[38;5;241;43m.\u001B[39;49m\u001B[43mget_loc\u001B[49m\u001B[43m(\u001B[49m\u001B[43mkey\u001B[49m\u001B[43m)\u001B[49m\n\u001B[1;32m   3894\u001B[0m \u001B[38;5;28;01mif\u001B[39;00m is_integer(indexer):\n\u001B[1;32m   3895\u001B[0m     indexer \u001B[38;5;241m=\u001B[39m [indexer]\n",
      "File \u001B[0;32m~/anaconda3/envs/python-ml-course/lib/python3.10/site-packages/pandas/core/indexes/base.py:3797\u001B[0m, in \u001B[0;36mIndex.get_loc\u001B[0;34m(self, key)\u001B[0m\n\u001B[1;32m   3792\u001B[0m     \u001B[38;5;28;01mif\u001B[39;00m \u001B[38;5;28misinstance\u001B[39m(casted_key, \u001B[38;5;28mslice\u001B[39m) \u001B[38;5;129;01mor\u001B[39;00m (\n\u001B[1;32m   3793\u001B[0m         \u001B[38;5;28misinstance\u001B[39m(casted_key, abc\u001B[38;5;241m.\u001B[39mIterable)\n\u001B[1;32m   3794\u001B[0m         \u001B[38;5;129;01mand\u001B[39;00m \u001B[38;5;28many\u001B[39m(\u001B[38;5;28misinstance\u001B[39m(x, \u001B[38;5;28mslice\u001B[39m) \u001B[38;5;28;01mfor\u001B[39;00m x \u001B[38;5;129;01min\u001B[39;00m casted_key)\n\u001B[1;32m   3795\u001B[0m     ):\n\u001B[1;32m   3796\u001B[0m         \u001B[38;5;28;01mraise\u001B[39;00m InvalidIndexError(key)\n\u001B[0;32m-> 3797\u001B[0m     \u001B[38;5;28;01mraise\u001B[39;00m \u001B[38;5;167;01mKeyError\u001B[39;00m(key) \u001B[38;5;28;01mfrom\u001B[39;00m \u001B[38;5;21;01merr\u001B[39;00m\n\u001B[1;32m   3798\u001B[0m \u001B[38;5;28;01mexcept\u001B[39;00m \u001B[38;5;167;01mTypeError\u001B[39;00m:\n\u001B[1;32m   3799\u001B[0m     \u001B[38;5;66;03m# If we have a listlike key, _check_indexing_error will raise\u001B[39;00m\n\u001B[1;32m   3800\u001B[0m     \u001B[38;5;66;03m#  InvalidIndexError. Otherwise we fall through and re-raise\u001B[39;00m\n\u001B[1;32m   3801\u001B[0m     \u001B[38;5;66;03m#  the TypeError.\u001B[39;00m\n\u001B[1;32m   3802\u001B[0m     \u001B[38;5;28mself\u001B[39m\u001B[38;5;241m.\u001B[39m_check_indexing_error(key)\n",
      "\u001B[0;31mKeyError\u001B[0m: 'PoolQC'"
     ]
    }
   ],
   "source": [
    "# kategorisch ordinale Daten, die auf NA gesetzt werden können:\n",
    "\n",
    "for col in kat_ord_cols:\n",
    "    print(col)\n",
    "    df_processed[col] = df_processed[col].fillna('NA')\n",
    "\n"
   ],
   "metadata": {
    "collapsed": false,
    "ExecuteTime": {
     "end_time": "2023-11-28T20:22:46.728900Z",
     "start_time": "2023-11-28T20:22:46.684714Z"
    }
   },
   "id": "345397c520c4a7ae"
  },
  {
   "cell_type": "markdown",
   "source": [
    "# Überprüfung"
   ],
   "metadata": {
    "collapsed": false
   },
   "id": "9a2b5e8ba7b054eb"
  },
  {
   "cell_type": "code",
   "execution_count": 21,
   "outputs": [
    {
     "data": {
      "text/plain": "               count\nId                 0\nMSSubClass         0\nMSZoning           4\nLotFrontage        0\nLotArea            0\n...              ...\nMiscVal            0\nMoSold             0\nYrSold             0\nSaleType           1\nSaleCondition      0\n\n[75 rows x 1 columns]",
      "text/html": "<div>\n<style scoped>\n    .dataframe tbody tr th:only-of-type {\n        vertical-align: middle;\n    }\n\n    .dataframe tbody tr th {\n        vertical-align: top;\n    }\n\n    .dataframe thead th {\n        text-align: right;\n    }\n</style>\n<table border=\"1\" class=\"dataframe\">\n  <thead>\n    <tr style=\"text-align: right;\">\n      <th></th>\n      <th>count</th>\n    </tr>\n  </thead>\n  <tbody>\n    <tr>\n      <th>Id</th>\n      <td>0</td>\n    </tr>\n    <tr>\n      <th>MSSubClass</th>\n      <td>0</td>\n    </tr>\n    <tr>\n      <th>MSZoning</th>\n      <td>4</td>\n    </tr>\n    <tr>\n      <th>LotFrontage</th>\n      <td>0</td>\n    </tr>\n    <tr>\n      <th>LotArea</th>\n      <td>0</td>\n    </tr>\n    <tr>\n      <th>...</th>\n      <td>...</td>\n    </tr>\n    <tr>\n      <th>MiscVal</th>\n      <td>0</td>\n    </tr>\n    <tr>\n      <th>MoSold</th>\n      <td>0</td>\n    </tr>\n    <tr>\n      <th>YrSold</th>\n      <td>0</td>\n    </tr>\n    <tr>\n      <th>SaleType</th>\n      <td>1</td>\n    </tr>\n    <tr>\n      <th>SaleCondition</th>\n      <td>0</td>\n    </tr>\n  </tbody>\n</table>\n<p>75 rows × 1 columns</p>\n</div>"
     },
     "execution_count": 21,
     "metadata": {},
     "output_type": "execute_result"
    }
   ],
   "source": [
    "# Anzahl der Nullwerte aller Spalten (Ergebnis ist kein DataFrame, sondern ein Series Objekt, leider...):\n",
    "null_werte = df_processed.isna().sum()\n",
    "\n",
    "# Rück-Umwandeln in einen Data Frame\n",
    "nan = pd.DataFrame(null_werte).set_axis(['count'], axis=1)\n",
    "nan"
   ],
   "metadata": {
    "collapsed": false,
    "ExecuteTime": {
     "end_time": "2023-11-28T20:21:53.150848Z",
     "start_time": "2023-11-28T20:21:53.137108Z"
    }
   },
   "id": "62ff4ebf87886d4d"
  },
  {
   "cell_type": "code",
   "execution_count": null,
   "outputs": [],
   "source": [
    "with open('../output/titanic/datasets.pkl', 'wb') as handle:\n",
    "    pickle.dump(datasets, handle)"
   ],
   "metadata": {
    "collapsed": false,
    "ExecuteTime": {
     "end_time": "2023-11-28T20:21:03.428204Z",
     "start_time": "2023-11-28T20:21:03.424399Z"
    }
   },
   "id": "6836e75a25316ab2"
  },
  {
   "cell_type": "code",
   "execution_count": null,
   "outputs": [],
   "source": [],
   "metadata": {
    "collapsed": false,
    "ExecuteTime": {
     "start_time": "2023-11-28T20:21:03.426171Z"
    }
   },
   "id": "8d0d78035c1bd787"
  }
 ],
 "metadata": {
  "kernelspec": {
   "display_name": "Python 3",
   "language": "python",
   "name": "python3"
  },
  "language_info": {
   "codemirror_mode": {
    "name": "ipython",
    "version": 2
   },
   "file_extension": ".py",
   "mimetype": "text/x-python",
   "name": "python",
   "nbconvert_exporter": "python",
   "pygments_lexer": "ipython2",
   "version": "2.7.6"
  }
 },
 "nbformat": 4,
 "nbformat_minor": 5
}
