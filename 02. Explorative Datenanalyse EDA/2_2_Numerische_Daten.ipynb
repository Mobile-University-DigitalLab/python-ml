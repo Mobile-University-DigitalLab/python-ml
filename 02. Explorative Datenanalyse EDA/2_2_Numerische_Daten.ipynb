{
 "cells": [
  {
   "cell_type": "markdown",
   "source": [
    "# Numerische Daten des Datensatzes\n",
    "\n",
    "Zunächst betrachten wir die numerischen Daten des Datensatzes. Diese kann man mit Hilfe von vorgegebenen Funktionen identifizieren. Darüberhinaus kann ein Blick in die Beschreibungsdatei des Datensatzes \"data_description.txt\" geworfen werden."
   ],
   "metadata": {
    "collapsed": false
   },
   "id": "1dc3e2cfd62565de"
  },
  {
   "cell_type": "code",
   "execution_count": 1,
   "outputs": [],
   "source": [
    "# Allgemeine Importfunktionen und Daten laden\n",
    "import pandas as pd\n",
    "# Numpy ist eine so genannte Bibliothek - also ein Paket von vordefinierten Funktionen -, das uns bei der Arbeit mit Zahlen und Zahlenreihen unterstützt.\n",
    "import numpy as np\n",
    "\n",
    "# Hinweis: Der Pfadname ergibt sich aus der Projektstruktur\n",
    "df = pd.read_csv('../data/house-prices-advanced-regression-techniques/train.csv')"
   ],
   "metadata": {
    "collapsed": false,
    "ExecuteTime": {
     "end_time": "2023-11-28T13:45:39.171122Z",
     "start_time": "2023-11-28T13:45:38.872110Z"
    }
   },
   "id": "99f827ee902a45e3"
  },
  {
   "cell_type": "code",
   "execution_count": 6,
   "outputs": [
    {
     "name": "stdout",
     "output_type": "stream",
     "text": [
      "Es gibt 38 numerische Spalten.\n",
      "1stFlrSF\n",
      "2ndFlrSF\n",
      "3SsnPorch\n",
      "BedroomAbvGr\n",
      "BsmtFinSF1\n",
      "BsmtFinSF2\n",
      "BsmtFullBath\n",
      "BsmtHalfBath\n",
      "BsmtUnfSF\n",
      "EnclosedPorch\n",
      "Fireplaces\n",
      "FullBath\n",
      "GarageArea\n",
      "GarageCars\n",
      "GarageYrBlt\n",
      "GrLivArea\n",
      "HalfBath\n",
      "Id\n",
      "KitchenAbvGr\n",
      "LotArea\n",
      "LotFrontage\n",
      "LowQualFinSF\n",
      "MSSubClass\n",
      "MasVnrArea\n",
      "MiscVal\n",
      "MoSold\n",
      "OpenPorchSF\n",
      "OverallCond\n",
      "OverallQual\n",
      "PoolArea\n",
      "SalePrice\n",
      "ScreenPorch\n",
      "TotRmsAbvGrd\n",
      "TotalBsmtSF\n",
      "WoodDeckSF\n",
      "YearBuilt\n",
      "YearRemodAdd\n",
      "YrSold\n"
     ]
    }
   ],
   "source": [
    "# numerische Daten\n",
    "\n",
    "numerical_features = df.select_dtypes(include=[np.number])\n",
    "print (\"Es gibt \" + str(numerical_features.columns.size) + \" numerische Spalten.\")\n",
    "for name in numerical_features.columns.sort_values():\n",
    "    print (name)\n"
   ],
   "metadata": {
    "collapsed": false,
    "ExecuteTime": {
     "end_time": "2023-11-28T14:07:03.018675Z",
     "start_time": "2023-11-28T14:07:02.997017Z"
    }
   },
   "id": "a4b7945955b68623"
  },
  {
   "cell_type": "code",
   "execution_count": 3,
   "outputs": [
    {
     "data": {
      "text/plain": "   Id  MSSubClass  LotFrontage  LotArea  OverallQual  OverallCond  YearBuilt  \\\n0   1          60         65.0     8450            7            5       2003   \n1   2          20         80.0     9600            6            8       1976   \n2   3          60         68.0    11250            7            5       2001   \n3   4          70         60.0     9550            7            5       1915   \n4   5          60         84.0    14260            8            5       2000   \n5   6          50         85.0    14115            5            5       1993   \n6   7          20         75.0    10084            8            5       2004   \n7   8          60          NaN    10382            7            6       1973   \n8   9          50         51.0     6120            7            5       1931   \n9  10         190         50.0     7420            5            6       1939   \n\n   YearRemodAdd  MasVnrArea  BsmtFinSF1  ...  WoodDeckSF  OpenPorchSF  \\\n0          2003       196.0         706  ...           0           61   \n1          1976         0.0         978  ...         298            0   \n2          2002       162.0         486  ...           0           42   \n3          1970         0.0         216  ...           0           35   \n4          2000       350.0         655  ...         192           84   \n5          1995         0.0         732  ...          40           30   \n6          2005       186.0        1369  ...         255           57   \n7          1973       240.0         859  ...         235          204   \n8          1950         0.0           0  ...          90            0   \n9          1950         0.0         851  ...           0            4   \n\n   EnclosedPorch  3SsnPorch  ScreenPorch  PoolArea  MiscVal  MoSold  YrSold  \\\n0              0          0            0         0        0       2    2008   \n1              0          0            0         0        0       5    2007   \n2              0          0            0         0        0       9    2008   \n3            272          0            0         0        0       2    2006   \n4              0          0            0         0        0      12    2008   \n5              0        320            0         0      700      10    2009   \n6              0          0            0         0        0       8    2007   \n7            228          0            0         0      350      11    2009   \n8            205          0            0         0        0       4    2008   \n9              0          0            0         0        0       1    2008   \n\n   SalePrice  \n0     208500  \n1     181500  \n2     223500  \n3     140000  \n4     250000  \n5     143000  \n6     307000  \n7     200000  \n8     129900  \n9     118000  \n\n[10 rows x 38 columns]",
      "text/html": "<div>\n<style scoped>\n    .dataframe tbody tr th:only-of-type {\n        vertical-align: middle;\n    }\n\n    .dataframe tbody tr th {\n        vertical-align: top;\n    }\n\n    .dataframe thead th {\n        text-align: right;\n    }\n</style>\n<table border=\"1\" class=\"dataframe\">\n  <thead>\n    <tr style=\"text-align: right;\">\n      <th></th>\n      <th>Id</th>\n      <th>MSSubClass</th>\n      <th>LotFrontage</th>\n      <th>LotArea</th>\n      <th>OverallQual</th>\n      <th>OverallCond</th>\n      <th>YearBuilt</th>\n      <th>YearRemodAdd</th>\n      <th>MasVnrArea</th>\n      <th>BsmtFinSF1</th>\n      <th>...</th>\n      <th>WoodDeckSF</th>\n      <th>OpenPorchSF</th>\n      <th>EnclosedPorch</th>\n      <th>3SsnPorch</th>\n      <th>ScreenPorch</th>\n      <th>PoolArea</th>\n      <th>MiscVal</th>\n      <th>MoSold</th>\n      <th>YrSold</th>\n      <th>SalePrice</th>\n    </tr>\n  </thead>\n  <tbody>\n    <tr>\n      <th>0</th>\n      <td>1</td>\n      <td>60</td>\n      <td>65.0</td>\n      <td>8450</td>\n      <td>7</td>\n      <td>5</td>\n      <td>2003</td>\n      <td>2003</td>\n      <td>196.0</td>\n      <td>706</td>\n      <td>...</td>\n      <td>0</td>\n      <td>61</td>\n      <td>0</td>\n      <td>0</td>\n      <td>0</td>\n      <td>0</td>\n      <td>0</td>\n      <td>2</td>\n      <td>2008</td>\n      <td>208500</td>\n    </tr>\n    <tr>\n      <th>1</th>\n      <td>2</td>\n      <td>20</td>\n      <td>80.0</td>\n      <td>9600</td>\n      <td>6</td>\n      <td>8</td>\n      <td>1976</td>\n      <td>1976</td>\n      <td>0.0</td>\n      <td>978</td>\n      <td>...</td>\n      <td>298</td>\n      <td>0</td>\n      <td>0</td>\n      <td>0</td>\n      <td>0</td>\n      <td>0</td>\n      <td>0</td>\n      <td>5</td>\n      <td>2007</td>\n      <td>181500</td>\n    </tr>\n    <tr>\n      <th>2</th>\n      <td>3</td>\n      <td>60</td>\n      <td>68.0</td>\n      <td>11250</td>\n      <td>7</td>\n      <td>5</td>\n      <td>2001</td>\n      <td>2002</td>\n      <td>162.0</td>\n      <td>486</td>\n      <td>...</td>\n      <td>0</td>\n      <td>42</td>\n      <td>0</td>\n      <td>0</td>\n      <td>0</td>\n      <td>0</td>\n      <td>0</td>\n      <td>9</td>\n      <td>2008</td>\n      <td>223500</td>\n    </tr>\n    <tr>\n      <th>3</th>\n      <td>4</td>\n      <td>70</td>\n      <td>60.0</td>\n      <td>9550</td>\n      <td>7</td>\n      <td>5</td>\n      <td>1915</td>\n      <td>1970</td>\n      <td>0.0</td>\n      <td>216</td>\n      <td>...</td>\n      <td>0</td>\n      <td>35</td>\n      <td>272</td>\n      <td>0</td>\n      <td>0</td>\n      <td>0</td>\n      <td>0</td>\n      <td>2</td>\n      <td>2006</td>\n      <td>140000</td>\n    </tr>\n    <tr>\n      <th>4</th>\n      <td>5</td>\n      <td>60</td>\n      <td>84.0</td>\n      <td>14260</td>\n      <td>8</td>\n      <td>5</td>\n      <td>2000</td>\n      <td>2000</td>\n      <td>350.0</td>\n      <td>655</td>\n      <td>...</td>\n      <td>192</td>\n      <td>84</td>\n      <td>0</td>\n      <td>0</td>\n      <td>0</td>\n      <td>0</td>\n      <td>0</td>\n      <td>12</td>\n      <td>2008</td>\n      <td>250000</td>\n    </tr>\n    <tr>\n      <th>5</th>\n      <td>6</td>\n      <td>50</td>\n      <td>85.0</td>\n      <td>14115</td>\n      <td>5</td>\n      <td>5</td>\n      <td>1993</td>\n      <td>1995</td>\n      <td>0.0</td>\n      <td>732</td>\n      <td>...</td>\n      <td>40</td>\n      <td>30</td>\n      <td>0</td>\n      <td>320</td>\n      <td>0</td>\n      <td>0</td>\n      <td>700</td>\n      <td>10</td>\n      <td>2009</td>\n      <td>143000</td>\n    </tr>\n    <tr>\n      <th>6</th>\n      <td>7</td>\n      <td>20</td>\n      <td>75.0</td>\n      <td>10084</td>\n      <td>8</td>\n      <td>5</td>\n      <td>2004</td>\n      <td>2005</td>\n      <td>186.0</td>\n      <td>1369</td>\n      <td>...</td>\n      <td>255</td>\n      <td>57</td>\n      <td>0</td>\n      <td>0</td>\n      <td>0</td>\n      <td>0</td>\n      <td>0</td>\n      <td>8</td>\n      <td>2007</td>\n      <td>307000</td>\n    </tr>\n    <tr>\n      <th>7</th>\n      <td>8</td>\n      <td>60</td>\n      <td>NaN</td>\n      <td>10382</td>\n      <td>7</td>\n      <td>6</td>\n      <td>1973</td>\n      <td>1973</td>\n      <td>240.0</td>\n      <td>859</td>\n      <td>...</td>\n      <td>235</td>\n      <td>204</td>\n      <td>228</td>\n      <td>0</td>\n      <td>0</td>\n      <td>0</td>\n      <td>350</td>\n      <td>11</td>\n      <td>2009</td>\n      <td>200000</td>\n    </tr>\n    <tr>\n      <th>8</th>\n      <td>9</td>\n      <td>50</td>\n      <td>51.0</td>\n      <td>6120</td>\n      <td>7</td>\n      <td>5</td>\n      <td>1931</td>\n      <td>1950</td>\n      <td>0.0</td>\n      <td>0</td>\n      <td>...</td>\n      <td>90</td>\n      <td>0</td>\n      <td>205</td>\n      <td>0</td>\n      <td>0</td>\n      <td>0</td>\n      <td>0</td>\n      <td>4</td>\n      <td>2008</td>\n      <td>129900</td>\n    </tr>\n    <tr>\n      <th>9</th>\n      <td>10</td>\n      <td>190</td>\n      <td>50.0</td>\n      <td>7420</td>\n      <td>5</td>\n      <td>6</td>\n      <td>1939</td>\n      <td>1950</td>\n      <td>0.0</td>\n      <td>851</td>\n      <td>...</td>\n      <td>0</td>\n      <td>4</td>\n      <td>0</td>\n      <td>0</td>\n      <td>0</td>\n      <td>0</td>\n      <td>0</td>\n      <td>1</td>\n      <td>2008</td>\n      <td>118000</td>\n    </tr>\n  </tbody>\n</table>\n<p>10 rows × 38 columns</p>\n</div>"
     },
     "execution_count": 3,
     "metadata": {},
     "output_type": "execute_result"
    }
   ],
   "source": [
    "numerical_features.head(10)"
   ],
   "metadata": {
    "collapsed": false,
    "ExecuteTime": {
     "end_time": "2023-11-28T13:45:40.877951Z",
     "start_time": "2023-11-28T13:45:40.860834Z"
    }
   },
   "id": "869f924c8f23a3e3"
  },
  {
   "cell_type": "code",
   "execution_count": 4,
   "outputs": [
    {
     "data": {
      "text/plain": "                count           mean           std      min        25%  \\\nId             1460.0     730.500000    421.610009      1.0     365.75   \nMSSubClass     1460.0      56.897260     42.300571     20.0      20.00   \nLotFrontage    1201.0      70.049958     24.284752     21.0      59.00   \nLotArea        1460.0   10516.828082   9981.264932   1300.0    7553.50   \nOverallQual    1460.0       6.099315      1.382997      1.0       5.00   \nOverallCond    1460.0       5.575342      1.112799      1.0       5.00   \nYearBuilt      1460.0    1971.267808     30.202904   1872.0    1954.00   \nYearRemodAdd   1460.0    1984.865753     20.645407   1950.0    1967.00   \nMasVnrArea     1452.0     103.685262    181.066207      0.0       0.00   \nBsmtFinSF1     1460.0     443.639726    456.098091      0.0       0.00   \nBsmtFinSF2     1460.0      46.549315    161.319273      0.0       0.00   \nBsmtUnfSF      1460.0     567.240411    441.866955      0.0     223.00   \nTotalBsmtSF    1460.0    1057.429452    438.705324      0.0     795.75   \n1stFlrSF       1460.0    1162.626712    386.587738    334.0     882.00   \n2ndFlrSF       1460.0     346.992466    436.528436      0.0       0.00   \nLowQualFinSF   1460.0       5.844521     48.623081      0.0       0.00   \nGrLivArea      1460.0    1515.463699    525.480383    334.0    1129.50   \nBsmtFullBath   1460.0       0.425342      0.518911      0.0       0.00   \nBsmtHalfBath   1460.0       0.057534      0.238753      0.0       0.00   \nFullBath       1460.0       1.565068      0.550916      0.0       1.00   \nHalfBath       1460.0       0.382877      0.502885      0.0       0.00   \nBedroomAbvGr   1460.0       2.866438      0.815778      0.0       2.00   \nKitchenAbvGr   1460.0       1.046575      0.220338      0.0       1.00   \nTotRmsAbvGrd   1460.0       6.517808      1.625393      2.0       5.00   \nFireplaces     1460.0       0.613014      0.644666      0.0       0.00   \nGarageYrBlt    1379.0    1978.506164     24.689725   1900.0    1961.00   \nGarageCars     1460.0       1.767123      0.747315      0.0       1.00   \nGarageArea     1460.0     472.980137    213.804841      0.0     334.50   \nWoodDeckSF     1460.0      94.244521    125.338794      0.0       0.00   \nOpenPorchSF    1460.0      46.660274     66.256028      0.0       0.00   \nEnclosedPorch  1460.0      21.954110     61.119149      0.0       0.00   \n3SsnPorch      1460.0       3.409589     29.317331      0.0       0.00   \nScreenPorch    1460.0      15.060959     55.757415      0.0       0.00   \nPoolArea       1460.0       2.758904     40.177307      0.0       0.00   \nMiscVal        1460.0      43.489041    496.123024      0.0       0.00   \nMoSold         1460.0       6.321918      2.703626      1.0       5.00   \nYrSold         1460.0    2007.815753      1.328095   2006.0    2007.00   \nSalePrice      1460.0  180921.195890  79442.502883  34900.0  129975.00   \n\n                    50%        75%       max  \nId                730.5    1095.25    1460.0  \nMSSubClass         50.0      70.00     190.0  \nLotFrontage        69.0      80.00     313.0  \nLotArea          9478.5   11601.50  215245.0  \nOverallQual         6.0       7.00      10.0  \nOverallCond         5.0       6.00       9.0  \nYearBuilt        1973.0    2000.00    2010.0  \nYearRemodAdd     1994.0    2004.00    2010.0  \nMasVnrArea          0.0     166.00    1600.0  \nBsmtFinSF1        383.5     712.25    5644.0  \nBsmtFinSF2          0.0       0.00    1474.0  \nBsmtUnfSF         477.5     808.00    2336.0  \nTotalBsmtSF       991.5    1298.25    6110.0  \n1stFlrSF         1087.0    1391.25    4692.0  \n2ndFlrSF            0.0     728.00    2065.0  \nLowQualFinSF        0.0       0.00     572.0  \nGrLivArea        1464.0    1776.75    5642.0  \nBsmtFullBath        0.0       1.00       3.0  \nBsmtHalfBath        0.0       0.00       2.0  \nFullBath            2.0       2.00       3.0  \nHalfBath            0.0       1.00       2.0  \nBedroomAbvGr        3.0       3.00       8.0  \nKitchenAbvGr        1.0       1.00       3.0  \nTotRmsAbvGrd        6.0       7.00      14.0  \nFireplaces          1.0       1.00       3.0  \nGarageYrBlt      1980.0    2002.00    2010.0  \nGarageCars          2.0       2.00       4.0  \nGarageArea        480.0     576.00    1418.0  \nWoodDeckSF          0.0     168.00     857.0  \nOpenPorchSF        25.0      68.00     547.0  \nEnclosedPorch       0.0       0.00     552.0  \n3SsnPorch           0.0       0.00     508.0  \nScreenPorch         0.0       0.00     480.0  \nPoolArea            0.0       0.00     738.0  \nMiscVal             0.0       0.00   15500.0  \nMoSold              6.0       8.00      12.0  \nYrSold           2008.0    2009.00    2010.0  \nSalePrice      163000.0  214000.00  755000.0  ",
      "text/html": "<div>\n<style scoped>\n    .dataframe tbody tr th:only-of-type {\n        vertical-align: middle;\n    }\n\n    .dataframe tbody tr th {\n        vertical-align: top;\n    }\n\n    .dataframe thead th {\n        text-align: right;\n    }\n</style>\n<table border=\"1\" class=\"dataframe\">\n  <thead>\n    <tr style=\"text-align: right;\">\n      <th></th>\n      <th>count</th>\n      <th>mean</th>\n      <th>std</th>\n      <th>min</th>\n      <th>25%</th>\n      <th>50%</th>\n      <th>75%</th>\n      <th>max</th>\n    </tr>\n  </thead>\n  <tbody>\n    <tr>\n      <th>Id</th>\n      <td>1460.0</td>\n      <td>730.500000</td>\n      <td>421.610009</td>\n      <td>1.0</td>\n      <td>365.75</td>\n      <td>730.5</td>\n      <td>1095.25</td>\n      <td>1460.0</td>\n    </tr>\n    <tr>\n      <th>MSSubClass</th>\n      <td>1460.0</td>\n      <td>56.897260</td>\n      <td>42.300571</td>\n      <td>20.0</td>\n      <td>20.00</td>\n      <td>50.0</td>\n      <td>70.00</td>\n      <td>190.0</td>\n    </tr>\n    <tr>\n      <th>LotFrontage</th>\n      <td>1201.0</td>\n      <td>70.049958</td>\n      <td>24.284752</td>\n      <td>21.0</td>\n      <td>59.00</td>\n      <td>69.0</td>\n      <td>80.00</td>\n      <td>313.0</td>\n    </tr>\n    <tr>\n      <th>LotArea</th>\n      <td>1460.0</td>\n      <td>10516.828082</td>\n      <td>9981.264932</td>\n      <td>1300.0</td>\n      <td>7553.50</td>\n      <td>9478.5</td>\n      <td>11601.50</td>\n      <td>215245.0</td>\n    </tr>\n    <tr>\n      <th>OverallQual</th>\n      <td>1460.0</td>\n      <td>6.099315</td>\n      <td>1.382997</td>\n      <td>1.0</td>\n      <td>5.00</td>\n      <td>6.0</td>\n      <td>7.00</td>\n      <td>10.0</td>\n    </tr>\n    <tr>\n      <th>OverallCond</th>\n      <td>1460.0</td>\n      <td>5.575342</td>\n      <td>1.112799</td>\n      <td>1.0</td>\n      <td>5.00</td>\n      <td>5.0</td>\n      <td>6.00</td>\n      <td>9.0</td>\n    </tr>\n    <tr>\n      <th>YearBuilt</th>\n      <td>1460.0</td>\n      <td>1971.267808</td>\n      <td>30.202904</td>\n      <td>1872.0</td>\n      <td>1954.00</td>\n      <td>1973.0</td>\n      <td>2000.00</td>\n      <td>2010.0</td>\n    </tr>\n    <tr>\n      <th>YearRemodAdd</th>\n      <td>1460.0</td>\n      <td>1984.865753</td>\n      <td>20.645407</td>\n      <td>1950.0</td>\n      <td>1967.00</td>\n      <td>1994.0</td>\n      <td>2004.00</td>\n      <td>2010.0</td>\n    </tr>\n    <tr>\n      <th>MasVnrArea</th>\n      <td>1452.0</td>\n      <td>103.685262</td>\n      <td>181.066207</td>\n      <td>0.0</td>\n      <td>0.00</td>\n      <td>0.0</td>\n      <td>166.00</td>\n      <td>1600.0</td>\n    </tr>\n    <tr>\n      <th>BsmtFinSF1</th>\n      <td>1460.0</td>\n      <td>443.639726</td>\n      <td>456.098091</td>\n      <td>0.0</td>\n      <td>0.00</td>\n      <td>383.5</td>\n      <td>712.25</td>\n      <td>5644.0</td>\n    </tr>\n    <tr>\n      <th>BsmtFinSF2</th>\n      <td>1460.0</td>\n      <td>46.549315</td>\n      <td>161.319273</td>\n      <td>0.0</td>\n      <td>0.00</td>\n      <td>0.0</td>\n      <td>0.00</td>\n      <td>1474.0</td>\n    </tr>\n    <tr>\n      <th>BsmtUnfSF</th>\n      <td>1460.0</td>\n      <td>567.240411</td>\n      <td>441.866955</td>\n      <td>0.0</td>\n      <td>223.00</td>\n      <td>477.5</td>\n      <td>808.00</td>\n      <td>2336.0</td>\n    </tr>\n    <tr>\n      <th>TotalBsmtSF</th>\n      <td>1460.0</td>\n      <td>1057.429452</td>\n      <td>438.705324</td>\n      <td>0.0</td>\n      <td>795.75</td>\n      <td>991.5</td>\n      <td>1298.25</td>\n      <td>6110.0</td>\n    </tr>\n    <tr>\n      <th>1stFlrSF</th>\n      <td>1460.0</td>\n      <td>1162.626712</td>\n      <td>386.587738</td>\n      <td>334.0</td>\n      <td>882.00</td>\n      <td>1087.0</td>\n      <td>1391.25</td>\n      <td>4692.0</td>\n    </tr>\n    <tr>\n      <th>2ndFlrSF</th>\n      <td>1460.0</td>\n      <td>346.992466</td>\n      <td>436.528436</td>\n      <td>0.0</td>\n      <td>0.00</td>\n      <td>0.0</td>\n      <td>728.00</td>\n      <td>2065.0</td>\n    </tr>\n    <tr>\n      <th>LowQualFinSF</th>\n      <td>1460.0</td>\n      <td>5.844521</td>\n      <td>48.623081</td>\n      <td>0.0</td>\n      <td>0.00</td>\n      <td>0.0</td>\n      <td>0.00</td>\n      <td>572.0</td>\n    </tr>\n    <tr>\n      <th>GrLivArea</th>\n      <td>1460.0</td>\n      <td>1515.463699</td>\n      <td>525.480383</td>\n      <td>334.0</td>\n      <td>1129.50</td>\n      <td>1464.0</td>\n      <td>1776.75</td>\n      <td>5642.0</td>\n    </tr>\n    <tr>\n      <th>BsmtFullBath</th>\n      <td>1460.0</td>\n      <td>0.425342</td>\n      <td>0.518911</td>\n      <td>0.0</td>\n      <td>0.00</td>\n      <td>0.0</td>\n      <td>1.00</td>\n      <td>3.0</td>\n    </tr>\n    <tr>\n      <th>BsmtHalfBath</th>\n      <td>1460.0</td>\n      <td>0.057534</td>\n      <td>0.238753</td>\n      <td>0.0</td>\n      <td>0.00</td>\n      <td>0.0</td>\n      <td>0.00</td>\n      <td>2.0</td>\n    </tr>\n    <tr>\n      <th>FullBath</th>\n      <td>1460.0</td>\n      <td>1.565068</td>\n      <td>0.550916</td>\n      <td>0.0</td>\n      <td>1.00</td>\n      <td>2.0</td>\n      <td>2.00</td>\n      <td>3.0</td>\n    </tr>\n    <tr>\n      <th>HalfBath</th>\n      <td>1460.0</td>\n      <td>0.382877</td>\n      <td>0.502885</td>\n      <td>0.0</td>\n      <td>0.00</td>\n      <td>0.0</td>\n      <td>1.00</td>\n      <td>2.0</td>\n    </tr>\n    <tr>\n      <th>BedroomAbvGr</th>\n      <td>1460.0</td>\n      <td>2.866438</td>\n      <td>0.815778</td>\n      <td>0.0</td>\n      <td>2.00</td>\n      <td>3.0</td>\n      <td>3.00</td>\n      <td>8.0</td>\n    </tr>\n    <tr>\n      <th>KitchenAbvGr</th>\n      <td>1460.0</td>\n      <td>1.046575</td>\n      <td>0.220338</td>\n      <td>0.0</td>\n      <td>1.00</td>\n      <td>1.0</td>\n      <td>1.00</td>\n      <td>3.0</td>\n    </tr>\n    <tr>\n      <th>TotRmsAbvGrd</th>\n      <td>1460.0</td>\n      <td>6.517808</td>\n      <td>1.625393</td>\n      <td>2.0</td>\n      <td>5.00</td>\n      <td>6.0</td>\n      <td>7.00</td>\n      <td>14.0</td>\n    </tr>\n    <tr>\n      <th>Fireplaces</th>\n      <td>1460.0</td>\n      <td>0.613014</td>\n      <td>0.644666</td>\n      <td>0.0</td>\n      <td>0.00</td>\n      <td>1.0</td>\n      <td>1.00</td>\n      <td>3.0</td>\n    </tr>\n    <tr>\n      <th>GarageYrBlt</th>\n      <td>1379.0</td>\n      <td>1978.506164</td>\n      <td>24.689725</td>\n      <td>1900.0</td>\n      <td>1961.00</td>\n      <td>1980.0</td>\n      <td>2002.00</td>\n      <td>2010.0</td>\n    </tr>\n    <tr>\n      <th>GarageCars</th>\n      <td>1460.0</td>\n      <td>1.767123</td>\n      <td>0.747315</td>\n      <td>0.0</td>\n      <td>1.00</td>\n      <td>2.0</td>\n      <td>2.00</td>\n      <td>4.0</td>\n    </tr>\n    <tr>\n      <th>GarageArea</th>\n      <td>1460.0</td>\n      <td>472.980137</td>\n      <td>213.804841</td>\n      <td>0.0</td>\n      <td>334.50</td>\n      <td>480.0</td>\n      <td>576.00</td>\n      <td>1418.0</td>\n    </tr>\n    <tr>\n      <th>WoodDeckSF</th>\n      <td>1460.0</td>\n      <td>94.244521</td>\n      <td>125.338794</td>\n      <td>0.0</td>\n      <td>0.00</td>\n      <td>0.0</td>\n      <td>168.00</td>\n      <td>857.0</td>\n    </tr>\n    <tr>\n      <th>OpenPorchSF</th>\n      <td>1460.0</td>\n      <td>46.660274</td>\n      <td>66.256028</td>\n      <td>0.0</td>\n      <td>0.00</td>\n      <td>25.0</td>\n      <td>68.00</td>\n      <td>547.0</td>\n    </tr>\n    <tr>\n      <th>EnclosedPorch</th>\n      <td>1460.0</td>\n      <td>21.954110</td>\n      <td>61.119149</td>\n      <td>0.0</td>\n      <td>0.00</td>\n      <td>0.0</td>\n      <td>0.00</td>\n      <td>552.0</td>\n    </tr>\n    <tr>\n      <th>3SsnPorch</th>\n      <td>1460.0</td>\n      <td>3.409589</td>\n      <td>29.317331</td>\n      <td>0.0</td>\n      <td>0.00</td>\n      <td>0.0</td>\n      <td>0.00</td>\n      <td>508.0</td>\n    </tr>\n    <tr>\n      <th>ScreenPorch</th>\n      <td>1460.0</td>\n      <td>15.060959</td>\n      <td>55.757415</td>\n      <td>0.0</td>\n      <td>0.00</td>\n      <td>0.0</td>\n      <td>0.00</td>\n      <td>480.0</td>\n    </tr>\n    <tr>\n      <th>PoolArea</th>\n      <td>1460.0</td>\n      <td>2.758904</td>\n      <td>40.177307</td>\n      <td>0.0</td>\n      <td>0.00</td>\n      <td>0.0</td>\n      <td>0.00</td>\n      <td>738.0</td>\n    </tr>\n    <tr>\n      <th>MiscVal</th>\n      <td>1460.0</td>\n      <td>43.489041</td>\n      <td>496.123024</td>\n      <td>0.0</td>\n      <td>0.00</td>\n      <td>0.0</td>\n      <td>0.00</td>\n      <td>15500.0</td>\n    </tr>\n    <tr>\n      <th>MoSold</th>\n      <td>1460.0</td>\n      <td>6.321918</td>\n      <td>2.703626</td>\n      <td>1.0</td>\n      <td>5.00</td>\n      <td>6.0</td>\n      <td>8.00</td>\n      <td>12.0</td>\n    </tr>\n    <tr>\n      <th>YrSold</th>\n      <td>1460.0</td>\n      <td>2007.815753</td>\n      <td>1.328095</td>\n      <td>2006.0</td>\n      <td>2007.00</td>\n      <td>2008.0</td>\n      <td>2009.00</td>\n      <td>2010.0</td>\n    </tr>\n    <tr>\n      <th>SalePrice</th>\n      <td>1460.0</td>\n      <td>180921.195890</td>\n      <td>79442.502883</td>\n      <td>34900.0</td>\n      <td>129975.00</td>\n      <td>163000.0</td>\n      <td>214000.00</td>\n      <td>755000.0</td>\n    </tr>\n  </tbody>\n</table>\n</div>"
     },
     "execution_count": 4,
     "metadata": {},
     "output_type": "execute_result"
    }
   ],
   "source": [
    "numerical_features.describe().T"
   ],
   "metadata": {
    "collapsed": false,
    "ExecuteTime": {
     "end_time": "2023-11-28T13:45:41.888936Z",
     "start_time": "2023-11-28T13:45:41.829667Z"
    }
   },
   "id": "98665bd7e8e8b9da"
  },
  {
   "cell_type": "code",
   "execution_count": 9,
   "outputs": [],
   "source": [
    "from IPython.display import display, HTML\n",
    "# Function to create scrollable table within a small window\n",
    "def create_scrollable_table(df, table_id, title):\n",
    "    html = f'<h3>{title}</h3>'\n",
    "    html += f'<div id=\"{table_id}\" style=\"height:200px; overflow:auto;\">'\n",
    "    html += df.to_html()\n",
    "    html += '</div>'\n",
    "    return html"
   ],
   "metadata": {
    "collapsed": false,
    "ExecuteTime": {
     "end_time": "2023-11-28T14:09:46.977175Z",
     "start_time": "2023-11-28T14:09:46.968216Z"
    }
   },
   "id": "3dba634e1ee729be"
  },
  {
   "cell_type": "code",
   "execution_count": 11,
   "outputs": [
    {
     "data": {
      "text/plain": "<IPython.core.display.HTML object>",
      "text/html": "<h3>Summary statistics for numerical features</h3><div id=\"numerical_features\" style=\"height:200px; overflow:auto;\"><table border=\"1\" class=\"dataframe\">\n  <thead>\n    <tr style=\"text-align: right;\">\n      <th></th>\n      <th>count</th>\n      <th>mean</th>\n      <th>std</th>\n      <th>min</th>\n      <th>25%</th>\n      <th>50%</th>\n      <th>75%</th>\n      <th>max</th>\n    </tr>\n  </thead>\n  <tbody>\n    <tr>\n      <th>Id</th>\n      <td>1460.0</td>\n      <td>730.500000</td>\n      <td>421.610009</td>\n      <td>1.0</td>\n      <td>365.75</td>\n      <td>730.5</td>\n      <td>1095.25</td>\n      <td>1460.0</td>\n    </tr>\n    <tr>\n      <th>MSSubClass</th>\n      <td>1460.0</td>\n      <td>56.897260</td>\n      <td>42.300571</td>\n      <td>20.0</td>\n      <td>20.00</td>\n      <td>50.0</td>\n      <td>70.00</td>\n      <td>190.0</td>\n    </tr>\n    <tr>\n      <th>LotFrontage</th>\n      <td>1201.0</td>\n      <td>70.049958</td>\n      <td>24.284752</td>\n      <td>21.0</td>\n      <td>59.00</td>\n      <td>69.0</td>\n      <td>80.00</td>\n      <td>313.0</td>\n    </tr>\n    <tr>\n      <th>LotArea</th>\n      <td>1460.0</td>\n      <td>10516.828082</td>\n      <td>9981.264932</td>\n      <td>1300.0</td>\n      <td>7553.50</td>\n      <td>9478.5</td>\n      <td>11601.50</td>\n      <td>215245.0</td>\n    </tr>\n    <tr>\n      <th>OverallQual</th>\n      <td>1460.0</td>\n      <td>6.099315</td>\n      <td>1.382997</td>\n      <td>1.0</td>\n      <td>5.00</td>\n      <td>6.0</td>\n      <td>7.00</td>\n      <td>10.0</td>\n    </tr>\n    <tr>\n      <th>OverallCond</th>\n      <td>1460.0</td>\n      <td>5.575342</td>\n      <td>1.112799</td>\n      <td>1.0</td>\n      <td>5.00</td>\n      <td>5.0</td>\n      <td>6.00</td>\n      <td>9.0</td>\n    </tr>\n    <tr>\n      <th>YearBuilt</th>\n      <td>1460.0</td>\n      <td>1971.267808</td>\n      <td>30.202904</td>\n      <td>1872.0</td>\n      <td>1954.00</td>\n      <td>1973.0</td>\n      <td>2000.00</td>\n      <td>2010.0</td>\n    </tr>\n    <tr>\n      <th>YearRemodAdd</th>\n      <td>1460.0</td>\n      <td>1984.865753</td>\n      <td>20.645407</td>\n      <td>1950.0</td>\n      <td>1967.00</td>\n      <td>1994.0</td>\n      <td>2004.00</td>\n      <td>2010.0</td>\n    </tr>\n    <tr>\n      <th>MasVnrArea</th>\n      <td>1452.0</td>\n      <td>103.685262</td>\n      <td>181.066207</td>\n      <td>0.0</td>\n      <td>0.00</td>\n      <td>0.0</td>\n      <td>166.00</td>\n      <td>1600.0</td>\n    </tr>\n    <tr>\n      <th>BsmtFinSF1</th>\n      <td>1460.0</td>\n      <td>443.639726</td>\n      <td>456.098091</td>\n      <td>0.0</td>\n      <td>0.00</td>\n      <td>383.5</td>\n      <td>712.25</td>\n      <td>5644.0</td>\n    </tr>\n    <tr>\n      <th>BsmtFinSF2</th>\n      <td>1460.0</td>\n      <td>46.549315</td>\n      <td>161.319273</td>\n      <td>0.0</td>\n      <td>0.00</td>\n      <td>0.0</td>\n      <td>0.00</td>\n      <td>1474.0</td>\n    </tr>\n    <tr>\n      <th>BsmtUnfSF</th>\n      <td>1460.0</td>\n      <td>567.240411</td>\n      <td>441.866955</td>\n      <td>0.0</td>\n      <td>223.00</td>\n      <td>477.5</td>\n      <td>808.00</td>\n      <td>2336.0</td>\n    </tr>\n    <tr>\n      <th>TotalBsmtSF</th>\n      <td>1460.0</td>\n      <td>1057.429452</td>\n      <td>438.705324</td>\n      <td>0.0</td>\n      <td>795.75</td>\n      <td>991.5</td>\n      <td>1298.25</td>\n      <td>6110.0</td>\n    </tr>\n    <tr>\n      <th>1stFlrSF</th>\n      <td>1460.0</td>\n      <td>1162.626712</td>\n      <td>386.587738</td>\n      <td>334.0</td>\n      <td>882.00</td>\n      <td>1087.0</td>\n      <td>1391.25</td>\n      <td>4692.0</td>\n    </tr>\n    <tr>\n      <th>2ndFlrSF</th>\n      <td>1460.0</td>\n      <td>346.992466</td>\n      <td>436.528436</td>\n      <td>0.0</td>\n      <td>0.00</td>\n      <td>0.0</td>\n      <td>728.00</td>\n      <td>2065.0</td>\n    </tr>\n    <tr>\n      <th>LowQualFinSF</th>\n      <td>1460.0</td>\n      <td>5.844521</td>\n      <td>48.623081</td>\n      <td>0.0</td>\n      <td>0.00</td>\n      <td>0.0</td>\n      <td>0.00</td>\n      <td>572.0</td>\n    </tr>\n    <tr>\n      <th>GrLivArea</th>\n      <td>1460.0</td>\n      <td>1515.463699</td>\n      <td>525.480383</td>\n      <td>334.0</td>\n      <td>1129.50</td>\n      <td>1464.0</td>\n      <td>1776.75</td>\n      <td>5642.0</td>\n    </tr>\n    <tr>\n      <th>BsmtFullBath</th>\n      <td>1460.0</td>\n      <td>0.425342</td>\n      <td>0.518911</td>\n      <td>0.0</td>\n      <td>0.00</td>\n      <td>0.0</td>\n      <td>1.00</td>\n      <td>3.0</td>\n    </tr>\n    <tr>\n      <th>BsmtHalfBath</th>\n      <td>1460.0</td>\n      <td>0.057534</td>\n      <td>0.238753</td>\n      <td>0.0</td>\n      <td>0.00</td>\n      <td>0.0</td>\n      <td>0.00</td>\n      <td>2.0</td>\n    </tr>\n    <tr>\n      <th>FullBath</th>\n      <td>1460.0</td>\n      <td>1.565068</td>\n      <td>0.550916</td>\n      <td>0.0</td>\n      <td>1.00</td>\n      <td>2.0</td>\n      <td>2.00</td>\n      <td>3.0</td>\n    </tr>\n    <tr>\n      <th>HalfBath</th>\n      <td>1460.0</td>\n      <td>0.382877</td>\n      <td>0.502885</td>\n      <td>0.0</td>\n      <td>0.00</td>\n      <td>0.0</td>\n      <td>1.00</td>\n      <td>2.0</td>\n    </tr>\n    <tr>\n      <th>BedroomAbvGr</th>\n      <td>1460.0</td>\n      <td>2.866438</td>\n      <td>0.815778</td>\n      <td>0.0</td>\n      <td>2.00</td>\n      <td>3.0</td>\n      <td>3.00</td>\n      <td>8.0</td>\n    </tr>\n    <tr>\n      <th>KitchenAbvGr</th>\n      <td>1460.0</td>\n      <td>1.046575</td>\n      <td>0.220338</td>\n      <td>0.0</td>\n      <td>1.00</td>\n      <td>1.0</td>\n      <td>1.00</td>\n      <td>3.0</td>\n    </tr>\n    <tr>\n      <th>TotRmsAbvGrd</th>\n      <td>1460.0</td>\n      <td>6.517808</td>\n      <td>1.625393</td>\n      <td>2.0</td>\n      <td>5.00</td>\n      <td>6.0</td>\n      <td>7.00</td>\n      <td>14.0</td>\n    </tr>\n    <tr>\n      <th>Fireplaces</th>\n      <td>1460.0</td>\n      <td>0.613014</td>\n      <td>0.644666</td>\n      <td>0.0</td>\n      <td>0.00</td>\n      <td>1.0</td>\n      <td>1.00</td>\n      <td>3.0</td>\n    </tr>\n    <tr>\n      <th>GarageYrBlt</th>\n      <td>1379.0</td>\n      <td>1978.506164</td>\n      <td>24.689725</td>\n      <td>1900.0</td>\n      <td>1961.00</td>\n      <td>1980.0</td>\n      <td>2002.00</td>\n      <td>2010.0</td>\n    </tr>\n    <tr>\n      <th>GarageCars</th>\n      <td>1460.0</td>\n      <td>1.767123</td>\n      <td>0.747315</td>\n      <td>0.0</td>\n      <td>1.00</td>\n      <td>2.0</td>\n      <td>2.00</td>\n      <td>4.0</td>\n    </tr>\n    <tr>\n      <th>GarageArea</th>\n      <td>1460.0</td>\n      <td>472.980137</td>\n      <td>213.804841</td>\n      <td>0.0</td>\n      <td>334.50</td>\n      <td>480.0</td>\n      <td>576.00</td>\n      <td>1418.0</td>\n    </tr>\n    <tr>\n      <th>WoodDeckSF</th>\n      <td>1460.0</td>\n      <td>94.244521</td>\n      <td>125.338794</td>\n      <td>0.0</td>\n      <td>0.00</td>\n      <td>0.0</td>\n      <td>168.00</td>\n      <td>857.0</td>\n    </tr>\n    <tr>\n      <th>OpenPorchSF</th>\n      <td>1460.0</td>\n      <td>46.660274</td>\n      <td>66.256028</td>\n      <td>0.0</td>\n      <td>0.00</td>\n      <td>25.0</td>\n      <td>68.00</td>\n      <td>547.0</td>\n    </tr>\n    <tr>\n      <th>EnclosedPorch</th>\n      <td>1460.0</td>\n      <td>21.954110</td>\n      <td>61.119149</td>\n      <td>0.0</td>\n      <td>0.00</td>\n      <td>0.0</td>\n      <td>0.00</td>\n      <td>552.0</td>\n    </tr>\n    <tr>\n      <th>3SsnPorch</th>\n      <td>1460.0</td>\n      <td>3.409589</td>\n      <td>29.317331</td>\n      <td>0.0</td>\n      <td>0.00</td>\n      <td>0.0</td>\n      <td>0.00</td>\n      <td>508.0</td>\n    </tr>\n    <tr>\n      <th>ScreenPorch</th>\n      <td>1460.0</td>\n      <td>15.060959</td>\n      <td>55.757415</td>\n      <td>0.0</td>\n      <td>0.00</td>\n      <td>0.0</td>\n      <td>0.00</td>\n      <td>480.0</td>\n    </tr>\n    <tr>\n      <th>PoolArea</th>\n      <td>1460.0</td>\n      <td>2.758904</td>\n      <td>40.177307</td>\n      <td>0.0</td>\n      <td>0.00</td>\n      <td>0.0</td>\n      <td>0.00</td>\n      <td>738.0</td>\n    </tr>\n    <tr>\n      <th>MiscVal</th>\n      <td>1460.0</td>\n      <td>43.489041</td>\n      <td>496.123024</td>\n      <td>0.0</td>\n      <td>0.00</td>\n      <td>0.0</td>\n      <td>0.00</td>\n      <td>15500.0</td>\n    </tr>\n    <tr>\n      <th>MoSold</th>\n      <td>1460.0</td>\n      <td>6.321918</td>\n      <td>2.703626</td>\n      <td>1.0</td>\n      <td>5.00</td>\n      <td>6.0</td>\n      <td>8.00</td>\n      <td>12.0</td>\n    </tr>\n    <tr>\n      <th>YrSold</th>\n      <td>1460.0</td>\n      <td>2007.815753</td>\n      <td>1.328095</td>\n      <td>2006.0</td>\n      <td>2007.00</td>\n      <td>2008.0</td>\n      <td>2009.00</td>\n      <td>2010.0</td>\n    </tr>\n    <tr>\n      <th>SalePrice</th>\n      <td>1460.0</td>\n      <td>180921.195890</td>\n      <td>79442.502883</td>\n      <td>34900.0</td>\n      <td>129975.00</td>\n      <td>163000.0</td>\n      <td>214000.00</td>\n      <td>755000.0</td>\n    </tr>\n  </tbody>\n</table></div>"
     },
     "metadata": {},
     "output_type": "display_data"
    }
   ],
   "source": [
    "html_numerical = create_scrollable_table(numerical_features.describe().T, 'numerical_features', 'Summary statistics for numerical features')\n",
    "\n",
    "display(HTML(html_numerical))"
   ],
   "metadata": {
    "collapsed": false,
    "ExecuteTime": {
     "end_time": "2023-11-28T14:10:35.096862Z",
     "start_time": "2023-11-28T14:10:35.048126Z"
    }
   },
   "id": "5b3660c06812b7ee"
  },
  {
   "cell_type": "code",
   "execution_count": null,
   "outputs": [],
   "source": [],
   "metadata": {
    "collapsed": false
   },
   "id": "345e4579bdababf1"
  },
  {
   "cell_type": "markdown",
   "source": [
    "# Ausreißer\n",
    "\n",
    "Ausreißer sind Werte (einer Spalte), die stark von der \"generellen Tendenz\" der Mehrzahl der Daten abweichen. Dies kann sowohl für diskrete als auch für kuntinuierliche numerische Daten gelten. Ausreißer können aufgrund verschiedener Ursachen entstehen:\n",
    "\n",
    "* **Natürlich**: Hier handelt es sich um Ausreißer, die \"in der Natur der Daten liegen\" und gelten nicht als Fehler.\n",
    "* **Eingabefehler**: Wenn Menschen (aber auch Maschinen, z. B. beim OCR) Daten erfassen, können Eingabefehler (Tippfehler, Erfassungsfehler, Ungenauigkeiten) vorliegen.\n",
    "* **Messfehler**: Messungen sind immer nur so genau, wie ihr Sensor. Auch Sensoren können zufällig Ausreißer erzeugen.\n",
    "* **Beschädigte Daten**: Bei der Verarbeitung (oder z. B. Konvertierung) von Daten können Fehler entstanden sein.\n",
    "\n",
    "# Umgang mit Ausreißern\n",
    "\n",
    "Werden Daten - und deren Ausreißer - im maschinellen Lernen verarbeitet, hat dies Einfluss auf das Training, mithin also auf die Güte des Modells. Im ungünstigen Fall, wird die **Güte des Modells negativ beeinflusst**.\n",
    "\n",
    "**Jedoch sind nicht alle Ausreißer negativ**, sondern bilden den Untersuchungsgegenstand ab. Werden z. B. Röntgenbilder durch ein Modell des maschinellen Lernens für das Trainig einer computergestützten Diagnostik eingesetzt, dann wird man z. B. nach prävalenten und nicht prävalenten Daten unterscheiden (Krankheit liegt vor | Krankeit liegt nicht vor). Ist die Krankheit selten auf den Bildern zu sehen, könnten diese als Ausreißer betrachtet werden, was nicht im Sinne der Modellierung ist.\n",
    "\n",
    "Sie müssen sich also Fragen, ob die Ausreißer durch Fehler verursacht sind, oder in der \"Natur der Sache\" liegen.\n",
    "\n",
    "=> **Ausreißer, die durch Fehler verursacht sind, _müssen_ entfernt werden.**\n",
    "=> **Ausreißer, die den zu modellierenden Gegenstand abbilden, dürfen _nicht_ entfernt werden.**"
   ],
   "metadata": {
    "collapsed": false
   },
   "id": "8380f41c7cab6dd7"
  },
  {
   "cell_type": "code",
   "execution_count": null,
   "outputs": [],
   "source": [],
   "metadata": {
    "collapsed": false
   },
   "id": "20bc7e2e1feed899"
  }
 ],
 "metadata": {
  "kernelspec": {
   "display_name": "Python 3",
   "language": "python",
   "name": "python3"
  },
  "language_info": {
   "codemirror_mode": {
    "name": "ipython",
    "version": 2
   },
   "file_extension": ".py",
   "mimetype": "text/x-python",
   "name": "python",
   "nbconvert_exporter": "python",
   "pygments_lexer": "ipython2",
   "version": "2.7.6"
  }
 },
 "nbformat": 4,
 "nbformat_minor": 5
}
