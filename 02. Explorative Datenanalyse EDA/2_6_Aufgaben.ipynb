{
 "cells": [
  {
   "cell_type": "markdown",
   "source": [
    "# Aufgaben \n",
    "\n",
    "- Zeichnen Sie einen Scatterplot, der den Zusammenhang zwischen 1stFlrSF (Fläche im Erdgeschoss) bzww. 2ndFlrSF (Fläche im ersten OG) und dem Verkaufspreis dartellt\n",
    "- Was fällt Ihnen für 2ndFlrSF auf?\n",
    "- Welche Empfehlungen geben Sie für 1stFlrSF\n",
    "- Wir haben für GrLivArea Ausreißer entfernt. Welchen Einfluss hat dies auf die Ausreißer bei 1stFlrSF?"
   ],
   "metadata": {
    "collapsed": false
   },
   "id": "2616951c6fa7bad"
  },
  {
   "cell_type": "code",
   "execution_count": null,
   "outputs": [],
   "source": [],
   "metadata": {
    "collapsed": false
   },
   "id": "5d8486fce530f356"
  }
 ],
 "metadata": {
  "kernelspec": {
   "display_name": "Python 3",
   "language": "python",
   "name": "python3"
  },
  "language_info": {
   "codemirror_mode": {
    "name": "ipython",
    "version": 2
   },
   "file_extension": ".py",
   "mimetype": "text/x-python",
   "name": "python",
   "nbconvert_exporter": "python",
   "pygments_lexer": "ipython2",
   "version": "2.7.6"
  }
 },
 "nbformat": 4,
 "nbformat_minor": 5
}
