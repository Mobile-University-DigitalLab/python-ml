{
 "cells": [
  {
   "cell_type": "markdown",
   "source": [
    "# Transformation von Daten\n",
    "\n",
    "Nich alle Input-Daten können unbesehen verwendet werden. Es ist notwendig, kategorische Daten entweder in Zahlen umzuwandeln (ordinale kategorische Daten) oder über ein sogenanntes One-Hot-Encoding nominale kategorische Daten in sinnvolle Spalten umzuwaneln (s.u.). "
   ],
   "metadata": {
    "collapsed": false
   },
   "id": "cf9b0ca8e585867f"
  },
  {
   "cell_type": "code",
   "execution_count": 1,
   "outputs": [
    {
     "name": "stdout",
     "output_type": "stream",
     "text": [
      "all_data.pkl\n",
      "data_description.txt\n",
      "test.csv\n",
      "test.pkl\n",
      "test_1.pkl\n",
      "train.csv\n",
      "train.pkl\n",
      "train_1.pkl\n",
      "x_preprocessed.pkl\n",
      "x_preprocessed_train.pkl\n"
     ]
    }
   ],
   "source": [
    "#import some necessary librairies\n",
    "\n",
    "import numpy as np # linear algebra\n",
    "import pandas as pd # data processing, CSV file I/O (e.g. pd.read_csv)\n",
    "%matplotlib inline\n",
    "import matplotlib.pyplot as plt  # Matlab-style plotting\n",
    "import seaborn as sns\n",
    "color = sns.color_palette()\n",
    "sns.set_style('darkgrid')\n",
    "import warnings\n",
    "def ignore_warn(*args, **kwargs):\n",
    "    pass\n",
    "warnings.warn = ignore_warn #ignore annoying warning (from sklearn and seaborn)\n",
    "\n",
    "\n",
    "from scipy import stats\n",
    "from scipy.stats import norm, skew #for some statistics\n",
    "\n",
    "\n",
    "pd.set_option('display.float_format', lambda x: '{:.3f}'.format(x)) #Limiting floats output to 3 decimal points\n",
    "\n",
    "\n",
    "from subprocess import check_output\n",
    "print(check_output([\"ls\", \"../data/house-prices-advanced-regression-techniques\"]).decode(\"utf8\")) #check the files available in the directory\n",
    "\n",
    "import pickle"
   ],
   "metadata": {
    "collapsed": false,
    "ExecuteTime": {
     "end_time": "2023-11-28T22:51:49.648Z",
     "start_time": "2023-11-28T22:51:49.622159Z"
    }
   },
   "id": "9a45bccfa9402b0b"
  },
  {
   "cell_type": "markdown",
   "source": [
    "# Daten aus dem vorigen Schritt laden\n"
   ],
   "metadata": {
    "collapsed": false
   },
   "id": "7982adc551222563"
  },
  {
   "cell_type": "code",
   "execution_count": 2,
   "outputs": [],
   "source": [
    "with open('../data/house-prices-advanced-regression-techniques/train_1.pkl', 'rb') as handle:\n",
    "    train_orig = pickle.load(handle)\n",
    "\n",
    "with open('../data/house-prices-advanced-regression-techniques/test_1.pkl', 'rb') as handle:\n",
    "    test_orig = pickle.load(handle)\n",
    "    \n",
    "with open('../data/house-prices-advanced-regression-techniques/all_data.pkl', 'rb') as handle:\n",
    "    df = pickle.load(handle)\n"
   ],
   "metadata": {
    "collapsed": false,
    "ExecuteTime": {
     "end_time": "2023-11-28T22:51:49.661948Z",
     "start_time": "2023-11-28T22:51:49.649616Z"
    }
   },
   "id": "aa64684469003caa"
  },
  {
   "cell_type": "markdown",
   "source": [
    "# Wiederherstellen von Test- und Trainset"
   ],
   "metadata": {
    "collapsed": false
   },
   "id": "dbd5d234df08c26d"
  },
  {
   "cell_type": "code",
   "execution_count": 3,
   "outputs": [],
   "source": [
    "ntrain = train_orig.shape[0] # Anzahl der Trainingsdaten\n",
    "ntest = test_orig.shape[0]   # Anzahl der Testdaten\n",
    "\n",
    "# Zielvariable der Trainingsdaten\n",
    "y_train = train_orig['SalePrice']"
   ],
   "metadata": {
    "collapsed": false,
    "ExecuteTime": {
     "end_time": "2023-11-28T22:51:49.666411Z",
     "start_time": "2023-11-28T22:51:49.662533Z"
    }
   },
   "id": "4333d5af08f6ba03"
  },
  {
   "cell_type": "code",
   "execution_count": 4,
   "outputs": [
    {
     "name": "stdout",
     "output_type": "stream",
     "text": [
      "0      12.248\n",
      "1      12.109\n",
      "2      12.317\n",
      "3      11.849\n",
      "4      12.429\n",
      "        ...  \n",
      "1455   12.073\n",
      "1456   12.255\n",
      "1457   12.493\n",
      "1458   11.864\n",
      "1459   11.902\n",
      "Name: SalePrice, Length: 1458, dtype: float64\n",
      "Länge von y_train: 1458\n"
     ]
    }
   ],
   "source": [
    "print (y_train)\n",
    "print (\"Länge von y_train: \" + str (len(y_train)))"
   ],
   "metadata": {
    "collapsed": false,
    "ExecuteTime": {
     "end_time": "2023-11-28T22:51:49.704753Z",
     "start_time": "2023-11-28T22:51:49.667503Z"
    }
   },
   "id": "756bf6071fc7dcd9"
  },
  {
   "cell_type": "code",
   "execution_count": 5,
   "outputs": [
    {
     "name": "stdout",
     "output_type": "stream",
     "text": [
      "Dimension des Trainingssets: (1458, 74)\n",
      "Dimension des Testsets: (1459, 74)\n"
     ]
    }
   ],
   "source": [
    "X_train = df[:ntrain]\n",
    "X_test = df[ntrain:]\n",
    "\n",
    "print(\"Dimension des Trainingssets: \" + str (X_train.shape))\n",
    "print(\"Dimension des Testsets: \" + str (X_test.shape))\n"
   ],
   "metadata": {
    "collapsed": false,
    "ExecuteTime": {
     "end_time": "2023-11-28T22:51:49.705225Z",
     "start_time": "2023-11-28T22:51:49.670701Z"
    }
   },
   "id": "8c0f6db5e4f5b791"
  },
  {
   "cell_type": "markdown",
   "source": [
    "## Nominale Daten\n",
    "\n",
    "Die einfachste Transformation, von textbasierten zu numerischen kategorischen Merkmalen, ist das Ersetzen einer Kategorie mit einer bestimmten Zahl. Zum Beispiel für \"Hund\" die 1, für \"Maus\" die 2 und für \"Katze\" die 3. Einige ML-Algorithmen gehen jedoch davon aus, dass sich **zwei benachbarte Werte ähnlicher** sind als weiter entfernte Werte. Bei nominalen Daten trifft diese Annahme nicht zu. Es muss sicher gestellt werden, dass der Algorithmus hier **keine Fehlinterpretation** vornimmt. Lösung ist das sogenannte **One-Hot-Encoding**.  \n",
    "\n",
    "### One-Hot-Encoding\n",
    "\n",
    "Beim One-Hot-Encoding wird für **jeden möglichen Wert eine Spalte** mit binären Werten erstellt. 1 bedeutet, der Wert liegt vor, 0 bedeutet der Wert liegt nicht vor. Das Merkmal Tierart mit den drei möglichen Kategorien \"Hund\", \"Maus\" und \"Katze\" wird mit dem One-Hot-Encoding in drei Spalten transformiert. Für die Umsetzung bietet sich die [get_dummies()](https://pandas.pydata.org/docs/reference/api/pandas.get_dummies.html)-Methode von Pandas an.\n",
    "\n",
    "Das nachfolgende Beispiel zeigt dies für die nominal kategorische Spalte 'Electrical' (d.h. die Aussage, welche elektrische Installation im Haus vorzufinden ist).\n",
    "\n",
    "Schauen Sie genau hin. Es ist in jeweils nur einer einzigen Spalte der Wert \"True\" zu sehen!"
   ],
   "metadata": {
    "collapsed": false
   },
   "id": "44b7872f49da2790"
  },
  {
   "cell_type": "code",
   "execution_count": 6,
   "outputs": [
    {
     "data": {
      "text/plain": "      FuseA  FuseF  FuseP    Mix  SBrkr\n0     False  False  False  False   True\n1     False  False  False  False   True\n2     False  False  False  False   True\n3     False  False  False  False   True\n4     False  False  False  False   True\n...     ...    ...    ...    ...    ...\n2912  False  False  False  False   True\n2913  False  False  False  False   True\n2914  False  False  False  False   True\n2915  False  False  False  False   True\n2916  False  False  False  False   True\n\n[2917 rows x 5 columns]",
      "text/html": "<div>\n<style scoped>\n    .dataframe tbody tr th:only-of-type {\n        vertical-align: middle;\n    }\n\n    .dataframe tbody tr th {\n        vertical-align: top;\n    }\n\n    .dataframe thead th {\n        text-align: right;\n    }\n</style>\n<table border=\"1\" class=\"dataframe\">\n  <thead>\n    <tr style=\"text-align: right;\">\n      <th></th>\n      <th>FuseA</th>\n      <th>FuseF</th>\n      <th>FuseP</th>\n      <th>Mix</th>\n      <th>SBrkr</th>\n    </tr>\n  </thead>\n  <tbody>\n    <tr>\n      <th>0</th>\n      <td>False</td>\n      <td>False</td>\n      <td>False</td>\n      <td>False</td>\n      <td>True</td>\n    </tr>\n    <tr>\n      <th>1</th>\n      <td>False</td>\n      <td>False</td>\n      <td>False</td>\n      <td>False</td>\n      <td>True</td>\n    </tr>\n    <tr>\n      <th>2</th>\n      <td>False</td>\n      <td>False</td>\n      <td>False</td>\n      <td>False</td>\n      <td>True</td>\n    </tr>\n    <tr>\n      <th>3</th>\n      <td>False</td>\n      <td>False</td>\n      <td>False</td>\n      <td>False</td>\n      <td>True</td>\n    </tr>\n    <tr>\n      <th>4</th>\n      <td>False</td>\n      <td>False</td>\n      <td>False</td>\n      <td>False</td>\n      <td>True</td>\n    </tr>\n    <tr>\n      <th>...</th>\n      <td>...</td>\n      <td>...</td>\n      <td>...</td>\n      <td>...</td>\n      <td>...</td>\n    </tr>\n    <tr>\n      <th>2912</th>\n      <td>False</td>\n      <td>False</td>\n      <td>False</td>\n      <td>False</td>\n      <td>True</td>\n    </tr>\n    <tr>\n      <th>2913</th>\n      <td>False</td>\n      <td>False</td>\n      <td>False</td>\n      <td>False</td>\n      <td>True</td>\n    </tr>\n    <tr>\n      <th>2914</th>\n      <td>False</td>\n      <td>False</td>\n      <td>False</td>\n      <td>False</td>\n      <td>True</td>\n    </tr>\n    <tr>\n      <th>2915</th>\n      <td>False</td>\n      <td>False</td>\n      <td>False</td>\n      <td>False</td>\n      <td>True</td>\n    </tr>\n    <tr>\n      <th>2916</th>\n      <td>False</td>\n      <td>False</td>\n      <td>False</td>\n      <td>False</td>\n      <td>True</td>\n    </tr>\n  </tbody>\n</table>\n<p>2917 rows × 5 columns</p>\n</div>"
     },
     "execution_count": 6,
     "metadata": {},
     "output_type": "execute_result"
    }
   ],
   "source": [
    "pd.get_dummies(df['Electrical'])"
   ],
   "metadata": {
    "collapsed": false,
    "ExecuteTime": {
     "end_time": "2023-11-28T22:51:49.705601Z",
     "start_time": "2023-11-28T22:51:49.676602Z"
    }
   },
   "id": "9476e1dde414ab33"
  },
  {
   "cell_type": "markdown",
   "source": [
    "# Erstellen einer Pipeline\n",
    "Um den Prozess der Verarbeitung zu vereinfachen und zu standardisieren, kann eine sogenannte Pipeline eingesetzt werden. Diese erlaubt sowohl die Skalierung von Daten als auch das One-Hot-Encoding."
   ],
   "metadata": {
    "collapsed": false
   },
   "id": "bc3e60c58aa66142"
  },
  {
   "cell_type": "code",
   "execution_count": 7,
   "outputs": [],
   "source": [
    "from sklearn.compose import ColumnTransformer\n",
    "from sklearn.pipeline import Pipeline\n",
    "from sklearn.impute import SimpleImputer\n",
    "from sklearn.preprocessing import StandardScaler, OneHotEncoder\n",
    "\n",
    "\n",
    "# Define transformers for numerical and categorical columns\n",
    "numerical_transformer = Pipeline(steps=[\n",
    "    ('imputer', SimpleImputer(strategy='mean')),\n",
    "    ('scaler', StandardScaler())\n",
    "])\n",
    "\n",
    "categorical_transformer = Pipeline(steps=[\n",
    "    ('imputer', SimpleImputer(strategy='constant', fill_value='missing')),\n",
    "    ('onehot', OneHotEncoder(handle_unknown='ignore', sparse = False))\n",
    "])\n",
    "\n",
    "# Vgl. https://www.kaggle.com/code/kenjee/housing-prices-example-with-video-walkthrough"
   ],
   "metadata": {
    "collapsed": false,
    "ExecuteTime": {
     "end_time": "2023-11-28T22:51:49.924852Z",
     "start_time": "2023-11-28T22:51:49.689423Z"
    }
   },
   "id": "f802aae3666ed51f"
  },
  {
   "cell_type": "code",
   "execution_count": 8,
   "outputs": [
    {
     "name": "stdout",
     "output_type": "stream",
     "text": [
      "Anzahl numerischer Spalten: 36\n",
      "Anzahl kategorischer Spalten: 38\n"
     ]
    }
   ],
   "source": [
    "# Update categorical and numerical columns\n",
    "categorical_columns = df.select_dtypes(include=['object', 'category']).columns\n",
    "numerical_columns = df.select_dtypes(include=[np.number]).columns\n",
    "\n",
    "# Combine transformers using ColumnTransformer\n",
    "preprocessor = ColumnTransformer(\n",
    "    transformers=[\n",
    "        ('num', numerical_transformer, numerical_columns),\n",
    "        ('cat', categorical_transformer, categorical_columns)\n",
    "    ],remainder = 'passthrough')\n",
    "\n",
    "# Create a pipeline with the preprocessor\n",
    "pipeline = Pipeline(steps=[\n",
    "    ('preprocessor', preprocessor)])\n",
    "\n",
    "X_preprocessed_train = pipeline.fit_transform(X_train)\n",
    "\n",
    "print (\"Anzahl numerischer Spalten: \" + str(len(numerical_columns)))\n",
    "print (\"Anzahl kategorischer Spalten: \" + str(len(categorical_columns)))\n"
   ],
   "metadata": {
    "collapsed": false,
    "ExecuteTime": {
     "end_time": "2023-11-28T22:51:49.945194Z",
     "start_time": "2023-11-28T22:51:49.911595Z"
    }
   },
   "id": "de502bd7ff7bd31f"
  },
  {
   "cell_type": "code",
   "execution_count": 9,
   "outputs": [
    {
     "data": {
      "text/plain": "array([[ 0.07342554, -0.22286241, -0.20393408, ...,  0.        ,\n         1.        ,  0.        ],\n       [-0.87186754,  0.49025596, -0.08725172, ...,  0.        ,\n         1.        ,  0.        ],\n       [ 0.07342554, -0.08023874,  0.08016212, ...,  0.        ,\n         1.        ,  0.        ],\n       ...,\n       [ 0.30974881, -0.17532119, -0.14386803, ...,  0.        ,\n         1.        ,  0.        ],\n       [-0.87186754, -0.08023874, -0.07538055, ...,  0.        ,\n         1.        ,  0.        ],\n       [-0.87186754,  0.25254984, -0.05305871, ...,  0.        ,\n         1.        ,  0.        ]])"
     },
     "execution_count": 9,
     "metadata": {},
     "output_type": "execute_result"
    }
   ],
   "source": [
    "X_preprocessed_train"
   ],
   "metadata": {
    "collapsed": false,
    "ExecuteTime": {
     "end_time": "2023-11-28T22:51:49.970029Z",
     "start_time": "2023-11-28T22:51:49.945760Z"
    }
   },
   "id": "b6484dad520f953"
  },
  {
   "cell_type": "code",
   "execution_count": 10,
   "outputs": [],
   "source": [
    "with open('../data/house-prices-advanced-regression-techniques/x_preprocessed_train.pkl', 'wb') as handle:\n",
    "    pickle.dump(X_preprocessed_train, handle)\n",
    "    \n",
    "with open('../data/house-prices-advanced-regression-techniques/y_train.pkl', 'wb') as handle:\n",
    "    pickle.dump(y_train, handle)\n",
    "    \n",
    "with open('../data/house-prices-advanced-regression-techniques/x_test.pkl', 'wb') as handle:\n",
    "    pickle.dump(X_test, handle)\n",
    "    \n"
   ],
   "metadata": {
    "collapsed": false,
    "ExecuteTime": {
     "end_time": "2023-11-28T22:51:49.972294Z",
     "start_time": "2023-11-28T22:51:49.950437Z"
    }
   },
   "id": "19701d80197b8579"
  },
  {
   "cell_type": "code",
   "execution_count": 10,
   "outputs": [],
   "source": [],
   "metadata": {
    "collapsed": false,
    "ExecuteTime": {
     "end_time": "2023-11-28T22:51:49.974243Z",
     "start_time": "2023-11-28T22:51:49.959726Z"
    }
   },
   "id": "311a15ed908a7a5"
  },
  {
   "cell_type": "code",
   "execution_count": 10,
   "outputs": [],
   "source": [],
   "metadata": {
    "collapsed": false,
    "ExecuteTime": {
     "end_time": "2023-11-28T22:51:49.974525Z",
     "start_time": "2023-11-28T22:51:49.962702Z"
    }
   },
   "id": "12001b7556cb33bc"
  },
  {
   "cell_type": "code",
   "execution_count": 10,
   "outputs": [],
   "source": [],
   "metadata": {
    "collapsed": false,
    "ExecuteTime": {
     "end_time": "2023-11-28T22:51:49.974590Z",
     "start_time": "2023-11-28T22:51:49.965928Z"
    }
   },
   "id": "c321ff6ea3a7607e"
  }
 ],
 "metadata": {
  "kernelspec": {
   "display_name": "Python 3",
   "language": "python",
   "name": "python3"
  },
  "language_info": {
   "codemirror_mode": {
    "name": "ipython",
    "version": 2
   },
   "file_extension": ".py",
   "mimetype": "text/x-python",
   "name": "python",
   "nbconvert_exporter": "python",
   "pygments_lexer": "ipython2",
   "version": "2.7.6"
  }
 },
 "nbformat": 4,
 "nbformat_minor": 5
}
