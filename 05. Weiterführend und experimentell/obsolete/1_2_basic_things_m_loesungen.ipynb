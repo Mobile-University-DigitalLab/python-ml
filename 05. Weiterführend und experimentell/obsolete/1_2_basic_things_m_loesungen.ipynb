{
 "cells": [
  {
   "cell_type": "markdown",
   "source": [
    "# Wichtiges Basis-Wissen\n",
    "\n",
    "## Vokabeln\n",
    "Wenn man eine neue Sprache lernt, dann gilt es auch Vokabeln zu lernen.\n",
    "\n",
    "Auch eine Programmiersprache kennt Vokabeln.\n",
    "\n",
    "Einige davon sehen Sie auf dem Bild\n",
    "![image](../img/keywords.png)\n",
    "\n",
    "- Kommentar\n",
    "    Kommentare enthalten beliebigen Text. Sie haben nur erklärende Bedeutung.\n",
    "- Schlüsselwort\n",
    "    Schlüsselwörter steuern die Programmierung. Im Beispiel steuert das \"for\" Schlüsselwort, die fünf-malige Wiederholung.\n",
    "    Dazu im Folgenden mehr.\n",
    "- Operator\n",
    "    Operatoren werden z.B. für Berechnungen oder Vergleiche benutzt.\n",
    "    Dazu im Folgenden mehr.\n",
    "- Variable\n",
    "    Variablen speichern Werte, um sie später benutzen zu können (siehe nächstes Jupyter Notebook)\n",
    "- Funktion\n",
    "    Funktionen \"verpacken\" ganze Blöcke von Programmierung. Sie sind unsere \"Superpower\".\n",
    "    Im Beispiel hilft uns die \"range\" Funktion, die Werte 0 bis 4 zu erhalten.\n",
    "    Dazu später mehr.\n",
    "\n",
    "### Kommentare in Python\n",
    "Kommentare in Python werden mit dem \"Hashtag\" # eingeleitet. Es ist guter Stil, nach dem # ein Leerzeichen zu lassen.\n",
    "Probieren Sie es gleich aus.\n",
    "\n",
    "### Aufgabe\n",
    "\n",
    "=> Erstellen Sie das Kommentar \"Ich stehe hier als Erklärung\" in der nächsten (leeren) Zelle.\n",
    "=> Führen Sie die Zelle (also den Programm-Code) aus, indem Sie auf den Pfeil klicken (oder Shift-Enter).\n",
    "=> Warum hat die Zelle keine Ausgabe?"
   ],
   "metadata": {
    "collapsed": false
   }
  },
  {
   "cell_type": "code",
   "execution_count": 1,
   "outputs": [],
   "source": [
    "# Ich stehe hier als Erklärung"
   ],
   "metadata": {
    "collapsed": false
   }
  },
  {
   "cell_type": "markdown",
   "source": [
    "### Schlüsselwörter (keywords) in Python\n",
    "\n",
    "Schlüsselwörter sind spezielle Wörte, mit deren Hilfe wir Programmieren.\n",
    "\n",
    "Sie gehören also zur Sprache \"Python\".\n",
    "\n",
    "Hier sehen Sie eine Liste von Schlüsselwörtern:\n",
    "![image](../img/keyword_list.png)\n",
    "\n",
    "=> Schlüsselwörter sind immer klein geschrieben, außer True, False und None.\n",
    "=> Wie bei einer natürlichen Sprache, müssen die Schlüsselwörter genau so geschrieben werden, wie sie hier stehen.\n",
    "=> Die gute Nachricht: Sie brauchen am Anfang nur wenige davon und lernen deren Bedeutung nach und nach kennen.\n",
    "\n",
    "Beispiel:\n",
    "True und False sind die Werte für wahr und falsch. Oft will man beim Programmieren überprüfen, ob eine Bedingung erfüllt ist. Das macht mit diesen sogenannten boolschen Werten.\n",
    "not ist das \"Gegenteil\". not True ist also False.\n",
    "\n",
    "### Aufgabe\n",
    "\n",
    "=> Was ist not False?\n",
    "=> Probieren Sie es aus und geben Sie mit Hilfe von print( ... ) not False aus!"
   ],
   "metadata": {
    "collapsed": false
   }
  },
  {
   "cell_type": "code",
   "execution_count": 2,
   "outputs": [
    {
     "name": "stdout",
     "output_type": "stream",
     "text": [
      "True\n"
     ]
    }
   ],
   "source": [
    "# Geben Sie mit print( ... ) not False aus!\n",
    "# Tippen Sie Ihr Ergebnis in die nächste Zeile und führen Sie die Zelle aus.\n",
    "\n",
    "print(not False)"
   ],
   "metadata": {
    "collapsed": false
   }
  },
  {
   "cell_type": "markdown",
   "source": [
    "### Operatoren in Python\n",
    "\n",
    "Operatoren werden dazu benutzt, Berechnungen oder Zuweisungen darzustellen.\n",
    "\n",
    "Z.B. 4 + 2 ist eine Berechnung\n",
    "Auch \"Python \" + \"ist toll\" kann mit Hilfe eines Operators 'berechnet' werden.\n",
    "\n",
    "=> Python ist hier sehr komfortabel - Anders als in manch anderer Programmiersprache, sind die Operatoren sehr intuitiv.\n",
    "\n",
    "![image](../img/operators.png)\n",
    "\n",
    "### Aufgabe\n",
    "=> Was ist vier mal zwei? Propieren Sie es aus, indem Sie mit Hilfe des print ( ... ) Befehls vier mal zwei berechnen.\n",
    "=> Was ist der Rest, wenn man (ganzzahlig) zehn durch vier teilt?\n",
    "=> Kommt 'y' nach 'x'?"
   ],
   "metadata": {
    "collapsed": false
   }
  },
  {
   "cell_type": "code",
   "execution_count": 3,
   "outputs": [
    {
     "name": "stdout",
     "output_type": "stream",
     "text": [
      "8\n",
      "2\n",
      "True\n"
     ]
    }
   ],
   "source": [
    "# Berechnen Sie mit Hilfe des print ( ... ) Befehls vier mal zwei\n",
    "print(4*2)\n",
    "# Was ist der Rest, wenn man (ganzzahlig) zehn durch vier teilt?\n",
    "print(10%4)\n",
    "# Kommt 'y' nach 'x'?\n",
    "print('y' > 'x')"
   ],
   "metadata": {
    "collapsed": false
   }
  },
  {
   "cell_type": "markdown",
   "source": [
    "### Variablen und Funktionen\n",
    "Variablen und Funktionen behandeln wir in den folgenden Jupyter Notebooks."
   ],
   "metadata": {
    "collapsed": false
   }
  },
  {
   "cell_type": "code",
   "execution_count": 3,
   "outputs": [],
   "source": [],
   "metadata": {
    "collapsed": false
   }
  }
 ],
 "metadata": {
  "kernelspec": {
   "display_name": "Python 3",
   "language": "python",
   "name": "python3"
  },
  "language_info": {
   "codemirror_mode": {
    "name": "ipython",
    "version": 2
   },
   "file_extension": ".py",
   "mimetype": "text/x-python",
   "name": "python",
   "nbconvert_exporter": "python",
   "pygments_lexer": "ipython2",
   "version": "2.7.6"
  }
 },
 "nbformat": 4,
 "nbformat_minor": 0
}
