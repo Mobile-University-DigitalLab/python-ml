{
 "cells": [
  {
   "cell_type": "markdown",
   "source": [
    "# Take Control!\n",
    "## Schleifen\n",
    "\n",
    "Schleifen dienen in der Programmierung dazu, Dinge zu wiederholen.\n",
    "Hierfür gibt es zwei  Typen:\n",
    "\n",
    "- Die For-Schleife\n",
    "    Die For-Schleife wiederholt einen Code-Block für eine bestimmte Anzahl oder für bestimmte Elemente\n",
    "- Die While-Schleife\n",
    "    Die While-Schleife wiederholt einen Code-Block, solange eine Bedingung wahr ist.\n",
    "\n",
    "\n",
    "## Die For-Schleife\n",
    "\n",
    "![image](../img/for_loop.png)"
   ],
   "metadata": {
    "collapsed": false
   }
  },
  {
   "cell_type": "markdown",
   "source": [
    "In For-Schleife ist dafür das, über eine Liste zu 'iterieren', d.h. es wird für jedes Element der Liste wird der Code-Block ausgeführt."
   ],
   "metadata": {
    "collapsed": false
   }
  },
  {
   "cell_type": "code",
   "execution_count": null,
   "outputs": [],
   "source": [
    "# Python for-loop\n",
    "liste=[1,2,3]\n",
    "for loop_var in liste:\n",
    "\t# Ausführen für alle Elemente in liste\n",
    "\tprint(loop_var)\n",
    "\n",
    "# Hier geht’s ganz normal weiter...\n",
    "print('Mich seht ihr immer!')\n"
   ],
   "metadata": {
    "collapsed": false
   }
  },
  {
   "cell_type": "markdown",
   "source": [
    "### Aufgabe:\n",
    "Schreiben Sie eine for-Schleife, die die Wörter 'Mobile' und 'University' nacheinander ausgibt.\n",
    "Tipp: Sie können in der Variablen 'liste' auch eine Liste von Strings speichern.\n"
   ],
   "metadata": {
    "collapsed": false
   }
  },
  {
   "cell_type": "code",
   "execution_count": null,
   "outputs": [],
   "source": [
    "# Schreiben Sie eine for-Schleife, die die Wörter 'Mobile' und 'University' nacheinander ausgibt.\n",
    "# Tipp: Sie können in der Variablen 'liste' auch eine Liste von Strings speichern.\n",
    "\n",
    "\n"
   ],
   "metadata": {
    "collapsed": false
   }
  },
  {
   "cell_type": "markdown",
   "source": [
    "## Die For-Schleife über einen 'Range'\n",
    "\n",
    "Wenn die Liste nicht aus expliziten Elementen besteht, sondern man es mit einem Bereich zu tun hat, dann kann der sogenannte range() benutzt werden.\n",
    "range() ist eine Funktion, die\n",
    "- einen Anfangsparameter hat. Der erste Wert des Range entspricht diesem Wert.\n",
    "- einen Endeparameter hat. Der letzte Wert des Range ist KLEINER als dieser Wert.\n",
    "- einen optionalen Schritt-Parameter hat, der angibt, in welchen Abständen gezählt wird."
   ],
   "metadata": {
    "collapsed": false
   }
  },
  {
   "cell_type": "code",
   "execution_count": null,
   "outputs": [],
   "source": [
    "# For-Schleife mit Range: 'Alle geraden Zahlen zwischen 0 und 42\n",
    "for loop_var in range(0,43,2):\n",
    "\t# Ausführen für alle Elemente in range\n",
    "\tprint(loop_var)\n",
    "\n",
    "# Hier geht’s ganz normal weiter...\n",
    "print('Mich seht ihr immer!')\n"
   ],
   "metadata": {
    "collapsed": false
   }
  },
  {
   "cell_type": "markdown",
   "source": [
    "### Tipp:\n",
    "\n",
    "Range kann auch nur einen Parameter haben:\n",
    "range(5) -> dies entspricht range (0,5,1)"
   ],
   "metadata": {
    "collapsed": false
   }
  },
  {
   "cell_type": "markdown",
   "source": [
    "## Die While-Schleife\n",
    "\n",
    "Die While-Schleife dient dazu, etwas zu wiederholen, solange eine Bedingung wahr ist.\n",
    "![image](../img/while_loop.png)"
   ],
   "metadata": {
    "collapsed": false
   }
  },
  {
   "cell_type": "code",
   "execution_count": null,
   "outputs": [],
   "source": [
    "summe = 0\n",
    "while summe < 100:\n",
    "\t# Ausführen:\n",
    "\tsumme = summe + 10\n",
    "\tprint('Summe ist jetzt: ', summe)\n",
    "\n",
    "# Hier geht’s ganz normal weiter...\n",
    "print('Geschafft. Die Bedingung ist jetzt NICHT MEHR wahr!')"
   ],
   "metadata": {
    "collapsed": false
   }
  },
  {
   "cell_type": "markdown",
   "source": [
    "### WICHTIGER Hinweis - Die Endlosschleife\n",
    "Die While-Schleife kann zu Endlosschleifen führen.\n",
    "\n",
    "=> Warum?"
   ],
   "metadata": {
    "collapsed": false
   }
  },
  {
   "cell_type": "code",
   "execution_count": null,
   "outputs": [],
   "source": [
    "# Dies ist (fast) eine Endlosschleife - Zum Glück endet sie doch bei -1000...\n",
    "summe = 0\n",
    "while summe < 100:\n",
    "\t# Ausführen:\n",
    "\tsumme = summe - 10\n",
    "\tprint('Summe ist jetzt: ', summe)\n",
    "\tif summe < -1000:\n",
    "\t\traise Exception(\"Entschuldigung. Endlosschleifen sind endlos.\")\n",
    "\n",
    "# Hier geht’s ganz normal weiter...\n",
    "print('Mich werdet ihr nie sehen!')"
   ],
   "metadata": {
    "collapsed": false
   }
  },
  {
   "cell_type": "code",
   "execution_count": null,
   "outputs": [],
   "source": [
    "# Programm, das auf die Eingabe einer geraden Zahl wartet...\n",
    "zahl = int(input('Geben Sie eine gerade Zahl ein: '))\n",
    "\n",
    "# Zahlen addieren, bis Zahl Null ist\n",
    "while zahl % 2 != 0:\n",
    "    meldung = 'Entschuldigung. ' + str(zahl) + ' ist nicht gerade. Versuchen Sie es erneut: '\n",
    "    zahl = int(input(meldung))\n",
    "print('Die gerade Zahl lautet =', zahl)"
   ],
   "metadata": {
    "collapsed": false
   }
  },
  {
   "cell_type": "markdown",
   "source": [
    "### Aufgabe\n",
    "Schreiben Sie eine Schleife, die drei mal das Wort \"Hurra\" ausgibt.\n",
    "\n",
    "=> Welche Art von Schleife verwenden Sie? Eine For-Schleife, oder eine While-Schleife?\n",
    "=> Gibt es mehrere Möglichkeiten?"
   ],
   "metadata": {
    "collapsed": false
   }
  },
  {
   "cell_type": "code",
   "execution_count": null,
   "outputs": [],
   "source": [
    "# Schreiben Sie eine Schleife, die dreimal das Wort \"Hurra\" ausgibt.\n",
    "# Gibt es mehrere Möglichkeiten?\n"
   ],
   "metadata": {
    "collapsed": false
   }
  }
 ],
 "metadata": {
  "kernelspec": {
   "display_name": "Python 3",
   "language": "python",
   "name": "python3"
  },
  "language_info": {
   "codemirror_mode": {
    "name": "ipython",
    "version": 2
   },
   "file_extension": ".py",
   "mimetype": "text/x-python",
   "name": "python",
   "nbconvert_exporter": "python",
   "pygments_lexer": "ipython2",
   "version": "2.7.6"
  }
 },
 "nbformat": 4,
 "nbformat_minor": 0
}
