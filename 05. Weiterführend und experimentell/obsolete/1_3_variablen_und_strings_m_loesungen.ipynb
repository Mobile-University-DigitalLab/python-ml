{
 "cells": [
  {
   "cell_type": "markdown",
   "source": [
    "# Variablen\n",
    "## Was sind Variablen?\n",
    "Wäre es nicht praktisch, wenn man all die Ausgaben der vorigen Lektion (also z.B. 4+2) auch zwischenspeichern kann?\n",
    "\n",
    "=> Hierfür gibt es Variablen.\n",
    "=> Sie können Zahlen, Texte, aber z.B. auch eine Liste oder Bilder speichern.\n",
    "=> Speichert man einen Wert in einer Variablen, dann sagt man auch \"Man weist einer Variablen einen Wert zu\".\n",
    "=> Links steht immer die Variable.\n",
    "![image](../img/variable.png)\n",
    "\n",
    "### Aufgabe\n",
    "Probieren Sie es gleich aus!\n",
    "=> Erstellen Sie eine Variable mit Namen \"ergebnis\" und weisen Sie ihr den Wert 10 geteilt durch 5 zu.\n",
    "=> Warum wird nichts ausgegeben?\n",
    "=> Geben Sie dann den Wert der Variable in der Konsole an!"
   ],
   "metadata": {
    "collapsed": false
   }
  },
  {
   "cell_type": "code",
   "execution_count": 21,
   "outputs": [],
   "source": [
    "# Erstellen Sie eine Variable mit Namen \"ergebnis\" und weisen Sie ihr den Wert 10 geteilt durch 5 zu.\n",
    "ergebnis = 10/5"
   ],
   "metadata": {
    "collapsed": false
   }
  },
  {
   "cell_type": "code",
   "execution_count": 22,
   "outputs": [
    {
     "name": "stdout",
     "output_type": "stream",
     "text": [
      "2.0\n"
     ]
    }
   ],
   "source": [
    "# Zeigen Sie nun den berechneten Wert in der Konsole an!\n",
    "print(ergebnis)"
   ],
   "metadata": {
    "collapsed": false
   }
  },
  {
   "cell_type": "markdown",
   "source": [
    "## Benennung von Variablen\n",
    "\n",
    "Für die Benennung von Variablen gelten strenge Regeln.\n",
    "Der Name einer Variablen wird auch \"Bezeichner\" (engl.: identifier) genannt.\n",
    "\n",
    "* Bezeichner können keine Schlüsselwörter sein.\n",
    "* Bei Bezeichnern wird zwischen Groß- und Kleinschreibung unterschieden.\n",
    "* Bezeichner können aus einer Folge von Buchstaben und Ziffern bestehen. Er muss jedoch mit einem Buchstaben oder _ beginnen. Der erste Buchstabe eines Bezeichners kann keine Ziffer sein.\n",
    "* Es ist eine Konvention, einen Bezeichner mit einem Buchstaben und nicht mit _ zu beginnen.\n",
    "* Leerzeichen sind nicht erlaubt.\n",
    "* Sonderzeichen wie !, @, #, $ usw. dürfen nicht verwendet werden.\n",
    "\n",
    "![image](../img/bezeichner.png)\n",
    "\n",
    "=> Sehen Sie sich den nachfolgenden Code an. Warum funktioniert er nicht?"
   ],
   "metadata": {
    "collapsed": false
   }
  },
  {
   "cell_type": "code",
   "execution_count": 23,
   "outputs": [
    {
     "ename": "NameError",
     "evalue": "name 'Ergebnis' is not defined",
     "output_type": "error",
     "traceback": [
      "\u001B[0;31m---------------------------------------------------------------------------\u001B[0m",
      "\u001B[0;31mNameError\u001B[0m                                 Traceback (most recent call last)",
      "Cell \u001B[0;32mIn[23], line 3\u001B[0m\n\u001B[1;32m      1\u001B[0m \u001B[38;5;66;03m# Sehen Sie sich den nachfolgenden Code an. Warum funktioniert er nicht?\u001B[39;00m\n\u001B[1;32m      2\u001B[0m ergebnis \u001B[38;5;241m=\u001B[39m \u001B[38;5;241m4\u001B[39m \u001B[38;5;241m*\u001B[39m \u001B[38;5;241m2\u001B[39m\n\u001B[0;32m----> 3\u001B[0m \u001B[38;5;28mprint\u001B[39m(\u001B[43mErgebnis\u001B[49m)\n",
      "\u001B[0;31mNameError\u001B[0m: name 'Ergebnis' is not defined"
     ]
    }
   ],
   "source": [
    "# Sehen Sie sich den nachfolgenden Code an. Warum funktioniert er nicht?\n",
    "ergebnis = 4 * 2\n",
    "print(Ergebnis)"
   ],
   "metadata": {
    "collapsed": false
   }
  },
  {
   "cell_type": "markdown",
   "source": [
    "## Stilvolle Bezeichner\n",
    "\n",
    "Es gibt einige Konventionen für Bezeichner.\n",
    "=> Die wichtigste ist der sogenannte snake_case.\n",
    "=> hierbei wird alles klein geschrieben und durh Unterstriche verbunden.\n",
    "\n",
    "![image](../img/snake_case.png)"
   ],
   "metadata": {
    "collapsed": false
   }
  },
  {
   "cell_type": "markdown",
   "source": [
    "## Mit Variablen Arbeiten\n",
    "\n",
    "Mit Variablen kann man nun arbeiten, wie wir das zuvor mit Zahlen oder Strings gemacht haben.\n"
   ],
   "metadata": {
    "collapsed": false
   }
  },
  {
   "cell_type": "code",
   "execution_count": 4,
   "outputs": [
    {
     "name": "stdout",
     "output_type": "stream",
     "text": [
      "3\n",
      "-1\n",
      "2\n",
      "0.5\n"
     ]
    }
   ],
   "source": [
    "# Betrachten Sie nachfolgenden Code, was wird ausgegeben?\n",
    "eins = 1\n",
    "zwei = 2\n",
    "print(eins + zwei)\n",
    "print(eins - zwei)\n",
    "print(eins * zwei)\n",
    "print(eins / zwei)"
   ],
   "metadata": {
    "collapsed": false
   }
  },
  {
   "cell_type": "code",
   "execution_count": 5,
   "outputs": [
    {
     "name": "stdout",
     "output_type": "stream",
     "text": [
      "AB\n",
      "AAA\n"
     ]
    }
   ],
   "source": [
    "# Betrachten Sie nachfolgenden Code, was wird ausgegeben?\n",
    "drei = 3\n",
    "a = \"A\"\n",
    "b = \"B\"\n",
    "print(a + b)\n",
    "print(drei * a)"
   ],
   "metadata": {
    "collapsed": false
   }
  },
  {
   "cell_type": "markdown",
   "source": [
    "# Strings\n",
    "\n",
    "Texte werden in Programmiersprachen häufig als \"String\" (aus dem Englischen: \"Kette\") bezeichnet.\n",
    "\n",
    "Es geht also um Zeichenketten. Diese werden durch Anführungszeichen dargestellt."
   ],
   "metadata": {
    "collapsed": false
   }
  },
  {
   "cell_type": "markdown",
   "source": [
    "## Anführungzeichen\n",
    "\n",
    "Python kenn einfache ' und doppelte \" Anführungszeichen.\n",
    "\n",
    "Beide sind erlaubt, um Strings (also Text) einzugeben.\n",
    "\n",
    "Soll ein Text Anführungszeichen enthalten, dann können Sie gemischt werden.\n",
    "\n",
    "Beispiel: \"Namen von Variablen werden auch 'Bezeichner' genannt.\"\n",
    "\n",
    "### Aufgabe\n",
    "\n",
    "=> Probieren Sie es aus und geben Sie den Text let's go aus."
   ],
   "metadata": {
    "collapsed": false
   }
  },
  {
   "cell_type": "code",
   "execution_count": 24,
   "outputs": [
    {
     "name": "stdout",
     "output_type": "stream",
     "text": [
      "Let's go\n"
     ]
    }
   ],
   "source": [
    "# Probieren Sie es aus und geben Sie den Text let's go aus.\n",
    "print(\"Let's go\")"
   ],
   "metadata": {
    "collapsed": false
   }
  },
  {
   "cell_type": "markdown",
   "source": [
    "![image](../img/string.png)\n",
    "\n",
    "\n",
    "\n",
    "## Strings sind sogenannte Arrays\n",
    "\n",
    "Ein Array (engl.: Reihe, Sortiment) ist eine Möglichkeit, mehrere Werte in einer einzigen Variablen zu speichern.\n",
    "\n",
    "#### Hierbei wird von 0 beginnend gezählt.\n",
    "\n",
    "\n",
    "![image](../img/text_array.png)\n",
    "\n",
    "Das können wir selbst programmieren!"
   ],
   "metadata": {
    "collapsed": false
   }
  },
  {
   "cell_type": "code",
   "execution_count": 7,
   "outputs": [
    {
     "name": "stdout",
     "output_type": "stream",
     "text": [
      "M\n",
      "e\n",
      "i\n",
      "n\n",
      " \n",
      "T\n",
      "e\n",
      "x\n",
      "t\n"
     ]
    }
   ],
   "source": [
    "# Wir geben die Buchstaben eines Wortes als einzelne Zeichen aus:\n",
    "\n",
    "string_variable = \"Mein Text\"\n",
    "for zeichen in string_variable:\n",
    "    print(zeichen)"
   ],
   "metadata": {
    "collapsed": false
   }
  },
  {
   "cell_type": "markdown",
   "source": [
    "Weil Strings Arrays sind, können wir auf jeden Buchstaben einzeln zugreifen:\n"
   ],
   "metadata": {
    "collapsed": false
   }
  },
  {
   "cell_type": "code",
   "execution_count": 8,
   "outputs": [
    {
     "name": "stdout",
     "output_type": "stream",
     "text": [
      "x\n"
     ]
    }
   ],
   "source": [
    "# Gib den achten Buchstaben aus:\n",
    "\n",
    "string_variable = \"Mein Text\"\n",
    "print(string_variable[7])"
   ],
   "metadata": {
    "collapsed": false
   }
  },
  {
   "cell_type": "markdown",
   "source": [
    "### Aufgabe\n",
    "\n",
    "=> warum programmieren wir nicht print(string_variable[8])?\n",
    "=> Betrachten Sie nachfolgendes Beispiel. Warum scheitert der Code?"
   ],
   "metadata": {
    "collapsed": false
   }
  },
  {
   "cell_type": "code",
   "execution_count": 9,
   "outputs": [
    {
     "ename": "IndexError",
     "evalue": "string index out of range",
     "output_type": "error",
     "traceback": [
      "\u001B[0;31m---------------------------------------------------------------------------\u001B[0m",
      "\u001B[0;31mIndexError\u001B[0m                                Traceback (most recent call last)",
      "Cell \u001B[0;32mIn[9], line 4\u001B[0m\n\u001B[1;32m      1\u001B[0m \u001B[38;5;66;03m# Betrachten Sie nachfolgendes Beispiel. Warum scheitert der Code?\u001B[39;00m\n\u001B[1;32m      3\u001B[0m string_variable \u001B[38;5;241m=\u001B[39m \u001B[38;5;124m\"\u001B[39m\u001B[38;5;124mMein Text\u001B[39m\u001B[38;5;124m\"\u001B[39m\n\u001B[0;32m----> 4\u001B[0m \u001B[38;5;28mprint\u001B[39m(\u001B[43mstring_variable\u001B[49m\u001B[43m[\u001B[49m\u001B[38;5;241;43m9\u001B[39;49m\u001B[43m]\u001B[49m)\n",
      "\u001B[0;31mIndexError\u001B[0m: string index out of range"
     ]
    }
   ],
   "source": [
    "# Betrachten Sie nachfolgendes Beispiel. Warum scheitert der Code?\n",
    "\n",
    "string_variable = \"Mein Text\"\n",
    "print(string_variable[9])"
   ],
   "metadata": {
    "collapsed": false
   }
  },
  {
   "cell_type": "code",
   "execution_count": 10,
   "outputs": [
    {
     "name": "stdout",
     "output_type": "stream",
     "text": [
      "9\n"
     ]
    }
   ],
   "source": [
    "# Wir können die Länge eines Textes berechnen\n",
    "\n",
    "string_variable = \"Mein Text\"\n",
    "print (len(string_variable))"
   ],
   "metadata": {
    "collapsed": false
   }
  },
  {
   "cell_type": "code",
   "execution_count": 11,
   "outputs": [
    {
     "name": "stdout",
     "output_type": "stream",
     "text": [
      "t\n"
     ]
    }
   ],
   "source": [
    "# Zugriff auf das letzte Zeichen eines Textes:\n",
    "\n",
    "string_variable = \"Mein Text\"\n",
    "print (string_variable[-1])"
   ],
   "metadata": {
    "collapsed": false
   }
  },
  {
   "cell_type": "code",
   "execution_count": 12,
   "outputs": [
    {
     "name": "stdout",
     "output_type": "stream",
     "text": [
      "Text\n",
      "Mein\n"
     ]
    }
   ],
   "source": [
    "# Zugriff auf einen Bereich von Zeichen eines Textes:\n",
    "\n",
    "string_variable = \"Mein Text\"\n",
    "print (string_variable[5:9])\n",
    "print (string_variable[-9:-5])"
   ],
   "metadata": {
    "collapsed": false
   }
  },
  {
   "cell_type": "code",
   "execution_count": 13,
   "outputs": [
    {
     "name": "stdout",
     "output_type": "stream",
     "text": [
      "txeT nieM\n"
     ]
    }
   ],
   "source": [
    "# Text rückwärts ausgeben\n",
    "\n",
    "print (string_variable[::-1])"
   ],
   "metadata": {
    "collapsed": false
   }
  },
  {
   "cell_type": "markdown",
   "source": [
    "## String Funktionen\n",
    "\n",
    "Strings sind eigentlich Objekte. Objekte können nicht nur Werte speichern, sondern auch eigene Fähigkeiten haben.\n",
    "Hier einige Beispiele für Fähigkeiten (also Funktionen), die für String zur Verfügung stehen:\n"
   ],
   "metadata": {
    "collapsed": false
   }
  },
  {
   "cell_type": "code",
   "execution_count": 14,
   "outputs": [
    {
     "name": "stdout",
     "output_type": "stream",
     "text": [
      "Mein Text\n",
      "MEIN TEXT\n",
      "mein text\n",
      "Mein text\n"
     ]
    }
   ],
   "source": [
    "string_variable = \"Mein Text\"\n",
    "print(string_variable)\n",
    "print(string_variable.upper())\n",
    "print(string_variable.lower())\n",
    "print(string_variable.lower().capitalize())"
   ],
   "metadata": {
    "collapsed": false
   }
  },
  {
   "cell_type": "markdown",
   "source": [
    "# Aufgaben"
   ],
   "metadata": {
    "collapsed": false
   }
  },
  {
   "cell_type": "code",
   "execution_count": 15,
   "outputs": [],
   "source": [
    "# Speichern Sie den Text \"Python forever\" in einer variablen\n",
    "forever = \"Python forever\""
   ],
   "metadata": {
    "collapsed": false
   }
  },
  {
   "cell_type": "code",
   "execution_count": 16,
   "outputs": [
    {
     "name": "stdout",
     "output_type": "stream",
     "text": [
      "r\n"
     ]
    }
   ],
   "source": [
    "# Geben Sie das letzte Zeichen des Textes aus\n",
    "print(forever[-1])"
   ],
   "metadata": {
    "collapsed": false
   }
  },
  {
   "cell_type": "code",
   "execution_count": 17,
   "outputs": [
    {
     "name": "stdout",
     "output_type": "stream",
     "text": [
      "python forever\n"
     ]
    }
   ],
   "source": [
    "# Wandeln Sie den Text in Kleinschreibung um\n",
    "print(forever.lower())"
   ],
   "metadata": {
    "collapsed": false
   }
  },
  {
   "cell_type": "code",
   "execution_count": 18,
   "outputs": [
    {
     "name": "stdout",
     "output_type": "stream",
     "text": [
      "200\n"
     ]
    }
   ],
   "source": [
    "# Verwenden Sie zwei Variablen, um deren Produkt auszugeben\n",
    "var_1 = 10\n",
    "var_2 = 20\n",
    "print(var_1 * var_2)"
   ],
   "metadata": {
    "collapsed": false
   }
  },
  {
   "cell_type": "code",
   "execution_count": 19,
   "outputs": [
    {
     "name": "stdout",
     "output_type": "stream",
     "text": [
      "PythonPythonPythonPythonPythonPythonPythonPythonPythonPythonPythonPythonPythonPythonPythonPythonPythonPythonPythonPythonPythonPythonPythonPythonPythonPythonPythonPythonPythonPythonPythonPythonPythonPythonPythonPythonPythonPythonPythonPythonPythonPythonPythonPythonPythonPythonPythonPythonPythonPython\n"
     ]
    }
   ],
   "source": [
    "# Geben Sie 50 mal den Text \"Python\" aus.\n",
    "print(50*\"Python\")"
   ],
   "metadata": {
    "collapsed": false
   }
  },
  {
   "cell_type": "code",
   "execution_count": 20,
   "outputs": [
    {
     "name": "stdout",
     "output_type": "stream",
     "text": [
      "forever\n"
     ]
    }
   ],
   "source": [
    "# Geben Sie die Zeichen 8 bis 14 des Textes aus\n",
    "print(forever[7:14])"
   ],
   "metadata": {
    "collapsed": false
   }
  },
  {
   "cell_type": "code",
   "execution_count": null,
   "outputs": [],
   "source": [],
   "metadata": {
    "collapsed": false
   }
  }
 ],
 "metadata": {
  "kernelspec": {
   "display_name": "Python 3",
   "language": "python",
   "name": "python3"
  },
  "language_info": {
   "codemirror_mode": {
    "name": "ipython",
    "version": 2
   },
   "file_extension": ".py",
   "mimetype": "text/x-python",
   "name": "python",
   "nbconvert_exporter": "python",
   "pygments_lexer": "ipython2",
   "version": "2.7.6"
  }
 },
 "nbformat": 4,
 "nbformat_minor": 0
}
