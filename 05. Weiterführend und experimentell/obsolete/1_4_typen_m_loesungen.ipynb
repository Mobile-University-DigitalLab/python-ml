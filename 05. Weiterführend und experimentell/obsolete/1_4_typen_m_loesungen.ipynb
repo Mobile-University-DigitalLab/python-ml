{
 "cells": [
  {
   "cell_type": "markdown",
   "source": [
    "# Daten-Typen\n",
    "\n",
    "Variablen können ganz unterschiedliche Werte aufnehmen.\n",
    "Bereits kennengelernt haben wir Ganzzahlen, Fließkommazahlen oder Strings und Arrays (die in Python als Liste bezeichnet werden).\n",
    "\n",
    "![image](../img/daten_typen.png)"
   ],
   "metadata": {
    "collapsed": false
   }
  },
  {
   "cell_type": "markdown",
   "source": [
    "In der Programmierung werden Daten-Typen unterschieden, um\n",
    "\n",
    "=> den unterschiedlichen Eigenschaften der Daten Rechnung zu tragen\n",
    "=> Speicherplatz zu optimieren\n",
    "=> zu wissen, wie auf die Daten zugegriffen wird\n",
    "=> spezielle Operationen je Datentyp zu ermöglichen\n",
    "\n",
    "Der Datentyp einer Variablen - genauer, des Inhalts der Variablen - kann über die type() Funktion ermittelt werden.\n"
   ],
   "metadata": {
    "collapsed": false
   }
  },
  {
   "cell_type": "code",
   "execution_count": 1,
   "outputs": [],
   "source": [
    "# Wir wollen nachher \"Pi\" anzeigen, dabei hilft uns das Paket 'math'\n",
    "import math"
   ],
   "metadata": {
    "collapsed": false
   }
  },
  {
   "cell_type": "markdown",
   "source": [
    "# Daten-Typ 'Ganzzahl'"
   ],
   "metadata": {
    "collapsed": false
   }
  },
  {
   "cell_type": "code",
   "execution_count": 2,
   "outputs": [
    {
     "name": "stdout",
     "output_type": "stream",
     "text": [
      "42  hat den Daten-Typ <class 'int'>\n"
     ]
    }
   ],
   "source": [
    "# Ganzzahl\n",
    "ganz_zahl = 42\n",
    "print (ganz_zahl, \" hat den Daten-Typ\", type(ganz_zahl))"
   ],
   "metadata": {
    "collapsed": false
   }
  },
  {
   "cell_type": "markdown",
   "source": [
    "# Daten-Typ 'Fließkommazahl'"
   ],
   "metadata": {
    "collapsed": false
   }
  },
  {
   "cell_type": "code",
   "execution_count": 3,
   "outputs": [
    {
     "name": "stdout",
     "output_type": "stream",
     "text": [
      "3.141592653589793  hat den Daten-Typ <class 'float'>\n"
     ]
    }
   ],
   "source": [
    "# Fließkomma-Zahl\n",
    "fliess_komma_zahl = math.pi\n",
    "print (fliess_komma_zahl, \" hat den Daten-Typ\", type(fliess_komma_zahl))"
   ],
   "metadata": {
    "collapsed": false
   }
  },
  {
   "cell_type": "markdown",
   "source": [
    "# Daten-Typ 'String'"
   ],
   "metadata": {
    "collapsed": false
   }
  },
  {
   "cell_type": "code",
   "execution_count": 4,
   "outputs": [
    {
     "name": "stdout",
     "output_type": "stream",
     "text": [
      "Text  hat den Daten-Typ <class 'str'>\n"
     ]
    }
   ],
   "source": [
    "# String\n",
    "string_variable = \"Text\"\n",
    "print (string_variable, \" hat den Daten-Typ\", type(string_variable))"
   ],
   "metadata": {
    "collapsed": false
   }
  },
  {
   "cell_type": "markdown",
   "source": [
    "# Daten-Typ 'Liste'"
   ],
   "metadata": {
    "collapsed": false
   }
  },
  {
   "cell_type": "code",
   "execution_count": 5,
   "outputs": [
    {
     "name": "stdout",
     "output_type": "stream",
     "text": [
      "[3, 5, 7, 11, 90]  hat den Daten-Typ <class 'list'>\n"
     ]
    }
   ],
   "source": [
    "# Liste\n",
    "# Eine Liste ist 'mutable'. D.h. die Werte einer Liste können verändert werden.\n",
    "array_variable = [3, 5, 7, 11, 90]\n",
    "print (array_variable, \" hat den Daten-Typ\", type(array_variable))"
   ],
   "metadata": {
    "collapsed": false
   }
  },
  {
   "cell_type": "markdown",
   "source": [
    "# Daten-Typ 'Dictionary'"
   ],
   "metadata": {
    "collapsed": false
   }
  },
  {
   "cell_type": "code",
   "execution_count": 6,
   "outputs": [
    {
     "name": "stdout",
     "output_type": "stream",
     "text": [
      "{'First': 'John', 'Last': 'Doe', 'Age': 23}  hat den Daten-Typ <class 'dict'>\n"
     ]
    }
   ],
   "source": [
    "# Dictionary\n",
    "dictionary_variable = {'First': 'John', 'Last': 'Doe', 'Age': 23}\n",
    "print (dictionary_variable, \" hat den Daten-Typ\", type(dictionary_variable))"
   ],
   "metadata": {
    "collapsed": false
   }
  },
  {
   "cell_type": "markdown",
   "source": [
    "# Daten-Typ 'Tupel'"
   ],
   "metadata": {
    "collapsed": false
   }
  },
  {
   "cell_type": "code",
   "execution_count": 7,
   "outputs": [
    {
     "name": "stdout",
     "output_type": "stream",
     "text": [
      "('Marta', 'Muster', 23)  hat den Daten-Typ <class 'tuple'>\n"
     ]
    }
   ],
   "source": [
    "# Tupel\n",
    "# Ein Tupel ist 'immutable'. D.h. die Werte eines Tupels können nachträglich NICHT verändert werden.\n",
    "tuple_variable = ('Marta', 'Muster', 23)\n",
    "print (tuple_variable, \" hat den Daten-Typ\", type(tuple_variable))"
   ],
   "metadata": {
    "collapsed": false
   }
  },
  {
   "cell_type": "markdown",
   "source": [
    "# Daten-Typ 'Boolean'"
   ],
   "metadata": {
    "collapsed": false
   }
  },
  {
   "cell_type": "code",
   "execution_count": 8,
   "outputs": [
    {
     "name": "stdout",
     "output_type": "stream",
     "text": [
      "True  hat den Daten-Typ <class 'bool'>\n"
     ]
    }
   ],
   "source": [
    "# Boolscher Wert\n",
    "boolsche_variable = True\n",
    "print (boolsche_variable, \" hat den Daten-Typ\", type(boolsche_variable))"
   ],
   "metadata": {
    "collapsed": false
   }
  },
  {
   "cell_type": "markdown",
   "source": [
    "## Aufgabe\n",
    "\n",
    "Probieren Sie es selber aus.\n",
    "Erstellen Sie eine Variable, die die Werte 'Mobile University', 'Riedlingen' und 25 enthält.\n",
    "\n",
    "=> Wieviele Möglichkeiten haben Sie?\n",
    "=> Welche?"
   ],
   "metadata": {
    "collapsed": false
   }
  },
  {
   "cell_type": "code",
   "execution_count": 9,
   "outputs": [
    {
     "data": {
      "text/plain": "(['Mobile University', 'Riedlingen', 25],\n ('Mobile University', 'Riedlingen', 25),\n {'Uni': 'Mobile University', 'Ort': 'Riedlingen', 'Jubiläum': 25})"
     },
     "execution_count": 9,
     "metadata": {},
     "output_type": "execute_result"
    }
   ],
   "source": [
    "# Erstellen Sie eine Variable, die die Werte 'Mobile University', 'Riedlingen' und 25 enthält.\n",
    "liste = ['Mobile University', 'Riedlingen', 25]\n",
    "tupel = ('Mobile University', 'Riedlingen', 25)\n",
    "dictionary = {'Uni': 'Mobile University', 'Ort': 'Riedlingen', 'Jubiläum': 25}\n",
    "liste, tupel, dictionary"
   ],
   "metadata": {
    "collapsed": false
   }
  },
  {
   "cell_type": "markdown",
   "source": [
    "## Werte auslesen\n",
    "\n",
    "Bei den Daten-Typen liste, tupel und dictionary kann man die Werte direkt referenzieren:"
   ],
   "metadata": {
    "collapsed": false
   }
  },
  {
   "cell_type": "code",
   "execution_count": 10,
   "outputs": [
    {
     "name": "stdout",
     "output_type": "stream",
     "text": [
      "Mobile University\n",
      "25\n",
      "Riedlingen\n"
     ]
    }
   ],
   "source": [
    "liste = ['Mobile University', 'Riedlingen', 25]\n",
    "tupel = ('Mobile University', 'Riedlingen', 25)\n",
    "dictionary = {'Uni': 'Mobile University', 'Ort': 'Riedlingen', 'Jubiläum': 25}\n",
    "\n",
    "print(liste[0])\n",
    "print(tupel[2])\n",
    "print(dictionary['Ort'])"
   ],
   "metadata": {
    "collapsed": false
   }
  },
  {
   "cell_type": "markdown",
   "source": [
    "=> Bei Listen und Tupeln werden die Elemente anhand ihrer Position geladen.\n",
    "=> Bei Dictionaries werden die Elemente anhand ihres Bezeichners geladen."
   ],
   "metadata": {
    "collapsed": false
   }
  },
  {
   "cell_type": "markdown",
   "source": [
    "# Daten-Typen konvertieren\n",
    "\n",
    "Python ist eine stark dynamisch typisierte Sprache.\n",
    "\n",
    "## Aha? Starke Typisierung? Dynamische Typisierung?\n",
    "\n",
    "- Starke Typisierung bedeutet, dass keine unerwarteten (internen, automatischen) Typ-Umwandlungen stattfinden. Alles muss ausdrücklich umgewandelt werden. Dies kann explizit oder implizit erfolgen (s.u.).\n",
    "- Dynamische Typisierung bedeutet, dass einer Variable dynamisch - also während der Laufzeit des Programms - ein Wert mit einem anderen Typ zugewiesen werden kann.\n"
   ],
   "metadata": {
    "collapsed": false
   }
  },
  {
   "cell_type": "markdown",
   "source": [
    "### Explizite Daten-Typ-Konvertierung"
   ],
   "metadata": {
    "collapsed": false
   }
  },
  {
   "cell_type": "code",
   "execution_count": 11,
   "outputs": [
    {
     "name": "stdout",
     "output_type": "stream",
     "text": [
      "Datentyp von num_string vor Type-Konvertierung: <class 'str'>\n",
      "Datentyp von num_string nach Type-Konvertierung: <class 'int'>\n"
     ]
    }
   ],
   "source": [
    "# Explizite Daten-Typ-Konvertierung\n",
    "num_string = '12'\n",
    "num_integer = 23\n",
    "\n",
    "print(\"Datentyp von num_string vor Type-Konvertierung:\",type(num_string))\n",
    "\n",
    "# explizite Typumwandlung\n",
    "num_string = int(num_string)\n",
    "\n",
    "print(\"Datentyp von num_string nach Type-Konvertierung:\",type(num_string))"
   ],
   "metadata": {
    "collapsed": false
   }
  },
  {
   "cell_type": "markdown",
   "source": [
    "### Implizite Daten-Typ-Konvertierung"
   ],
   "metadata": {
    "collapsed": false
   }
  },
  {
   "cell_type": "code",
   "execution_count": 12,
   "outputs": [
    {
     "name": "stdout",
     "output_type": "stream",
     "text": [
      "integer_var hat den Daten-Typ <class 'int'>\n",
      "float_var hat den Daten-Typ <class 'float'>\n",
      "summe hat den Daten-Typ <class 'float'>\n"
     ]
    }
   ],
   "source": [
    "# Implizite Daten-Typ-Konvertierung\n",
    "integer_var = 23\n",
    "float_var = 3.141\n",
    "\n",
    "summe = integer_var + float_var\n",
    "print (\"integer_var hat den Daten-Typ\", type(integer_var))\n",
    "print (\"float_var hat den Daten-Typ\", type(float_var))\n",
    "print (\"summe hat den Daten-Typ\", type(summe))"
   ],
   "metadata": {
    "collapsed": false
   }
  },
  {
   "cell_type": "markdown",
   "source": [
    "### Dynamische Typisierung\n",
    "\n",
    "Python ist dynamisch typisiert. Das bedeutet, wir sind nicht gezwungen, einer Variablen immer Inhalte mit demselben Datentyp zuzuweisen.\n",
    "\n",
    "Das ist einerseits praktisch, da man nicht darauf achten muss.\n",
    "Allerdings kann das ziemlich schnell zu Verwirrung führen."
   ],
   "metadata": {
    "collapsed": false
   }
  },
  {
   "cell_type": "code",
   "execution_count": 13,
   "outputs": [
    {
     "name": "stdout",
     "output_type": "stream",
     "text": [
      "string_variable hat den Daten-Typ <class 'str'>\n",
      "string_variable hat den Daten-Typ <class 'int'>\n"
     ]
    }
   ],
   "source": [
    "# Dynamische Typisierung\n",
    "\n",
    "string_variable = \"Ich bin ganz sicher ein String?\"\n",
    "print (\"string_variable hat den Daten-Typ\", type(string_variable))\n",
    "\n",
    "string_variable = 42\n",
    "print (\"string_variable hat den Daten-Typ\", type(string_variable))\n"
   ],
   "metadata": {
    "collapsed": false
   }
  },
  {
   "cell_type": "markdown",
   "source": [
    "=> Durch die zweite Zuweisung hat sich der Daten-Typ von 'str' auf 'int' verändert.\n",
    "=> Die Variable heißt aber immer noch string_variable.\n",
    "=> Ein Leser des Codes könnte hierdurch verwirrt werden."
   ],
   "metadata": {
    "collapsed": false
   }
  },
  {
   "cell_type": "markdown",
   "source": [
    "## Exkurs: Type-Hints\n",
    "\n",
    "Seit Python 3.6 gibt es die Möglichkeit Python \"Hinweise\" (engl.: hints) mitzugeben, welchen Daten-Typ eine Variable haben soll. Bei der Verarbeitung zur Laufzeit ändert dies zunächst nichts. Jedoch können Programme wie 'mypy' - aber auch das IDE PyCharm - dann den Programm-Code durchgehen und nach solchen unerwarteten Daten-Typ-Änderungen suchen.\n",
    "Siehe auch:\n",
    "[Infos zu Type-Hints bei heise.de](https://www.heise.de/hintergrund/Explizite-Typangaben-in-Python-Segen-oder-Fluch-3964094.html)\n",
    "\n",
    "Anstelle von\n",
    "=> string_variable = \"Text\"\n",
    "\n",
    "schreibt man dann:\n",
    "=> string_variable: str = \"Text\"\n"
   ],
   "metadata": {
    "collapsed": false
   }
  },
  {
   "cell_type": "code",
   "execution_count": 14,
   "outputs": [],
   "source": [
    "# Ohne Type-Hint\n",
    "string_variable = \"Text\"\n",
    "# Mit Type-Hint\n",
    "string_variable: str = \"Text\"\n",
    "\n",
    "# Obacht: Wie gesagt, das ist nur ein Hinweis, der nachträglich durch ein Programm geprüft wird.\n",
    "# Eine Zuweisung von Daten anderen Typs ist weiterhin möglich.\n",
    "string_variable = 42"
   ],
   "metadata": {
    "collapsed": false
   }
  },
  {
   "cell_type": "code",
   "execution_count": 14,
   "outputs": [],
   "source": [],
   "metadata": {
    "collapsed": false
   }
  }
 ],
 "metadata": {
  "kernelspec": {
   "display_name": "Python 3",
   "language": "python",
   "name": "python3"
  },
  "language_info": {
   "codemirror_mode": {
    "name": "ipython",
    "version": 2
   },
   "file_extension": ".py",
   "mimetype": "text/x-python",
   "name": "python",
   "nbconvert_exporter": "python",
   "pygments_lexer": "ipython2",
   "version": "2.7.6"
  }
 },
 "nbformat": 4,
 "nbformat_minor": 0
}
